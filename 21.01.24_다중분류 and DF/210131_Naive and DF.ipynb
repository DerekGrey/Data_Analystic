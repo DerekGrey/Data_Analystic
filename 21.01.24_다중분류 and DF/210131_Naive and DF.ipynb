{
 "cells": [
  {
   "cell_type": "markdown",
   "metadata": {},
   "source": [
    "### 나이브 베이즈 분류기"
   ]
  },
  {
   "cell_type": "code",
   "execution_count": 2,
   "metadata": {},
   "outputs": [],
   "source": [
    "from scipy import sparse\n",
    "import numpy as np\n",
    "%matplotlib inline\n",
    "import pandas as pd\n",
    "import matplotlib \n",
    "import scipy as sp\n",
    "import matplotlib.pyplot as plt\n",
    "import IPython\n",
    "import sklearn\n",
    "import mglearn\n",
    "from sklearn.model_selection import train_test_split"
   ]
  },
  {
   "cell_type": "code",
   "execution_count": 1,
   "metadata": {},
   "outputs": [],
   "source": [
    "#나이브 베이즈 분류기\n",
    "\n",
    "#Naive Bayes 앞의 선형 모델과 유사함. LR(선형회귀) 나 LinearSVC 선형 분류기보다는 훈련 속도가 빠르지만,\n",
    "#일반화 성능이 조금은 뒤쳐짐.\n",
    "\n",
    "#나이브 베이즈 장점\n",
    "#각 특성을 개별로 취급해 파라미터를 학습하고, 각 특성에서 클래스 별 통계를 단순하게 취합하기 떄문임.\n",
    "#Sklearn 분류기는 1. GaussianNB, BernoullinNB, MultinominalNB 3가지임.\n",
    "\n",
    "#가우시안 -> 연속적인 어떤 데이터에도 적용 가능\n",
    "#베눌린NB는 -> 이진 데이터\n",
    "#멀티노미널NB -> 카운트 데이터(특성이 어떤 것을 헤아린 정수 카운트) -> 예를 들면 문장에 나타난 단어의 횟수.\n",
    "#버눌린과 멀티노미널은 대부분 텍스트 데이터 분류에 사용됨.\n",
    "\n",
    "#BernoulliNB 분류기는 각 클래스의 특성 중 0이 아닌 것이 몇 개 인지 셈."
   ]
  },
  {
   "cell_type": "code",
   "execution_count": 10,
   "metadata": {},
   "outputs": [],
   "source": [
    "X = np.array([[0, 1, 0, 1],\n",
    "              [1, 0, 1, 1],\n",
    "              [0, 0, 0, 1],\n",
    "              [1, 0, 1, 0],\n",
    "             ])\n",
    "y = np.array([0, 1, 0, 1])"
   ]
  },
  {
   "cell_type": "code",
   "execution_count": 11,
   "metadata": {},
   "outputs": [
    {
     "data": {
      "text/plain": [
       "array([[0, 1, 0, 1],\n",
       "       [1, 0, 1, 1],\n",
       "       [0, 0, 0, 1],\n",
       "       [1, 0, 1, 0]])"
      ]
     },
     "execution_count": 11,
     "metadata": {},
     "output_type": "execute_result"
    }
   ],
   "source": [
    "X"
   ]
  },
  {
   "cell_type": "code",
   "execution_count": 12,
   "metadata": {},
   "outputs": [],
   "source": [
    "#이진 특성을 4개 가진 데이터 포인트 4개가 존재. 클래스는 0과 1 두 개임.\n",
    "#y의 클래스가 0인 경우(1,3번째) / 첫번째 특성은 0이 두 번임. 0이 아닌것이 한 번도 없음.\n",
    "#두번째 특성은 0 이 한 번이고, 1도 한번임. 같은 방식으로 두 번째 ㅋ르래스에 해당하는 데이터 포엔트에 대해서도 계산\n",
    "#클래스별로 0이 아닌 원소를 세는 과정을 요약"
   ]
  },
  {
   "cell_type": "code",
   "execution_count": 13,
   "metadata": {},
   "outputs": [
    {
     "name": "stdout",
     "output_type": "stream",
     "text": [
      "특성 카운트 : \n",
      " {0: array([0, 1, 0, 2]), 1: array([2, 0, 2, 1])}\n"
     ]
    }
   ],
   "source": [
    "counts = {}\n",
    "for label in np.unique(y):\n",
    "    #각 클래스에 대해 반복\n",
    "    #특성마다 1이 나타난 횟수를 센다.\n",
    "    counts[label] = X[y == label].sum(axis=0)\n",
    "print(\"특성 카운트 : \\n\", counts)"
   ]
  },
  {
   "cell_type": "code",
   "execution_count": 14,
   "metadata": {},
   "outputs": [],
   "source": [
    "#mULTIONOMIAL NB는 클래스별로 특성의 평균을 계산.\n",
    "#GaussianNB는 클래스 별로 각 특성의 표준편차와 평균을 저장함.\n",
    "#가우시안은 예측할 때 데이터 포인트를 클래스의 통계 값과 비교해서 가장 잘 맞는 클래스를 예측값으로 함.\n",
    "#나이브 베이즈 모델의 coef_는 기울기 w가 아니라서, 선형 모델과는 의미가다르다."
   ]
  },
  {
   "cell_type": "code",
   "execution_count": 16,
   "metadata": {},
   "outputs": [],
   "source": [
    "#장단점과 매개변수\n",
    "\n",
    "#MultionominalNB와 BernoulliNB 는 모델의 복잡도를 조절하는 alpha 매개 변수 하나를 가지고 있음\n",
    "#alpha가 주어지면, 알고리즘이 모든 특성에 양의 값을 가진 가상의 데이터 포인트를 alpha 개수만큼 추가함.\n",
    "#통계 데이터를 완만하게 만듦, alpha가 크면 더 완만해지고 모델의 복잡도는 낮아진다.\n",
    "#alpha에 따른 알고리즘 성능 변동은 비교적 크지 않아서, alpha 값이 성능 향상에 크게 기여하지 않음.\n",
    "#그러나, 이 값을 조정하면 어느 정도 정확도를 높일 수 있음.\n",
    "\n",
    "#GaussianNB는 대부분 매우 고차원인 데이터셋에 사용하고, \n",
    "#다른 두 나이브 베이즈 모델은 텍스트 같은 희소한 데이터 카운트를 사용\n",
    "#multionomialNB는 보통 0이 아닌 특성이 비교적 많은 데이터셋(큰 문서들) 에서 BernoulliNB보다 성능이 높음\n",
    "\n",
    "#나이브벵지ㅡ 모델과 선형모델의 장단점은 비슷함, 훈련과 예측 속도가 빠르며 훈련과정을 이해하기 쉬움\n",
    "#희소한 고차원 데이터에서 잘 작동하며, 비교적 매개변수에 민감하지 않음."
   ]
  },
  {
   "cell_type": "code",
   "execution_count": null,
   "metadata": {},
   "outputs": [],
   "source": []
  },
  {
   "cell_type": "markdown",
   "metadata": {},
   "source": [
    "#### 결정 트리"
   ]
  },
  {
   "cell_type": "code",
   "execution_count": 17,
   "metadata": {},
   "outputs": [],
   "source": [
    "#분류와 회귀 문제에 널리 사용되는 디시전 트리\n",
    "#질문형식(스무고개) 매/펭귄을 구분하기 위해서, 날 수 있는가 없는가로 분류 <->"
   ]
  },
  {
   "cell_type": "code",
   "execution_count": 18,
   "metadata": {},
   "outputs": [
    {
     "data": {
      "image/png": "[encoded data removed]",
      "text/plain": [
       "<Figure size 432x288 with 1 Axes>"
      ]
     },
     "metadata": {
      "needs_background": "light"
     },
     "output_type": "display_data"
    }
   ],
   "source": [
    "mglearn.plots.plot_animal_tree()"
   ]
  },
  {
   "cell_type": "code",
   "execution_count": 19,
   "metadata": {},
   "outputs": [],
   "source": [
    "#DT의 마지막 노드는 leaf 라고도 함.\n",
    "#에지는 질문의 답과 다음 질문을 연결함"
   ]
  },
  {
   "cell_type": "code",
   "execution_count": 20,
   "metadata": {},
   "outputs": [],
   "source": [
    "#DT 트리 알고리즘은 가능한 모든 테스트에서 타깃값에 대해 갖아 많은 정보를 가진것을 고름.\n",
    "#데이터셋을 x[1] = 0.06에서 수평으로 나누는 것이 가장 많은 정보를 포함함.\n",
    "#즉, 이 직선이 클래스 0에 속한 포인트와 클래스 1에 속한 포인트를 가장 잘 나눔"
   ]
  },
  {
   "cell_type": "code",
   "execution_count": 23,
   "metadata": {},
   "outputs": [],
   "source": [
    "#맨 첫번째는 root node \n",
    "#ex: 데이터가 100개고, 클래스가 2개면 root node는 counts[50,50] 으로 나눔.(구분이 된다면)\n",
    "#x[1] <= 0.06 에 통과하면 True / False 로 나누어짐\n",
    "\n",
    "#그래서 해석은 counts = [2,32] / [48, 18] 이면\n",
    "# 0과 1로 나누는것, 왼쪽은 0인게 2개/ 오른쪽은 왼쪽인게 48개 임"
   ]
  },
  {
   "cell_type": "code",
   "execution_count": 24,
   "metadata": {},
   "outputs": [],
   "source": [
    "#DT의 반복된 프로세스는 각 노드가 테스트 하나씩을 가진 이진 결정 트리를 만듦.\n",
    "# 쉽게 말하면, 하나의 축을 따라 데이터를 둘로 나눔.\n",
    "#한 개의 타깃값(하나의 클래스나 하나의 회귀 분석) 결과를 가질때까지 반복됨. 타깃 하나로만 이뤄진 리프 노드를\n",
    "#순수 노드라고 부른다."
   ]
  },
  {
   "cell_type": "code",
   "execution_count": 25,
   "metadata": {},
   "outputs": [],
   "source": [
    "#새로운 데이터에 대한 예측은 -> 주어진 데이터 포인트가 특성을 분할한 영역들 중 어디에 놓이는지 확인하면 됨.\n",
    "#회귀 문제에서도 사용 가능\n",
    "#예측을 하려면, 각 노드의 테스트 결과에 따라 트리를 탐색해나고 새로운 데이터 포인트에 해당하는 리프 노드를 찾음.\n",
    "#찾은 리프 노드의 훈련 데이터 평균값이 이 데이터 포인트의 출력이 된다."
   ]
  },
  {
   "cell_type": "markdown",
   "metadata": {},
   "source": [
    "#### 결정 트리 복잡도 제어"
   ]
  },
  {
   "cell_type": "code",
   "execution_count": 26,
   "metadata": {},
   "outputs": [],
   "source": [
    "# 모든 리프 노드(마지막)이 순수노드(타깃 하나) 까지는 모델이 복잡해지고, 훈련에 과대적합됨.\n",
    "#순수 노드 트리는 훈련 세트에 100% 정확하게 맞는 다는 의미임.\n",
    "#이럴때는, 결정 경계(=클래스 구분짓는 피처의 값들)이, '클래스 포인트들' 이상치 하나에 너무 민감하게 반응함."
   ]
  },
  {
   "cell_type": "code",
   "execution_count": 27,
   "metadata": {},
   "outputs": [],
   "source": [
    "#과대적합을 막는 전략은 2가지임.\n",
    "\n",
    "#1. 사전 가지 치기 와 DF의 데이터 포인트가 적은 노드를 삭제하거나 병합함(=사후 가지치기 또는 가지치기)\n",
    "#1. 사전은 말 그대로 최대 깊이나 리프의 최대 게수를 제한함.\n",
    "#또한, 노드가 분할하기 위한 포인트의 최소 개수를 지정하는 것임.\n",
    "#또는 노드가 분할하기 위한 포인트의 최소 개수를 지정하는 것임."
   ]
  },
  {
   "cell_type": "code",
   "execution_count": 28,
   "metadata": {},
   "outputs": [],
   "source": [
    "#sklearn 에서 결정 트리는 DecisionTreeRegressor 와 DecisionTreeClassifier에 구현되어 있음"
   ]
  },
  {
   "cell_type": "code",
   "execution_count": 34,
   "metadata": {},
   "outputs": [],
   "source": [
    "from sklearn.tree import DecisionTreeClassifier\n",
    "from sklearn.datasets import load_breast_cancer\n"
   ]
  },
  {
   "cell_type": "code",
   "execution_count": 39,
   "metadata": {},
   "outputs": [
    {
     "name": "stdout",
     "output_type": "stream",
     "text": [
      "훈련 세트 정확도 : 1.000\n",
      "테스트 세트 정확도 : 0.937\n"
     ]
    }
   ],
   "source": [
    "cancer = load_breast_cancer()\n",
    "X_train, X_test, y_train, y_test = train_test_split(\n",
    "        cancer.data, cancer.target, stratify=cancer.target, random_state = 42)\n",
    "#random_state 옵션을 고정해 만들어진 트리를 같은 조건으로 비교\n",
    "tree = DecisionTreeClassifier(random_state=0)\n",
    "tree.fit(X_train, y_train)\n",
    "\n",
    "print(\"훈련 세트 정확도 : {:.3f}\".format(tree.score(X_train, y_train)))\n",
    "print(\"테스트 세트 정확도 : {:.3f}\".format(tree.score(X_test, y_test)))"
   ]
  },
  {
   "cell_type": "code",
   "execution_count": 41,
   "metadata": {},
   "outputs": [],
   "source": [
    "#모든 리프 노드가 순수 노드라, 훈련 세트 정확도가 100% 임.\n",
    "#-> 가지치기를 끝까지 함. \n",
    "#결정 트리 깊이를 제한해줘야해, 가지치기 하지 않으면 트리는 과대적합 되고 새로운 데이터에 일반화가 불가함.\n",
    "#max_depth=4 옵션을 주어 연속된 질문을 최대 4개로 제한함.\n",
    "#과대적합 방지, 훈련 세트 정확도를 떨어트리지만 테스트 세트의 성능은 개선시킨다."
   ]
  },
  {
   "cell_type": "code",
   "execution_count": 42,
   "metadata": {},
   "outputs": [
    {
     "data": {
      "text/plain": [
       "DecisionTreeClassifier(ccp_alpha=0.0, class_weight=None, criterion='gini',\n",
       "                       max_depth=4, max_features=None, max_leaf_nodes=None,\n",
       "                       min_impurity_decrease=0.0, min_impurity_split=None,\n",
       "                       min_samples_leaf=1, min_samples_split=2,\n",
       "                       min_weight_fraction_leaf=0.0, presort='deprecated',\n",
       "                       random_state=0, splitter='best')"
      ]
     },
     "execution_count": 42,
     "metadata": {},
     "output_type": "execute_result"
    }
   ],
   "source": [
    "tree = DecisionTreeClassifier(max_depth=4, random_state=0)\n",
    "tree.fit(X_train, y_train)"
   ]
  },
  {
   "cell_type": "code",
   "execution_count": 43,
   "metadata": {},
   "outputs": [
    {
     "name": "stdout",
     "output_type": "stream",
     "text": [
      "훈련 세트 정확도 : 0.988\n",
      "테스트 세트 정확도 : 0.951\n"
     ]
    }
   ],
   "source": [
    "print(\"훈련 세트 정확도 : {:.3f}\".format(tree.score(X_train, y_train)))\n",
    "print(\"테스트 세트 정확도 : {:.3f}\".format(tree.score(X_test, y_test)))"
   ]
  },
  {
   "cell_type": "markdown",
   "metadata": {},
   "source": [
    "##### 결정 트리 분석"
   ]
  },
  {
   "cell_type": "code",
   "execution_count": 44,
   "metadata": {},
   "outputs": [],
   "source": [
    "#트리는 export_graphviz 함수를 이용해 트리를 시각화함, 그래프 저장용 텍스트 파일 포맷 .dot 파일을 만듦\n",
    "#클래스를 색으로 나타내기 위해 옵션을 주고, 적절히 레이블되도록 클래스 이름과 특성이름을 매개변수로 전달함"
   ]
  },
  {
   "cell_type": "code",
   "execution_count": 59,
   "metadata": {},
   "outputs": [],
   "source": [
    "from sklearn.tree import export_graphviz\n",
    "\n",
    "export_graphviz(tree, out_file=\"Tree.dot\", class_names=[\"악성\", \"양성\"], #0과 1이겠지(이진 분류)\n",
    "              feature_names=cancer.feature_names, impurity=False, filled=True)"
   ]
  },
  {
   "cell_type": "code",
   "execution_count": 52,
   "metadata": {},
   "outputs": [
    {
     "data": {
      "text/plain": [
       "<function sklearn.tree._export.export_graphviz(decision_tree, out_file=None, max_depth=None, feature_names=None, class_names=None, label='all', filled=False, leaves_parallel=False, impurity=True, node_ids=False, proportion=False, rotate=False, rounded=False, special_characters=False, precision=3)>"
      ]
     },
     "execution_count": 52,
     "metadata": {},
     "output_type": "execute_result"
    }
   ],
   "source": [
    "export_graphviz"
   ]
  },
  {
   "cell_type": "code",
   "execution_count": 57,
   "metadata": {},
   "outputs": [
    {
     "data": {
      "text/plain": [
       "array(['mean radius', 'mean texture', 'mean perimeter', 'mean area',\n",
       "       'mean smoothness', 'mean compactness', 'mean concavity',\n",
       "       'mean concave points', 'mean symmetry', 'mean fractal dimension',\n",
       "       'radius error', 'texture error', 'perimeter error', 'area error',\n",
       "       'smoothness error', 'compactness error', 'concavity error',\n",
       "       'concave points error', 'symmetry error',\n",
       "       'fractal dimension error', 'worst radius', 'worst texture',\n",
       "       'worst perimeter', 'worst area', 'worst smoothness',\n",
       "       'worst compactness', 'worst concavity', 'worst concave points',\n",
       "       'worst symmetry', 'worst fractal dimension'], dtype='<U23')"
      ]
     },
     "execution_count": 57,
     "metadata": {},
     "output_type": "execute_result"
    }
   ],
   "source": [
    "#특성이 뭐뭐있는데요\n",
    "cancer.feature_names"
   ]
  },
  {
   "cell_type": "code",
   "execution_count": 58,
   "metadata": {},
   "outputs": [
    {
     "data": {
      "text/plain": [
       "{'data': array([[1.799e+01, 1.038e+01, 1.228e+02, ..., 2.654e-01, 4.601e-01,\n",
       "         1.189e-01],\n",
       "        [2.057e+01, 1.777e+01, 1.329e+02, ..., 1.860e-01, 2.750e-01,\n",
       "         8.902e-02],\n",
       "        [1.969e+01, 2.125e+01, 1.300e+02, ..., 2.430e-01, 3.613e-01,\n",
       "         8.758e-02],\n",
       "        ...,\n",
       "        [1.660e+01, 2.808e+01, 1.083e+02, ..., 1.418e-01, 2.218e-01,\n",
       "         7.820e-02],\n",
       "        [2.060e+01, 2.933e+01, 1.401e+02, ..., 2.650e-01, 4.087e-01,\n",
       "         1.240e-01],\n",
       "        [7.760e+00, 2.454e+01, 4.792e+01, ..., 0.000e+00, 2.871e-01,\n",
       "         7.039e-02]]),\n",
       " 'target': array([0, 0, 0, 0, 0, 0, 0, 0, 0, 0, 0, 0, 0, 0, 0, 0, 0, 0, 0, 1, 1, 1,\n",
       "        0, 0, 0, 0, 0, 0, 0, 0, 0, 0, 0, 0, 0, 0, 0, 1, 0, 0, 0, 0, 0, 0,\n",
       "        0, 0, 1, 0, 1, 1, 1, 1, 1, 0, 0, 1, 0, 0, 1, 1, 1, 1, 0, 1, 0, 0,\n",
       "        1, 1, 1, 1, 0, 1, 0, 0, 1, 0, 1, 0, 0, 1, 1, 1, 0, 0, 1, 0, 0, 0,\n",
       "        1, 1, 1, 0, 1, 1, 0, 0, 1, 1, 1, 0, 0, 1, 1, 1, 1, 0, 1, 1, 0, 1,\n",
       "        1, 1, 1, 1, 1, 1, 1, 0, 0, 0, 1, 0, 0, 1, 1, 1, 0, 0, 1, 0, 1, 0,\n",
       "        0, 1, 0, 0, 1, 1, 0, 1, 1, 0, 1, 1, 1, 1, 0, 1, 1, 1, 1, 1, 1, 1,\n",
       "        1, 1, 0, 1, 1, 1, 1, 0, 0, 1, 0, 1, 1, 0, 0, 1, 1, 0, 0, 1, 1, 1,\n",
       "        1, 0, 1, 1, 0, 0, 0, 1, 0, 1, 0, 1, 1, 1, 0, 1, 1, 0, 0, 1, 0, 0,\n",
       "        0, 0, 1, 0, 0, 0, 1, 0, 1, 0, 1, 1, 0, 1, 0, 0, 0, 0, 1, 1, 0, 0,\n",
       "        1, 1, 1, 0, 1, 1, 1, 1, 1, 0, 0, 1, 1, 0, 1, 1, 0, 0, 1, 0, 1, 1,\n",
       "        1, 1, 0, 1, 1, 1, 1, 1, 0, 1, 0, 0, 0, 0, 0, 0, 0, 0, 0, 0, 0, 0,\n",
       "        0, 0, 1, 1, 1, 1, 1, 1, 0, 1, 0, 1, 1, 0, 1, 1, 0, 1, 0, 0, 1, 1,\n",
       "        1, 1, 1, 1, 1, 1, 1, 1, 1, 1, 1, 0, 1, 1, 0, 1, 0, 1, 1, 1, 1, 1,\n",
       "        1, 1, 1, 1, 1, 1, 1, 1, 1, 0, 1, 1, 1, 0, 1, 0, 1, 1, 1, 1, 0, 0,\n",
       "        0, 1, 1, 1, 1, 0, 1, 0, 1, 0, 1, 1, 1, 0, 1, 1, 1, 1, 1, 1, 1, 0,\n",
       "        0, 0, 1, 1, 1, 1, 1, 1, 1, 1, 1, 1, 1, 0, 0, 1, 0, 0, 0, 1, 0, 0,\n",
       "        1, 1, 1, 1, 1, 0, 1, 1, 1, 1, 1, 0, 1, 1, 1, 0, 1, 1, 0, 0, 1, 1,\n",
       "        1, 1, 1, 1, 0, 1, 1, 1, 1, 1, 1, 1, 0, 1, 1, 1, 1, 1, 0, 1, 1, 0,\n",
       "        1, 1, 1, 1, 1, 1, 1, 1, 1, 1, 1, 1, 0, 1, 0, 0, 1, 0, 1, 1, 1, 1,\n",
       "        1, 0, 1, 1, 0, 1, 0, 1, 1, 0, 1, 0, 1, 1, 1, 1, 1, 1, 1, 1, 0, 0,\n",
       "        1, 1, 1, 1, 1, 1, 0, 1, 1, 1, 1, 1, 1, 1, 1, 1, 1, 0, 1, 1, 1, 1,\n",
       "        1, 1, 1, 0, 1, 0, 1, 1, 0, 1, 1, 1, 1, 1, 0, 0, 1, 0, 1, 0, 1, 1,\n",
       "        1, 1, 1, 0, 1, 1, 0, 1, 0, 1, 0, 0, 1, 1, 1, 0, 1, 1, 1, 1, 1, 1,\n",
       "        1, 1, 1, 1, 1, 0, 1, 0, 0, 1, 1, 1, 1, 1, 1, 1, 1, 1, 1, 1, 1, 1,\n",
       "        1, 1, 1, 1, 1, 1, 1, 1, 1, 1, 1, 1, 0, 0, 0, 0, 0, 0, 1]),\n",
       " 'target_names': array(['malignant', 'benign'], dtype='<U9'),\n",
       " 'DESCR': '.. _breast_cancer_dataset:\\n\\nBreast cancer wisconsin (diagnostic) dataset\\n--------------------------------------------\\n\\n**Data Set Characteristics:**\\n\\n    :Number of Instances: 569\\n\\n    :Number of Attributes: 30 numeric, predictive attributes and the class\\n\\n    :Attribute Information:\\n        - radius (mean of distances from center to points on the perimeter)\\n        - texture (standard deviation of gray-scale values)\\n        - perimeter\\n        - area\\n        - smoothness (local variation in radius lengths)\\n        - compactness (perimeter^2 / area - 1.0)\\n        - concavity (severity of concave portions of the contour)\\n        - concave points (number of concave portions of the contour)\\n        - symmetry \\n        - fractal dimension (\"coastline approximation\" - 1)\\n\\n        The mean, standard error, and \"worst\" or largest (mean of the three\\n        largest values) of these features were computed for each image,\\n        resulting in 30 features.  For instance, field 3 is Mean Radius, field\\n        13 is Radius SE, field 23 is Worst Radius.\\n\\n        - class:\\n                - WDBC-Malignant\\n                - WDBC-Benign\\n\\n    :Summary Statistics:\\n\\n    ===================================== ====== ======\\n                                           Min    Max\\n    ===================================== ====== ======\\n    radius (mean):                        6.981  28.11\\n    texture (mean):                       9.71   39.28\\n    perimeter (mean):                     43.79  188.5\\n    area (mean):                          143.5  2501.0\\n    smoothness (mean):                    0.053  0.163\\n    compactness (mean):                   0.019  0.345\\n    concavity (mean):                     0.0    0.427\\n    concave points (mean):                0.0    0.201\\n    symmetry (mean):                      0.106  0.304\\n    fractal dimension (mean):             0.05   0.097\\n    radius (standard error):              0.112  2.873\\n    texture (standard error):             0.36   4.885\\n    perimeter (standard error):           0.757  21.98\\n    area (standard error):                6.802  542.2\\n    smoothness (standard error):          0.002  0.031\\n    compactness (standard error):         0.002  0.135\\n    concavity (standard error):           0.0    0.396\\n    concave points (standard error):      0.0    0.053\\n    symmetry (standard error):            0.008  0.079\\n    fractal dimension (standard error):   0.001  0.03\\n    radius (worst):                       7.93   36.04\\n    texture (worst):                      12.02  49.54\\n    perimeter (worst):                    50.41  251.2\\n    area (worst):                         185.2  4254.0\\n    smoothness (worst):                   0.071  0.223\\n    compactness (worst):                  0.027  1.058\\n    concavity (worst):                    0.0    1.252\\n    concave points (worst):               0.0    0.291\\n    symmetry (worst):                     0.156  0.664\\n    fractal dimension (worst):            0.055  0.208\\n    ===================================== ====== ======\\n\\n    :Missing Attribute Values: None\\n\\n    :Class Distribution: 212 - Malignant, 357 - Benign\\n\\n    :Creator:  Dr. William H. Wolberg, W. Nick Street, Olvi L. Mangasarian\\n\\n    :Donor: Nick Street\\n\\n    :Date: November, 1995\\n\\nThis is a copy of UCI ML Breast Cancer Wisconsin (Diagnostic) datasets.\\nhttps://goo.gl/U2Uwz2\\n\\nFeatures are computed from a digitized image of a fine needle\\naspirate (FNA) of a breast mass.  They describe\\ncharacteristics of the cell nuclei present in the image.\\n\\nSeparating plane described above was obtained using\\nMultisurface Method-Tree (MSM-T) [K. P. Bennett, \"Decision Tree\\nConstruction Via Linear Programming.\" Proceedings of the 4th\\nMidwest Artificial Intelligence and Cognitive Science Society,\\npp. 97-101, 1992], a classification method which uses linear\\nprogramming to construct a decision tree.  Relevant features\\nwere selected using an exhaustive search in the space of 1-4\\nfeatures and 1-3 separating planes.\\n\\nThe actual linear program used to obtain the separating plane\\nin the 3-dimensional space is that described in:\\n[K. P. Bennett and O. L. Mangasarian: \"Robust Linear\\nProgramming Discrimination of Two Linearly Inseparable Sets\",\\nOptimization Methods and Software 1, 1992, 23-34].\\n\\nThis database is also available through the UW CS ftp server:\\n\\nftp ftp.cs.wisc.edu\\ncd math-prog/cpo-dataset/machine-learn/WDBC/\\n\\n.. topic:: References\\n\\n   - W.N. Street, W.H. Wolberg and O.L. Mangasarian. Nuclear feature extraction \\n     for breast tumor diagnosis. IS&T/SPIE 1993 International Symposium on \\n     Electronic Imaging: Science and Technology, volume 1905, pages 861-870,\\n     San Jose, CA, 1993.\\n   - O.L. Mangasarian, W.N. Street and W.H. Wolberg. Breast cancer diagnosis and \\n     prognosis via linear programming. Operations Research, 43(4), pages 570-577, \\n     July-August 1995.\\n   - W.H. Wolberg, W.N. Street, and O.L. Mangasarian. Machine learning techniques\\n     to diagnose breast cancer from fine-needle aspirates. Cancer Letters 77 (1994) \\n     163-171.',\n",
       " 'feature_names': array(['mean radius', 'mean texture', 'mean perimeter', 'mean area',\n",
       "        'mean smoothness', 'mean compactness', 'mean concavity',\n",
       "        'mean concave points', 'mean symmetry', 'mean fractal dimension',\n",
       "        'radius error', 'texture error', 'perimeter error', 'area error',\n",
       "        'smoothness error', 'compactness error', 'concavity error',\n",
       "        'concave points error', 'symmetry error',\n",
       "        'fractal dimension error', 'worst radius', 'worst texture',\n",
       "        'worst perimeter', 'worst area', 'worst smoothness',\n",
       "        'worst compactness', 'worst concavity', 'worst concave points',\n",
       "        'worst symmetry', 'worst fractal dimension'], dtype='<U23'),\n",
       " 'filename': 'C:\\\\Program Files\\\\Anaconda3\\\\lib\\\\site-packages\\\\sklearn\\\\datasets\\\\data\\\\breast_cancer.csv'}"
      ]
     },
     "execution_count": 58,
     "metadata": {},
     "output_type": "execute_result"
    }
   ],
   "source": [
    "cancer"
   ]
  },
  {
   "cell_type": "code",
   "execution_count": 55,
   "metadata": {},
   "outputs": [
    {
     "data": {
      "image/svg+xml": [
       "<?xml version=\"1.0\" encoding=\"UTF-8\" standalone=\"no\"?>\r\n",
       "<!DOCTYPE svg PUBLIC \"-//W3C//DTD SVG 1.1//EN\"\r\n",
       " \"http://www.w3.org/Graphics/SVG/1.1/DTD/svg11.dtd\">\r\n",
       "<!-- Generated by graphviz version 2.38.0 (20140413.2041)\r\n",
       " -->\r\n",
       "<!-- Title: Tree Pages: 1 -->\r\n",
       "<svg width=\"997pt\" height=\"477pt\"\r\n",
       " viewBox=\"0.00 0.00 996.50 477.00\" xmlns=\"http://www.w3.org/2000/svg\" xmlns:xlink=\"http://www.w3.org/1999/xlink\">\r\n",
       "<g id=\"graph0\" class=\"graph\" transform=\"scale(1 1) rotate(0) translate(4 473)\">\r\n",
       "<title>Tree</title>\r\n",
       "<polygon fill=\"white\" stroke=\"none\" points=\"-4,4 -4,-473 992.5,-473 992.5,4 -4,4\"/>\r\n",
       "<!-- 0 -->\r\n",
       "<g id=\"node1\" class=\"node\"><title>0</title>\r\n",
       "<polygon fill=\"#afd7f4\" stroke=\"black\" points=\"614,-469 467,-469 467,-401 614,-401 614,-469\"/>\r\n",
       "<text text-anchor=\"middle\" x=\"540.5\" y=\"-453.8\" font-family=\"Times New Roman,serif\" font-size=\"14.00\">worst radius &lt;= 16.795</text>\r\n",
       "<text text-anchor=\"middle\" x=\"540.5\" y=\"-438.8\" font-family=\"Times New Roman,serif\" font-size=\"14.00\">samples = 426</text>\r\n",
       "<text text-anchor=\"middle\" x=\"540.5\" y=\"-423.8\" font-family=\"Times New Roman,serif\" font-size=\"14.00\">value = [159, 267]</text>\r\n",
       "<text text-anchor=\"middle\" x=\"540.5\" y=\"-408.8\" font-family=\"Times New Roman,serif\" font-size=\"14.00\">class = 양성</text>\r\n",
       "</g>\r\n",
       "<!-- 1 -->\r\n",
       "<g id=\"node2\" class=\"node\"><title>1</title>\r\n",
       "<polygon fill=\"#4ca6e8\" stroke=\"black\" points=\"541,-365 350,-365 350,-297 541,-297 541,-365\"/>\r\n",
       "<text text-anchor=\"middle\" x=\"445.5\" y=\"-349.8\" font-family=\"Times New Roman,serif\" font-size=\"14.00\">worst concave points &lt;= 0.136</text>\r\n",
       "<text text-anchor=\"middle\" x=\"445.5\" y=\"-334.8\" font-family=\"Times New Roman,serif\" font-size=\"14.00\">samples = 284</text>\r\n",
       "<text text-anchor=\"middle\" x=\"445.5\" y=\"-319.8\" font-family=\"Times New Roman,serif\" font-size=\"14.00\">value = [25, 259]</text>\r\n",
       "<text text-anchor=\"middle\" x=\"445.5\" y=\"-304.8\" font-family=\"Times New Roman,serif\" font-size=\"14.00\">class = 양성</text>\r\n",
       "</g>\r\n",
       "<!-- 0&#45;&gt;1 -->\r\n",
       "<g id=\"edge1\" class=\"edge\"><title>0&#45;&gt;1</title>\r\n",
       "<path fill=\"none\" stroke=\"black\" d=\"M509.656,-400.884C501.277,-391.887 492.106,-382.041 483.387,-372.678\"/>\r\n",
       "<polygon fill=\"black\" stroke=\"black\" points=\"485.891,-370.232 476.514,-365.299 480.768,-375.003 485.891,-370.232\"/>\r\n",
       "<text text-anchor=\"middle\" x=\"475.626\" y=\"-386.584\" font-family=\"Times New Roman,serif\" font-size=\"14.00\">True</text>\r\n",
       "</g>\r\n",
       "<!-- 14 -->\r\n",
       "<g id=\"node15\" class=\"node\"><title>14</title>\r\n",
       "<polygon fill=\"#e78945\" stroke=\"black\" points=\"705.5,-365 565.5,-365 565.5,-297 705.5,-297 705.5,-365\"/>\r\n",
       "<text text-anchor=\"middle\" x=\"635.5\" y=\"-349.8\" font-family=\"Times New Roman,serif\" font-size=\"14.00\">texture error &lt;= 0.473</text>\r\n",
       "<text text-anchor=\"middle\" x=\"635.5\" y=\"-334.8\" font-family=\"Times New Roman,serif\" font-size=\"14.00\">samples = 142</text>\r\n",
       "<text text-anchor=\"middle\" x=\"635.5\" y=\"-319.8\" font-family=\"Times New Roman,serif\" font-size=\"14.00\">value = [134, 8]</text>\r\n",
       "<text text-anchor=\"middle\" x=\"635.5\" y=\"-304.8\" font-family=\"Times New Roman,serif\" font-size=\"14.00\">class = 악성</text>\r\n",
       "</g>\r\n",
       "<!-- 0&#45;&gt;14 -->\r\n",
       "<g id=\"edge14\" class=\"edge\"><title>0&#45;&gt;14</title>\r\n",
       "<path fill=\"none\" stroke=\"black\" d=\"M571.344,-400.884C579.723,-391.887 588.894,-382.041 597.613,-372.678\"/>\r\n",
       "<polygon fill=\"black\" stroke=\"black\" points=\"600.232,-375.003 604.486,-365.299 595.109,-370.232 600.232,-375.003\"/>\r\n",
       "<text text-anchor=\"middle\" x=\"605.374\" y=\"-386.584\" font-family=\"Times New Roman,serif\" font-size=\"14.00\">False</text>\r\n",
       "</g>\r\n",
       "<!-- 2 -->\r\n",
       "<g id=\"node3\" class=\"node\"><title>2</title>\r\n",
       "<polygon fill=\"#3c9fe5\" stroke=\"black\" points=\"349.5,-261 213.5,-261 213.5,-193 349.5,-193 349.5,-261\"/>\r\n",
       "<text text-anchor=\"middle\" x=\"281.5\" y=\"-245.8\" font-family=\"Times New Roman,serif\" font-size=\"14.00\">radius error &lt;= 1.048</text>\r\n",
       "<text text-anchor=\"middle\" x=\"281.5\" y=\"-230.8\" font-family=\"Times New Roman,serif\" font-size=\"14.00\">samples = 252</text>\r\n",
       "<text text-anchor=\"middle\" x=\"281.5\" y=\"-215.8\" font-family=\"Times New Roman,serif\" font-size=\"14.00\">value = [4, 248]</text>\r\n",
       "<text text-anchor=\"middle\" x=\"281.5\" y=\"-200.8\" font-family=\"Times New Roman,serif\" font-size=\"14.00\">class = 양성</text>\r\n",
       "</g>\r\n",
       "<!-- 1&#45;&gt;2 -->\r\n",
       "<g id=\"edge2\" class=\"edge\"><title>1&#45;&gt;2</title>\r\n",
       "<path fill=\"none\" stroke=\"black\" d=\"M392.254,-296.884C376.708,-287.214 359.582,-276.563 343.542,-266.587\"/>\r\n",
       "<polygon fill=\"black\" stroke=\"black\" points=\"345.099,-263.434 334.759,-261.125 341.402,-269.378 345.099,-263.434\"/>\r\n",
       "</g>\r\n",
       "<!-- 7 -->\r\n",
       "<g id=\"node8\" class=\"node\"><title>7</title>\r\n",
       "<polygon fill=\"#f3c3a1\" stroke=\"black\" points=\"517.5,-261 373.5,-261 373.5,-193 517.5,-193 517.5,-261\"/>\r\n",
       "<text text-anchor=\"middle\" x=\"445.5\" y=\"-245.8\" font-family=\"Times New Roman,serif\" font-size=\"14.00\">worst texture &lt;= 25.62</text>\r\n",
       "<text text-anchor=\"middle\" x=\"445.5\" y=\"-230.8\" font-family=\"Times New Roman,serif\" font-size=\"14.00\">samples = 32</text>\r\n",
       "<text text-anchor=\"middle\" x=\"445.5\" y=\"-215.8\" font-family=\"Times New Roman,serif\" font-size=\"14.00\">value = [21, 11]</text>\r\n",
       "<text text-anchor=\"middle\" x=\"445.5\" y=\"-200.8\" font-family=\"Times New Roman,serif\" font-size=\"14.00\">class = 악성</text>\r\n",
       "</g>\r\n",
       "<!-- 1&#45;&gt;7 -->\r\n",
       "<g id=\"edge7\" class=\"edge\"><title>1&#45;&gt;7</title>\r\n",
       "<path fill=\"none\" stroke=\"black\" d=\"M445.5,-296.884C445.5,-288.778 445.5,-279.982 445.5,-271.472\"/>\r\n",
       "<polygon fill=\"black\" stroke=\"black\" points=\"449,-271.299 445.5,-261.299 442,-271.299 449,-271.299\"/>\r\n",
       "</g>\r\n",
       "<!-- 3 -->\r\n",
       "<g id=\"node4\" class=\"node\"><title>3</title>\r\n",
       "<polygon fill=\"#3b9ee5\" stroke=\"black\" points=\"218,-157 49,-157 49,-89 218,-89 218,-157\"/>\r\n",
       "<text text-anchor=\"middle\" x=\"133.5\" y=\"-141.8\" font-family=\"Times New Roman,serif\" font-size=\"14.00\">smoothness error &lt;= 0.003</text>\r\n",
       "<text text-anchor=\"middle\" x=\"133.5\" y=\"-126.8\" font-family=\"Times New Roman,serif\" font-size=\"14.00\">samples = 251</text>\r\n",
       "<text text-anchor=\"middle\" x=\"133.5\" y=\"-111.8\" font-family=\"Times New Roman,serif\" font-size=\"14.00\">value = [3, 248]</text>\r\n",
       "<text text-anchor=\"middle\" x=\"133.5\" y=\"-96.8\" font-family=\"Times New Roman,serif\" font-size=\"14.00\">class = 양성</text>\r\n",
       "</g>\r\n",
       "<!-- 2&#45;&gt;3 -->\r\n",
       "<g id=\"edge3\" class=\"edge\"><title>2&#45;&gt;3</title>\r\n",
       "<path fill=\"none\" stroke=\"black\" d=\"M233.449,-192.884C219.549,-183.304 204.251,-172.761 189.892,-162.864\"/>\r\n",
       "<polygon fill=\"black\" stroke=\"black\" points=\"191.783,-159.918 181.563,-157.125 187.811,-165.681 191.783,-159.918\"/>\r\n",
       "</g>\r\n",
       "<!-- 6 -->\r\n",
       "<g id=\"node7\" class=\"node\"><title>6</title>\r\n",
       "<polygon fill=\"#e58139\" stroke=\"black\" points=\"327,-149.5 236,-149.5 236,-96.5 327,-96.5 327,-149.5\"/>\r\n",
       "<text text-anchor=\"middle\" x=\"281.5\" y=\"-134.3\" font-family=\"Times New Roman,serif\" font-size=\"14.00\">samples = 1</text>\r\n",
       "<text text-anchor=\"middle\" x=\"281.5\" y=\"-119.3\" font-family=\"Times New Roman,serif\" font-size=\"14.00\">value = [1, 0]</text>\r\n",
       "<text text-anchor=\"middle\" x=\"281.5\" y=\"-104.3\" font-family=\"Times New Roman,serif\" font-size=\"14.00\">class = 악성</text>\r\n",
       "</g>\r\n",
       "<!-- 2&#45;&gt;6 -->\r\n",
       "<g id=\"edge6\" class=\"edge\"><title>2&#45;&gt;6</title>\r\n",
       "<path fill=\"none\" stroke=\"black\" d=\"M281.5,-192.884C281.5,-182.326 281.5,-170.597 281.5,-159.854\"/>\r\n",
       "<polygon fill=\"black\" stroke=\"black\" points=\"285,-159.52 281.5,-149.52 278,-159.52 285,-159.52\"/>\r\n",
       "</g>\r\n",
       "<!-- 4 -->\r\n",
       "<g id=\"node5\" class=\"node\"><title>4</title>\r\n",
       "<polygon fill=\"#7bbeee\" stroke=\"black\" points=\"91,-53 0,-53 0,-0 91,-0 91,-53\"/>\r\n",
       "<text text-anchor=\"middle\" x=\"45.5\" y=\"-37.8\" font-family=\"Times New Roman,serif\" font-size=\"14.00\">samples = 4</text>\r\n",
       "<text text-anchor=\"middle\" x=\"45.5\" y=\"-22.8\" font-family=\"Times New Roman,serif\" font-size=\"14.00\">value = [1, 3]</text>\r\n",
       "<text text-anchor=\"middle\" x=\"45.5\" y=\"-7.8\" font-family=\"Times New Roman,serif\" font-size=\"14.00\">class = 양성</text>\r\n",
       "</g>\r\n",
       "<!-- 3&#45;&gt;4 -->\r\n",
       "<g id=\"edge4\" class=\"edge\"><title>3&#45;&gt;4</title>\r\n",
       "<path fill=\"none\" stroke=\"black\" d=\"M102.722,-88.9485C94.2031,-79.8005 84.9554,-69.8697 76.4281,-60.7126\"/>\r\n",
       "<polygon fill=\"black\" stroke=\"black\" points=\"78.8428,-58.1698 69.4665,-53.2367 73.72,-62.9402 78.8428,-58.1698\"/>\r\n",
       "</g>\r\n",
       "<!-- 5 -->\r\n",
       "<g id=\"node6\" class=\"node\"><title>5</title>\r\n",
       "<polygon fill=\"#3b9ee5\" stroke=\"black\" points=\"213.5,-53 109.5,-53 109.5,-0 213.5,-0 213.5,-53\"/>\r\n",
       "<text text-anchor=\"middle\" x=\"161.5\" y=\"-37.8\" font-family=\"Times New Roman,serif\" font-size=\"14.00\">samples = 247</text>\r\n",
       "<text text-anchor=\"middle\" x=\"161.5\" y=\"-22.8\" font-family=\"Times New Roman,serif\" font-size=\"14.00\">value = [2, 245]</text>\r\n",
       "<text text-anchor=\"middle\" x=\"161.5\" y=\"-7.8\" font-family=\"Times New Roman,serif\" font-size=\"14.00\">class = 양성</text>\r\n",
       "</g>\r\n",
       "<!-- 3&#45;&gt;5 -->\r\n",
       "<g id=\"edge5\" class=\"edge\"><title>3&#45;&gt;5</title>\r\n",
       "<path fill=\"none\" stroke=\"black\" d=\"M143.293,-88.9485C145.787,-80.5323 148.477,-71.4536 151.004,-62.9243\"/>\r\n",
       "<polygon fill=\"black\" stroke=\"black\" points=\"154.389,-63.819 153.874,-53.2367 147.678,-61.8304 154.389,-63.819\"/>\r\n",
       "</g>\r\n",
       "<!-- 8 -->\r\n",
       "<g id=\"node9\" class=\"node\"><title>8</title>\r\n",
       "<polygon fill=\"#7bbeee\" stroke=\"black\" points=\"518,-157 345,-157 345,-89 518,-89 518,-157\"/>\r\n",
       "<text text-anchor=\"middle\" x=\"431.5\" y=\"-141.8\" font-family=\"Times New Roman,serif\" font-size=\"14.00\">worst smoothness &lt;= 0.179</text>\r\n",
       "<text text-anchor=\"middle\" x=\"431.5\" y=\"-126.8\" font-family=\"Times New Roman,serif\" font-size=\"14.00\">samples = 12</text>\r\n",
       "<text text-anchor=\"middle\" x=\"431.5\" y=\"-111.8\" font-family=\"Times New Roman,serif\" font-size=\"14.00\">value = [3, 9]</text>\r\n",
       "<text text-anchor=\"middle\" x=\"431.5\" y=\"-96.8\" font-family=\"Times New Roman,serif\" font-size=\"14.00\">class = 양성</text>\r\n",
       "</g>\r\n",
       "<!-- 7&#45;&gt;8 -->\r\n",
       "<g id=\"edge8\" class=\"edge\"><title>7&#45;&gt;8</title>\r\n",
       "<path fill=\"none\" stroke=\"black\" d=\"M440.955,-192.884C439.842,-184.778 438.635,-175.982 437.467,-167.472\"/>\r\n",
       "<polygon fill=\"black\" stroke=\"black\" points=\"440.898,-166.731 436.071,-157.299 433.963,-167.682 440.898,-166.731\"/>\r\n",
       "</g>\r\n",
       "<!-- 11 -->\r\n",
       "<g id=\"node12\" class=\"node\"><title>11</title>\r\n",
       "<polygon fill=\"#e88f4f\" stroke=\"black\" points=\"697,-157 536,-157 536,-89 697,-89 697,-157\"/>\r\n",
       "<text text-anchor=\"middle\" x=\"616.5\" y=\"-141.8\" font-family=\"Times New Roman,serif\" font-size=\"14.00\">worst symmetry &lt;= 0.268</text>\r\n",
       "<text text-anchor=\"middle\" x=\"616.5\" y=\"-126.8\" font-family=\"Times New Roman,serif\" font-size=\"14.00\">samples = 20</text>\r\n",
       "<text text-anchor=\"middle\" x=\"616.5\" y=\"-111.8\" font-family=\"Times New Roman,serif\" font-size=\"14.00\">value = [18, 2]</text>\r\n",
       "<text text-anchor=\"middle\" x=\"616.5\" y=\"-96.8\" font-family=\"Times New Roman,serif\" font-size=\"14.00\">class = 악성</text>\r\n",
       "</g>\r\n",
       "<!-- 7&#45;&gt;11 -->\r\n",
       "<g id=\"edge11\" class=\"edge\"><title>7&#45;&gt;11</title>\r\n",
       "<path fill=\"none\" stroke=\"black\" d=\"M501.019,-192.884C517.379,-183.125 535.416,-172.366 552.274,-162.31\"/>\r\n",
       "<polygon fill=\"black\" stroke=\"black\" points=\"554.172,-165.253 560.967,-157.125 550.586,-159.242 554.172,-165.253\"/>\r\n",
       "</g>\r\n",
       "<!-- 9 -->\r\n",
       "<g id=\"node10\" class=\"node\"><title>9</title>\r\n",
       "<polygon fill=\"#4fa8e8\" stroke=\"black\" points=\"371,-53 280,-53 280,-0 371,-0 371,-53\"/>\r\n",
       "<text text-anchor=\"middle\" x=\"325.5\" y=\"-37.8\" font-family=\"Times New Roman,serif\" font-size=\"14.00\">samples = 10</text>\r\n",
       "<text text-anchor=\"middle\" x=\"325.5\" y=\"-22.8\" font-family=\"Times New Roman,serif\" font-size=\"14.00\">value = [1, 9]</text>\r\n",
       "<text text-anchor=\"middle\" x=\"325.5\" y=\"-7.8\" font-family=\"Times New Roman,serif\" font-size=\"14.00\">class = 양성</text>\r\n",
       "</g>\r\n",
       "<!-- 8&#45;&gt;9 -->\r\n",
       "<g id=\"edge9\" class=\"edge\"><title>8&#45;&gt;9</title>\r\n",
       "<path fill=\"none\" stroke=\"black\" d=\"M394.426,-88.9485C383.96,-79.6175 372.58,-69.4722 362.139,-60.1641\"/>\r\n",
       "<polygon fill=\"black\" stroke=\"black\" points=\"364.162,-57.2788 354.369,-53.2367 359.504,-62.5038 364.162,-57.2788\"/>\r\n",
       "</g>\r\n",
       "<!-- 10 -->\r\n",
       "<g id=\"node11\" class=\"node\"><title>10</title>\r\n",
       "<polygon fill=\"#e58139\" stroke=\"black\" points=\"480,-53 389,-53 389,-0 480,-0 480,-53\"/>\r\n",
       "<text text-anchor=\"middle\" x=\"434.5\" y=\"-37.8\" font-family=\"Times New Roman,serif\" font-size=\"14.00\">samples = 2</text>\r\n",
       "<text text-anchor=\"middle\" x=\"434.5\" y=\"-22.8\" font-family=\"Times New Roman,serif\" font-size=\"14.00\">value = [2, 0]</text>\r\n",
       "<text text-anchor=\"middle\" x=\"434.5\" y=\"-7.8\" font-family=\"Times New Roman,serif\" font-size=\"14.00\">class = 악성</text>\r\n",
       "</g>\r\n",
       "<!-- 8&#45;&gt;10 -->\r\n",
       "<g id=\"edge10\" class=\"edge\"><title>8&#45;&gt;10</title>\r\n",
       "<path fill=\"none\" stroke=\"black\" d=\"M432.549,-88.9485C432.811,-80.7153 433.092,-71.848 433.358,-63.4814\"/>\r\n",
       "<polygon fill=\"black\" stroke=\"black\" points=\"436.864,-63.3428 433.683,-53.2367 429.867,-63.1206 436.864,-63.3428\"/>\r\n",
       "</g>\r\n",
       "<!-- 12 -->\r\n",
       "<g id=\"node13\" class=\"node\"><title>12</title>\r\n",
       "<polygon fill=\"#9ccef2\" stroke=\"black\" points=\"601,-53 510,-53 510,-0 601,-0 601,-53\"/>\r\n",
       "<text text-anchor=\"middle\" x=\"555.5\" y=\"-37.8\" font-family=\"Times New Roman,serif\" font-size=\"14.00\">samples = 3</text>\r\n",
       "<text text-anchor=\"middle\" x=\"555.5\" y=\"-22.8\" font-family=\"Times New Roman,serif\" font-size=\"14.00\">value = [1, 2]</text>\r\n",
       "<text text-anchor=\"middle\" x=\"555.5\" y=\"-7.8\" font-family=\"Times New Roman,serif\" font-size=\"14.00\">class = 양성</text>\r\n",
       "</g>\r\n",
       "<!-- 11&#45;&gt;12 -->\r\n",
       "<g id=\"edge12\" class=\"edge\"><title>11&#45;&gt;12</title>\r\n",
       "<path fill=\"none\" stroke=\"black\" d=\"M595.165,-88.9485C589.496,-80.1664 583.362,-70.6629 577.65,-61.815\"/>\r\n",
       "<polygon fill=\"black\" stroke=\"black\" points=\"580.477,-59.7402 572.113,-53.2367 574.596,-63.5365 580.477,-59.7402\"/>\r\n",
       "</g>\r\n",
       "<!-- 13 -->\r\n",
       "<g id=\"node14\" class=\"node\"><title>13</title>\r\n",
       "<polygon fill=\"#e58139\" stroke=\"black\" points=\"717.5,-53 619.5,-53 619.5,-0 717.5,-0 717.5,-53\"/>\r\n",
       "<text text-anchor=\"middle\" x=\"668.5\" y=\"-37.8\" font-family=\"Times New Roman,serif\" font-size=\"14.00\">samples = 17</text>\r\n",
       "<text text-anchor=\"middle\" x=\"668.5\" y=\"-22.8\" font-family=\"Times New Roman,serif\" font-size=\"14.00\">value = [17, 0]</text>\r\n",
       "<text text-anchor=\"middle\" x=\"668.5\" y=\"-7.8\" font-family=\"Times New Roman,serif\" font-size=\"14.00\">class = 악성</text>\r\n",
       "</g>\r\n",
       "<!-- 11&#45;&gt;13 -->\r\n",
       "<g id=\"edge13\" class=\"edge\"><title>11&#45;&gt;13</title>\r\n",
       "<path fill=\"none\" stroke=\"black\" d=\"M634.687,-88.9485C639.469,-80.2579 644.64,-70.8608 649.465,-62.0917\"/>\r\n",
       "<polygon fill=\"black\" stroke=\"black\" points=\"652.583,-63.6853 654.338,-53.2367 646.451,-60.3105 652.583,-63.6853\"/>\r\n",
       "</g>\r\n",
       "<!-- 15 -->\r\n",
       "<g id=\"node16\" class=\"node\"><title>15</title>\r\n",
       "<polygon fill=\"#399de5\" stroke=\"black\" points=\"681,-253.5 590,-253.5 590,-200.5 681,-200.5 681,-253.5\"/>\r\n",
       "<text text-anchor=\"middle\" x=\"635.5\" y=\"-238.3\" font-family=\"Times New Roman,serif\" font-size=\"14.00\">samples = 5</text>\r\n",
       "<text text-anchor=\"middle\" x=\"635.5\" y=\"-223.3\" font-family=\"Times New Roman,serif\" font-size=\"14.00\">value = [0, 5]</text>\r\n",
       "<text text-anchor=\"middle\" x=\"635.5\" y=\"-208.3\" font-family=\"Times New Roman,serif\" font-size=\"14.00\">class = 양성</text>\r\n",
       "</g>\r\n",
       "<!-- 14&#45;&gt;15 -->\r\n",
       "<g id=\"edge15\" class=\"edge\"><title>14&#45;&gt;15</title>\r\n",
       "<path fill=\"none\" stroke=\"black\" d=\"M635.5,-296.884C635.5,-286.326 635.5,-274.597 635.5,-263.854\"/>\r\n",
       "<polygon fill=\"black\" stroke=\"black\" points=\"639,-263.52 635.5,-253.52 632,-263.52 639,-263.52\"/>\r\n",
       "</g>\r\n",
       "<!-- 16 -->\r\n",
       "<g id=\"node17\" class=\"node\"><title>16</title>\r\n",
       "<polygon fill=\"#e6843d\" stroke=\"black\" points=\"871,-261 710,-261 710,-193 871,-193 871,-261\"/>\r\n",
       "<text text-anchor=\"middle\" x=\"790.5\" y=\"-245.8\" font-family=\"Times New Roman,serif\" font-size=\"14.00\">worst concavity &lt;= 0.191</text>\r\n",
       "<text text-anchor=\"middle\" x=\"790.5\" y=\"-230.8\" font-family=\"Times New Roman,serif\" font-size=\"14.00\">samples = 137</text>\r\n",
       "<text text-anchor=\"middle\" x=\"790.5\" y=\"-215.8\" font-family=\"Times New Roman,serif\" font-size=\"14.00\">value = [134, 3]</text>\r\n",
       "<text text-anchor=\"middle\" x=\"790.5\" y=\"-200.8\" font-family=\"Times New Roman,serif\" font-size=\"14.00\">class = 악성</text>\r\n",
       "</g>\r\n",
       "<!-- 14&#45;&gt;16 -->\r\n",
       "<g id=\"edge16\" class=\"edge\"><title>14&#45;&gt;16</title>\r\n",
       "<path fill=\"none\" stroke=\"black\" d=\"M685.824,-296.884C700.381,-287.304 716.403,-276.761 731.441,-266.864\"/>\r\n",
       "<polygon fill=\"black\" stroke=\"black\" points=\"733.734,-269.546 740.163,-261.125 729.886,-263.698 733.734,-269.546\"/>\r\n",
       "</g>\r\n",
       "<!-- 17 -->\r\n",
       "<g id=\"node18\" class=\"node\"><title>17</title>\r\n",
       "<polygon fill=\"#bddef6\" stroke=\"black\" points=\"866,-157 715,-157 715,-89 866,-89 866,-157\"/>\r\n",
       "<text text-anchor=\"middle\" x=\"790.5\" y=\"-141.8\" font-family=\"Times New Roman,serif\" font-size=\"14.00\">worst texture &lt;= 30.975</text>\r\n",
       "<text text-anchor=\"middle\" x=\"790.5\" y=\"-126.8\" font-family=\"Times New Roman,serif\" font-size=\"14.00\">samples = 5</text>\r\n",
       "<text text-anchor=\"middle\" x=\"790.5\" y=\"-111.8\" font-family=\"Times New Roman,serif\" font-size=\"14.00\">value = [2, 3]</text>\r\n",
       "<text text-anchor=\"middle\" x=\"790.5\" y=\"-96.8\" font-family=\"Times New Roman,serif\" font-size=\"14.00\">class = 양성</text>\r\n",
       "</g>\r\n",
       "<!-- 16&#45;&gt;17 -->\r\n",
       "<g id=\"edge17\" class=\"edge\"><title>16&#45;&gt;17</title>\r\n",
       "<path fill=\"none\" stroke=\"black\" d=\"M790.5,-192.884C790.5,-184.778 790.5,-175.982 790.5,-167.472\"/>\r\n",
       "<polygon fill=\"black\" stroke=\"black\" points=\"794,-167.299 790.5,-157.299 787,-167.299 794,-167.299\"/>\r\n",
       "</g>\r\n",
       "<!-- 20 -->\r\n",
       "<g id=\"node21\" class=\"node\"><title>20</title>\r\n",
       "<polygon fill=\"#e58139\" stroke=\"black\" points=\"988.5,-149.5 884.5,-149.5 884.5,-96.5 988.5,-96.5 988.5,-149.5\"/>\r\n",
       "<text text-anchor=\"middle\" x=\"936.5\" y=\"-134.3\" font-family=\"Times New Roman,serif\" font-size=\"14.00\">samples = 132</text>\r\n",
       "<text text-anchor=\"middle\" x=\"936.5\" y=\"-119.3\" font-family=\"Times New Roman,serif\" font-size=\"14.00\">value = [132, 0]</text>\r\n",
       "<text text-anchor=\"middle\" x=\"936.5\" y=\"-104.3\" font-family=\"Times New Roman,serif\" font-size=\"14.00\">class = 악성</text>\r\n",
       "</g>\r\n",
       "<!-- 16&#45;&gt;20 -->\r\n",
       "<g id=\"edge20\" class=\"edge\"><title>16&#45;&gt;20</title>\r\n",
       "<path fill=\"none\" stroke=\"black\" d=\"M837.902,-192.884C855.061,-180.896 874.38,-167.399 891.341,-155.549\"/>\r\n",
       "<polygon fill=\"black\" stroke=\"black\" points=\"893.778,-158.116 899.971,-149.52 889.769,-152.378 893.778,-158.116\"/>\r\n",
       "</g>\r\n",
       "<!-- 18 -->\r\n",
       "<g id=\"node19\" class=\"node\"><title>18</title>\r\n",
       "<polygon fill=\"#399de5\" stroke=\"black\" points=\"833,-53 742,-53 742,-0 833,-0 833,-53\"/>\r\n",
       "<text text-anchor=\"middle\" x=\"787.5\" y=\"-37.8\" font-family=\"Times New Roman,serif\" font-size=\"14.00\">samples = 3</text>\r\n",
       "<text text-anchor=\"middle\" x=\"787.5\" y=\"-22.8\" font-family=\"Times New Roman,serif\" font-size=\"14.00\">value = [0, 3]</text>\r\n",
       "<text text-anchor=\"middle\" x=\"787.5\" y=\"-7.8\" font-family=\"Times New Roman,serif\" font-size=\"14.00\">class = 양성</text>\r\n",
       "</g>\r\n",
       "<!-- 17&#45;&gt;18 -->\r\n",
       "<g id=\"edge18\" class=\"edge\"><title>17&#45;&gt;18</title>\r\n",
       "<path fill=\"none\" stroke=\"black\" d=\"M789.451,-88.9485C789.189,-80.7153 788.908,-71.848 788.642,-63.4814\"/>\r\n",
       "<polygon fill=\"black\" stroke=\"black\" points=\"792.133,-63.1206 788.317,-53.2367 785.136,-63.3428 792.133,-63.1206\"/>\r\n",
       "</g>\r\n",
       "<!-- 19 -->\r\n",
       "<g id=\"node20\" class=\"node\"><title>19</title>\r\n",
       "<polygon fill=\"#e58139\" stroke=\"black\" points=\"942,-53 851,-53 851,-0 942,-0 942,-53\"/>\r\n",
       "<text text-anchor=\"middle\" x=\"896.5\" y=\"-37.8\" font-family=\"Times New Roman,serif\" font-size=\"14.00\">samples = 2</text>\r\n",
       "<text text-anchor=\"middle\" x=\"896.5\" y=\"-22.8\" font-family=\"Times New Roman,serif\" font-size=\"14.00\">value = [2, 0]</text>\r\n",
       "<text text-anchor=\"middle\" x=\"896.5\" y=\"-7.8\" font-family=\"Times New Roman,serif\" font-size=\"14.00\">class = 악성</text>\r\n",
       "</g>\r\n",
       "<!-- 17&#45;&gt;19 -->\r\n",
       "<g id=\"edge19\" class=\"edge\"><title>17&#45;&gt;19</title>\r\n",
       "<path fill=\"none\" stroke=\"black\" d=\"M827.574,-88.9485C838.04,-79.6175 849.42,-69.4722 859.861,-60.1641\"/>\r\n",
       "<polygon fill=\"black\" stroke=\"black\" points=\"862.496,-62.5038 867.631,-53.2367 857.838,-57.2788 862.496,-62.5038\"/>\r\n",
       "</g>\r\n",
       "</g>\r\n",
       "</svg>\r\n"
      ],
      "text/plain": [
       "<graphviz.files.Source at 0x24188d92f88>"
      ]
     },
     "metadata": {},
     "output_type": "display_data"
    }
   ],
   "source": [
    "import graphviz\n",
    "\n",
    "with open(\"tree.dot\", encoding=\"UTF-8\") as f:\n",
    "    dot_graph = f.read()\n",
    "display(graphviz.Source(dot_graph))"
   ]
  },
  {
   "cell_type": "code",
   "execution_count": 61,
   "metadata": {},
   "outputs": [],
   "source": [
    "#samples 각 노드에 있는 샘플의 수, value는 클래스 당 각 샘플의 수\n",
    "#worst radius > 16.795 를 첫번째 노드의 오른쪽것임(0과 1 분류)\n",
    "#radius 가 16.795 인 것 중에, 악성 샘플이 134개 (=0), 양성 샘플이 8개 (=1) 노드를 만듦.\n",
    "#이 방향의 트리 나머지 이 8개의 양성 샘플을 더 세부적으로 분리함. 첫 노드에서 오른쪽으로 분리된\n",
    "#142개 샘플 중, 거의 대부분 (132) 이 가장 오른쪽 노드로 감.\n",
    "\n",
    "#루트 노드에서 왼쪽으로 간 데이터 즉, worst radius < 16.795 인 데이터는 악성이 25개이고\n",
    "#양성이 259개임. 대부분의 양성 샘플은 왼쪽에서 두 번째 노드에 할당되고, 나머지 리프 노드 대부분은 매우 적은 샘플을 가짐"
   ]
  },
  {
   "cell_type": "markdown",
   "metadata": {},
   "source": [
    "#### 트리의 특성 중요도"
   ]
  },
  {
   "cell_type": "code",
   "execution_count": 62,
   "metadata": {},
   "outputs": [],
   "source": [
    "#트리 작동 요약 속성 파악\n",
    "#가장 널리 사용되는 속성은 트리를 만드는 결정에 각 특성이 얼마나 중요한지를 평가하는 '특성 중요도' 임\n",
    "#0과 1 사이의 숫자로, 각 특성에 대해 0은 전혀 사용되지 않았다는 뜻이며, 1은 완벽하게 타깃 클래스를 예측했다는 뜻임\n",
    "#특성 중요도의 전체 합은 1임."
   ]
  },
  {
   "cell_type": "code",
   "execution_count": 63,
   "metadata": {},
   "outputs": [
    {
     "name": "stdout",
     "output_type": "stream",
     "text": [
      "특성 중요도 :\n",
      " [0.         0.         0.         0.         0.         0.\n",
      " 0.         0.         0.         0.         0.01019737 0.04839825\n",
      " 0.         0.         0.0024156  0.         0.         0.\n",
      " 0.         0.         0.72682851 0.0458159  0.         0.\n",
      " 0.0141577  0.         0.018188   0.1221132  0.01188548 0.        ]\n"
     ]
    }
   ],
   "source": [
    "print(\"특성 중요도 :\\n\", tree.feature_importances_)"
   ]
  },
  {
   "cell_type": "code",
   "execution_count": 64,
   "metadata": {},
   "outputs": [
    {
     "data": {
      "text/plain": [
       "array(['mean radius', 'mean texture', 'mean perimeter', 'mean area',\n",
       "       'mean smoothness', 'mean compactness', 'mean concavity',\n",
       "       'mean concave points', 'mean symmetry', 'mean fractal dimension',\n",
       "       'radius error', 'texture error', 'perimeter error', 'area error',\n",
       "       'smoothness error', 'compactness error', 'concavity error',\n",
       "       'concave points error', 'symmetry error',\n",
       "       'fractal dimension error', 'worst radius', 'worst texture',\n",
       "       'worst perimeter', 'worst area', 'worst smoothness',\n",
       "       'worst compactness', 'worst concavity', 'worst concave points',\n",
       "       'worst symmetry', 'worst fractal dimension'], dtype='<U23')"
      ]
     },
     "execution_count": 64,
     "metadata": {},
     "output_type": "execute_result"
    }
   ],
   "source": [
    "cancer.feature_names"
   ]
  },
  {
   "cell_type": "code",
   "execution_count": 65,
   "metadata": {},
   "outputs": [],
   "source": [
    "#특성 중요도도 시각화 가능"
   ]
  },
  {
   "cell_type": "code",
   "execution_count": 67,
   "metadata": {},
   "outputs": [
    {
     "data": {
      "image/png": "[encoded data removed]",
      "text/plain": [
       "<Figure size 432x288 with 1 Axes>"
      ]
     },
     "metadata": {
      "needs_background": "light"
     },
     "output_type": "display_data"
    }
   ],
   "source": [
    "def plot_feature_importances_cancer(model) :\n",
    "    n_features = cancer.data.shape[1]\n",
    "    plt.barh(np.arange(n_features), model.feature_importances_, align='center')\n",
    "    plt.yticks(np.arange(n_features), cancer.feature_names)\n",
    "    plt.xlabel(\"feature importances\")\n",
    "    plt.ylabel(\"feature\")\n",
    "    plt.ylim(-1, n_features)\n",
    "\n",
    "plot_feature_importances_cancer(tree)"
   ]
  },
  {
   "cell_type": "code",
   "execution_count": 68,
   "metadata": {},
   "outputs": [],
   "source": [
    "#첫째 노드에 사용된 특성 WORST RADIUS가 가장 중요한 특성으로 사용됨.\n",
    "#이 그래프는 첫번째 노드에서 두 클래스를 꽤 잘 나누고 있다는 우리의 관찰을 뒷받침해줌\n",
    "#그러나, 어떤 특성의 feature_importance_ 값이 낮다고 해서 유용하지 않다는 뜻은 아님.\n",
    "#단지, DF가 특성을 선택하지 않았을 뿐이며, 다른 특성이 동일한 정보를 지니고 있어서 있을 수도 있음.\n",
    "\n",
    "#선형 모델 계수와 달리 특성 중요도는 항상 야웃이며, 특성이 어떤 클래스를 지지하는지는 알 수 없음.\n",
    "#WORST RADIUS가 중요하다고 알려주지만, 높은 반지름이 양성을 의미하는지 악성을 의미하는지는 알 수 없음.\n",
    "#특성과 클래스 사이에는 간단하지 않은 관계가 있을수도 있다. -> 예시 참고"
   ]
  },
  {
   "cell_type": "code",
   "execution_count": 69,
   "metadata": {},
   "outputs": [
    {
     "name": "stdout",
     "output_type": "stream",
     "text": [
      "Feature importances: [0. 1.]\n"
     ]
    },
    {
     "data": {
      "image/svg+xml": [
       "<?xml version=\"1.0\" encoding=\"UTF-8\" standalone=\"no\"?>\r\n",
       "<!DOCTYPE svg PUBLIC \"-//W3C//DTD SVG 1.1//EN\"\r\n",
       " \"http://www.w3.org/Graphics/SVG/1.1/DTD/svg11.dtd\">\r\n",
       "<!-- Generated by graphviz version 2.38.0 (20140413.2041)\r\n",
       " -->\r\n",
       "<!-- Title: Tree Pages: 1 -->\r\n",
       "<svg width=\"283pt\" height=\"224pt\"\r\n",
       " viewBox=\"0.00 0.00 283.00 224.00\" xmlns=\"http://www.w3.org/2000/svg\" xmlns:xlink=\"http://www.w3.org/1999/xlink\">\r\n",
       "<g id=\"graph0\" class=\"graph\" transform=\"scale(1 1) rotate(0) translate(4 220)\">\r\n",
       "<title>Tree</title>\r\n",
       "<polygon fill=\"white\" stroke=\"none\" points=\"-4,4 -4,-220 279,-220 279,4 -4,4\"/>\r\n",
       "<!-- 0 -->\r\n",
       "<g id=\"node1\" class=\"node\"><title>0</title>\r\n",
       "<polygon fill=\"#ffffff\" stroke=\"black\" points=\"160,-216 56,-216 56,-163 160,-163 160,-216\"/>\r\n",
       "<text text-anchor=\"middle\" x=\"108\" y=\"-200.8\" font-family=\"Times New Roman,serif\" font-size=\"14.00\">X[1] &lt;= &#45;5.814</text>\r\n",
       "<text text-anchor=\"middle\" x=\"108\" y=\"-185.8\" font-family=\"Times New Roman,serif\" font-size=\"14.00\">samples = 100</text>\r\n",
       "<text text-anchor=\"middle\" x=\"108\" y=\"-170.8\" font-family=\"Times New Roman,serif\" font-size=\"14.00\">value = [50, 50]</text>\r\n",
       "</g>\r\n",
       "<!-- 1 -->\r\n",
       "<g id=\"node2\" class=\"node\"><title>1</title>\r\n",
       "<polygon fill=\"#e58139\" stroke=\"black\" points=\"98,-119.5 0,-119.5 0,-81.5 98,-81.5 98,-119.5\"/>\r\n",
       "<text text-anchor=\"middle\" x=\"49\" y=\"-104.3\" font-family=\"Times New Roman,serif\" font-size=\"14.00\">samples = 25</text>\r\n",
       "<text text-anchor=\"middle\" x=\"49\" y=\"-89.3\" font-family=\"Times New Roman,serif\" font-size=\"14.00\">value = [25, 0]</text>\r\n",
       "</g>\r\n",
       "<!-- 0&#45;&gt;1 -->\r\n",
       "<g id=\"edge1\" class=\"edge\"><title>0&#45;&gt;1</title>\r\n",
       "<path fill=\"none\" stroke=\"black\" d=\"M90.6172,-162.868C83.1609,-151.873 74.4545,-139.035 66.9379,-127.951\"/>\r\n",
       "<polygon fill=\"black\" stroke=\"black\" points=\"69.7209,-125.819 61.2114,-119.507 63.9274,-129.747 69.7209,-125.819\"/>\r\n",
       "<text text-anchor=\"middle\" x=\"56.5027\" y=\"-140.359\" font-family=\"Times New Roman,serif\" font-size=\"14.00\">True</text>\r\n",
       "</g>\r\n",
       "<!-- 2 -->\r\n",
       "<g id=\"node3\" class=\"node\"><title>2</title>\r\n",
       "<polygon fill=\"#9ccef2\" stroke=\"black\" points=\"220,-127 116,-127 116,-74 220,-74 220,-127\"/>\r\n",
       "<text text-anchor=\"middle\" x=\"168\" y=\"-111.8\" font-family=\"Times New Roman,serif\" font-size=\"14.00\">X[1] &lt;= 5.348</text>\r\n",
       "<text text-anchor=\"middle\" x=\"168\" y=\"-96.8\" font-family=\"Times New Roman,serif\" font-size=\"14.00\">samples = 75</text>\r\n",
       "<text text-anchor=\"middle\" x=\"168\" y=\"-81.8\" font-family=\"Times New Roman,serif\" font-size=\"14.00\">value = [25, 50]</text>\r\n",
       "</g>\r\n",
       "<!-- 0&#45;&gt;2 -->\r\n",
       "<g id=\"edge2\" class=\"edge\"><title>0&#45;&gt;2</title>\r\n",
       "<path fill=\"none\" stroke=\"black\" d=\"M125.677,-162.868C131.545,-154.359 138.174,-144.747 144.415,-135.698\"/>\r\n",
       "<polygon fill=\"black\" stroke=\"black\" points=\"147.445,-137.469 150.242,-127.25 141.683,-133.495 147.445,-137.469\"/>\r\n",
       "<text text-anchor=\"middle\" x=\"154.758\" y=\"-148.138\" font-family=\"Times New Roman,serif\" font-size=\"14.00\">False</text>\r\n",
       "</g>\r\n",
       "<!-- 3 -->\r\n",
       "<g id=\"node4\" class=\"node\"><title>3</title>\r\n",
       "<polygon fill=\"#399de5\" stroke=\"black\" points=\"159,-38 61,-38 61,-0 159,-0 159,-38\"/>\r\n",
       "<text text-anchor=\"middle\" x=\"110\" y=\"-22.8\" font-family=\"Times New Roman,serif\" font-size=\"14.00\">samples = 50</text>\r\n",
       "<text text-anchor=\"middle\" x=\"110\" y=\"-7.8\" font-family=\"Times New Roman,serif\" font-size=\"14.00\">value = [0, 50]</text>\r\n",
       "</g>\r\n",
       "<!-- 2&#45;&gt;3 -->\r\n",
       "<g id=\"edge3\" class=\"edge\"><title>2&#45;&gt;3</title>\r\n",
       "<path fill=\"none\" stroke=\"black\" d=\"M149.329,-73.9081C142.905,-65.1022 135.702,-55.2299 129.234,-46.3636\"/>\r\n",
       "<polygon fill=\"black\" stroke=\"black\" points=\"132.028,-44.2546 123.306,-38.2389 126.373,-48.3803 132.028,-44.2546\"/>\r\n",
       "</g>\r\n",
       "<!-- 4 -->\r\n",
       "<g id=\"node5\" class=\"node\"><title>4</title>\r\n",
       "<polygon fill=\"#e58139\" stroke=\"black\" points=\"275,-38 177,-38 177,-0 275,-0 275,-38\"/>\r\n",
       "<text text-anchor=\"middle\" x=\"226\" y=\"-22.8\" font-family=\"Times New Roman,serif\" font-size=\"14.00\">samples = 25</text>\r\n",
       "<text text-anchor=\"middle\" x=\"226\" y=\"-7.8\" font-family=\"Times New Roman,serif\" font-size=\"14.00\">value = [25, 0]</text>\r\n",
       "</g>\r\n",
       "<!-- 2&#45;&gt;4 -->\r\n",
       "<g id=\"edge4\" class=\"edge\"><title>2&#45;&gt;4</title>\r\n",
       "<path fill=\"none\" stroke=\"black\" d=\"M186.671,-73.9081C193.095,-65.1022 200.298,-55.2299 206.766,-46.3636\"/>\r\n",
       "<polygon fill=\"black\" stroke=\"black\" points=\"209.627,-48.3803 212.694,-38.2389 203.972,-44.2546 209.627,-48.3803\"/>\r\n",
       "</g>\r\n",
       "</g>\r\n",
       "</svg>\r\n"
      ],
      "text/plain": [
       "<graphviz.files.Source at 0x24188edf7c8>"
      ]
     },
     "metadata": {},
     "output_type": "display_data"
    },
    {
     "data": {
      "image/png": "[encoded data removed]",
      "text/plain": [
       "<Figure size 432x288 with 1 Axes>"
      ]
     },
     "metadata": {},
     "output_type": "display_data"
    }
   ],
   "source": [
    "tree = mglearn.plots.plot_tree_not_monotone()\n",
    "display(tree)"
   ]
  },
  {
   "cell_type": "code",
   "execution_count": 70,
   "metadata": {},
   "outputs": [],
   "source": [
    "#해석\n",
    "# 2개의 특성과 2개의 클래스를 가진 데이터셋을 보여주고 있음\n",
    "#X[1] 에 있는 정보만 사용하였고, X[0]은 전혀 사용되지 않음. 하지만, X[1] 과 출력 클래스와의 관계는 단순하게 비례\n",
    "#또는 반비레 하지 않음. 즉, X[1] 값이 높으면 클래스 0이고, 값이 낮으면 1이라고 말할수가 없다.(분류의 판단기준 X)"
   ]
  },
  {
   "cell_type": "code",
   "execution_count": 71,
   "metadata": {},
   "outputs": [],
   "source": [
    "#DecisionTreeRegressor 회귀 결정 트리에도 비슷하게 적용됨.\n",
    "#DTR 또는 다른 트리 기반 회귀 모델은 '와삽(extrapolation)' 훈련 데이터의 범위 밖 포인트에 대해 예측 불가함."
   ]
  },
  {
   "cell_type": "code",
   "execution_count": null,
   "metadata": {},
   "outputs": [],
   "source": []
  }
 ],
 "metadata": {
  "kernelspec": {
   "display_name": "Python 3",
   "language": "python",
   "name": "python3"
  },
  "language_info": {
   "codemirror_mode": {
    "name": "ipython",
    "version": 3
   },
   "file_extension": ".py",
   "mimetype": "text/x-python",
   "name": "python",
   "nbconvert_exporter": "python",
   "pygments_lexer": "ipython3",
   "version": "3.7.6"
  }
 },
 "nbformat": 4,
 "nbformat_minor": 4
}
