{
  "nbformat": 4,
  "nbformat_minor": 0,
  "metadata": {
    "colab": {
      "name": "07_24_시그모이드.ipynb",
      "provenance": [],
      "collapsed_sections": []
    },
    "kernelspec": {
      "name": "python3",
      "display_name": "Python 3"
    }
  },
  "cells": [
    {
      "cell_type": "code",
      "metadata": {
        "id": "CGKpsN7Lgrea",
        "colab_type": "code",
        "colab": {}
      },
      "source": [
        "import numpy as np\n",
        "import random\n",
        "import tensorflow as tf"
      ],
      "execution_count": 4,
      "outputs": []
    },
    {
      "cell_type": "code",
      "metadata": {
        "id": "loXFQMPZgs_R",
        "colab_type": "code",
        "colab": {}
      },
      "source": [
        "mnist = tf.keras.datasets.mnist\n",
        "iris = tf.keras.datasets."
      ],
      "execution_count": 5,
      "outputs": []
    },
    {
      "cell_type": "code",
      "metadata": {
        "id": "ocv4axF1gyox",
        "colab_type": "code",
        "colab": {
          "base_uri": "https://localhost:8080/",
          "height": 34
        },
        "outputId": "9918b38e-d9e6-4818-b68f-1222d27e5530"
      },
      "source": [
        "mnist"
      ],
      "execution_count": 6,
      "outputs": [
        {
          "output_type": "execute_result",
          "data": {
            "text/plain": [
              "<module 'tensorflow.keras.datasets.mnist' from '/usr/local/lib/python3.6/dist-packages/tensorflow/keras/datasets/mnist/__init__.py'>"
            ]
          },
          "metadata": {
            "tags": []
          },
          "execution_count": 6
        }
      ]
    },
    {
      "cell_type": "code",
      "metadata": {
        "id": "RlZsqVY1gy-G",
        "colab_type": "code",
        "colab": {}
      },
      "source": [
        "import matplotlib.pylab as plt"
      ],
      "execution_count": 7,
      "outputs": []
    },
    {
      "cell_type": "code",
      "metadata": {
        "id": "vtVZXbiAhH0E",
        "colab_type": "code",
        "colab": {
          "base_uri": "https://localhost:8080/",
          "height": 52
        },
        "outputId": "e10d9598-77a3-42fd-849b-ff90694c15f6"
      },
      "source": [
        "(X_train0, y_train0), (X_test0, y_test0) = mnist.load_data() #데이터를 불러 와서 넣음"
      ],
      "execution_count": 8,
      "outputs": [
        {
          "output_type": "stream",
          "text": [
            "Downloading data from https://storage.googleapis.com/tensorflow/tf-keras-datasets/mnist.npz\n",
            "11493376/11490434 [==============================] - 0s 0us/step\n"
          ],
          "name": "stdout"
        }
      ]
    },
    {
      "cell_type": "code",
      "metadata": {
        "id": "JCNV2NNmiEvG",
        "colab_type": "code",
        "colab": {
          "base_uri": "https://localhost:8080/",
          "height": 879
        },
        "outputId": "abe02bbc-2879-4d89-9016-2dbe78d0eefe"
      },
      "source": [
        "X_train0 #이미지 데이터 -> 2차원 배열로 만들어놓고 -> 다시 1차원 배열로 만들어 인식시킨다.\n",
        "\n",
        "\n",
        "#이미지는 원래 2차원 배열로 구성되어 있다.\n",
        "#근데, 학습시킬때는 이 2차원 배열을 전부 1차원으로 만들어서 원핫인코딩(0,1)로서 만듦\n",
        "#1은 색상이 있는 것인데, 이걸로 색상의 타입을 구분한다.\n",
        "#"
      ],
      "execution_count": 11,
      "outputs": [
        {
          "output_type": "execute_result",
          "data": {
            "text/plain": [
              "array([[[0, 0, 0, ..., 0, 0, 0],\n",
              "        [0, 0, 0, ..., 0, 0, 0],\n",
              "        [0, 0, 0, ..., 0, 0, 0],\n",
              "        ...,\n",
              "        [0, 0, 0, ..., 0, 0, 0],\n",
              "        [0, 0, 0, ..., 0, 0, 0],\n",
              "        [0, 0, 0, ..., 0, 0, 0]],\n",
              "\n",
              "       [[0, 0, 0, ..., 0, 0, 0],\n",
              "        [0, 0, 0, ..., 0, 0, 0],\n",
              "        [0, 0, 0, ..., 0, 0, 0],\n",
              "        ...,\n",
              "        [0, 0, 0, ..., 0, 0, 0],\n",
              "        [0, 0, 0, ..., 0, 0, 0],\n",
              "        [0, 0, 0, ..., 0, 0, 0]],\n",
              "\n",
              "       [[0, 0, 0, ..., 0, 0, 0],\n",
              "        [0, 0, 0, ..., 0, 0, 0],\n",
              "        [0, 0, 0, ..., 0, 0, 0],\n",
              "        ...,\n",
              "        [0, 0, 0, ..., 0, 0, 0],\n",
              "        [0, 0, 0, ..., 0, 0, 0],\n",
              "        [0, 0, 0, ..., 0, 0, 0]],\n",
              "\n",
              "       ...,\n",
              "\n",
              "       [[0, 0, 0, ..., 0, 0, 0],\n",
              "        [0, 0, 0, ..., 0, 0, 0],\n",
              "        [0, 0, 0, ..., 0, 0, 0],\n",
              "        ...,\n",
              "        [0, 0, 0, ..., 0, 0, 0],\n",
              "        [0, 0, 0, ..., 0, 0, 0],\n",
              "        [0, 0, 0, ..., 0, 0, 0]],\n",
              "\n",
              "       [[0, 0, 0, ..., 0, 0, 0],\n",
              "        [0, 0, 0, ..., 0, 0, 0],\n",
              "        [0, 0, 0, ..., 0, 0, 0],\n",
              "        ...,\n",
              "        [0, 0, 0, ..., 0, 0, 0],\n",
              "        [0, 0, 0, ..., 0, 0, 0],\n",
              "        [0, 0, 0, ..., 0, 0, 0]],\n",
              "\n",
              "       [[0, 0, 0, ..., 0, 0, 0],\n",
              "        [0, 0, 0, ..., 0, 0, 0],\n",
              "        [0, 0, 0, ..., 0, 0, 0],\n",
              "        ...,\n",
              "        [0, 0, 0, ..., 0, 0, 0],\n",
              "        [0, 0, 0, ..., 0, 0, 0],\n",
              "        [0, 0, 0, ..., 0, 0, 0]]], dtype=uint8)"
            ]
          },
          "metadata": {
            "tags": []
          },
          "execution_count": 11
        }
      ]
    },
    {
      "cell_type": "code",
      "metadata": {
        "id": "24LT8eBziIUc",
        "colab_type": "code",
        "colab": {
          "base_uri": "https://localhost:8080/",
          "height": 34
        },
        "outputId": "effd8593-29fe-40d6-8d74-2a708aac03cb"
      },
      "source": [
        "y_train0 #그래서~~~ 마지막줄은 8, 마지막줄 전은 6으로 표현해주고 있음"
      ],
      "execution_count": 13,
      "outputs": [
        {
          "output_type": "execute_result",
          "data": {
            "text/plain": [
              "array([5, 0, 4, ..., 5, 6, 8], dtype=uint8)"
            ]
          },
          "metadata": {
            "tags": []
          },
          "execution_count": 13
        }
      ]
    },
    {
      "cell_type": "code",
      "metadata": {
        "id": "qXdNoOVSiKsR",
        "colab_type": "code",
        "colab": {
          "base_uri": "https://localhost:8080/",
          "height": 85
        },
        "outputId": "0b555fff-17b3-4772-bdd5-fe73914af836"
      },
      "source": [
        "plt.figure(figsize=(6,1))\n",
        "for i in range(36):\n",
        "   plt.subplot(3,12, i+1)\n",
        "   plt.imshow(X_train0[i], cmap='gray') #colormap = gray\n",
        "   plt.axis('off')\n",
        "plt.show()\n",
        "\n",
        "#트레인 데이터 안에 들어가 있는 애들임"
      ],
      "execution_count": 17,
      "outputs": [
        {
          "output_type": "display_data",
          "data": {
            "image/png": "[encoded data removed]",
            "text/plain": [
              "<Figure size 432x72 with 36 Axes>"
            ]
          },
          "metadata": {
            "tags": [],
            "needs_background": "light"
          }
        }
      ]
    },
    {
      "cell_type": "code",
      "metadata": {
        "id": "gzHQWWdyiujr",
        "colab_type": "code",
        "colab": {}
      },
      "source": [
        "#2차원 데이터를 1차원으로 만들어 넣어주는 함수가 있음 / 이미지는 2차원되어 있는걸 1차원으로 읽겠금 해서 컴퓨터가 읽음"
      ],
      "execution_count": 18,
      "outputs": []
    },
    {
      "cell_type": "code",
      "metadata": {
        "id": "qbMdpMUtjuV1",
        "colab_type": "code",
        "colab": {}
      },
      "source": [
        "X_train = X_train0.reshape(60000, 784).astype('float32')/255.0 #일렬로 쭉 만들어줌\n",
        "#28x28 짜리 = 784로 만듦"
      ],
      "execution_count": 85,
      "outputs": []
    },
    {
      "cell_type": "code",
      "metadata": {
        "id": "rfwkovqnj3Kq",
        "colab_type": "code",
        "colab": {}
      },
      "source": [
        "X_test = X_test0.reshape(10000, 784).astype('float32')/255.0 #일렬로 쭉 만들어줌"
      ],
      "execution_count": 22,
      "outputs": []
    },
    {
      "cell_type": "code",
      "metadata": {
        "id": "DWlvq6ygkFJx",
        "colab_type": "code",
        "colab": {
          "base_uri": "https://localhost:8080/",
          "height": 34
        },
        "outputId": "f955de94-9473-483b-a7b1-5ae1da45feee"
      },
      "source": [
        "y_train0[:5]  "
      ],
      "execution_count": 23,
      "outputs": [
        {
          "output_type": "execute_result",
          "data": {
            "text/plain": [
              "array([5, 0, 4, 1, 9], dtype=uint8)"
            ]
          },
          "metadata": {
            "tags": []
          },
          "execution_count": 23
        }
      ]
    },
    {
      "cell_type": "code",
      "metadata": {
        "id": "jvqAOg21kKT2",
        "colab_type": "code",
        "colab": {}
      },
      "source": [
        "#범주형으로 되어있는건 크고 작다고 생각함. \n",
        "#하여 -> 원핫인코딩으로 바꿔줘서 넣어야 데이터를 파단함"
      ],
      "execution_count": 24,
      "outputs": []
    },
    {
      "cell_type": "code",
      "metadata": {
        "id": "yuuEGK8UkTXv",
        "colab_type": "code",
        "colab": {}
      },
      "source": [
        "#범주형은 one-hot 인코딩으로 각 카테고리별 항목을 만들어, 해당하는 항목에 표시하는 형식으로 0,1로 구분하여줌.\n",
        "#1은 해당항목에 속한다는 뜻이고, \n",
        "#0은 해당항목에 속하지 않는다는 뜻이다.\n",
        "#원핫인코딩 : keras(to_categorical()) "
      ],
      "execution_count": 26,
      "outputs": []
    },
    {
      "cell_type": "code",
      "metadata": {
        "id": "YogDQHH8kmHq",
        "colab_type": "code",
        "colab": {}
      },
      "source": [
        "from tensorflow.keras.utils import to_categorical"
      ],
      "execution_count": 28,
      "outputs": []
    },
    {
      "cell_type": "code",
      "metadata": {
        "id": "wyeW2ewRlMgt",
        "colab_type": "code",
        "colab": {
          "base_uri": "https://localhost:8080/",
          "height": 34
        },
        "outputId": "812ae238-cbea-47e0-c20a-23ce494ede42"
      },
      "source": [
        "y_train0"
      ],
      "execution_count": 30,
      "outputs": [
        {
          "output_type": "execute_result",
          "data": {
            "text/plain": [
              "array([5, 0, 4, ..., 5, 6, 8], dtype=uint8)"
            ]
          },
          "metadata": {
            "tags": []
          },
          "execution_count": 30
        }
      ]
    },
    {
      "cell_type": "code",
      "metadata": {
        "id": "adw3CkBJlJfo",
        "colab_type": "code",
        "colab": {
          "base_uri": "https://localhost:8080/",
          "height": 105
        },
        "outputId": "fce6e08d-f62e-4830-c244-930506d480fd"
      },
      "source": [
        "Y_train = to_categorical(y_train0, 10)\n",
        "Y_test = to_categorical(y_test0, 10)\n",
        "Y_train[0:5] #원핫인코딩임"
      ],
      "execution_count": 36,
      "outputs": [
        {
          "output_type": "execute_result",
          "data": {
            "text/plain": [
              "array([[0., 0., 0., 0., 0., 1., 0., 0., 0., 0.],\n",
              "       [1., 0., 0., 0., 0., 0., 0., 0., 0., 0.],\n",
              "       [0., 0., 0., 0., 1., 0., 0., 0., 0., 0.],\n",
              "       [0., 1., 0., 0., 0., 0., 0., 0., 0., 0.],\n",
              "       [0., 0., 0., 0., 0., 0., 0., 0., 0., 1.]], dtype=float32)"
            ]
          },
          "metadata": {
            "tags": []
          },
          "execution_count": 36
        }
      ]
    },
    {
      "cell_type": "code",
      "metadata": {
        "id": "7fl8h544lUlu",
        "colab_type": "code",
        "colab": {}
      },
      "source": [
        "#원핫인코딩 = to_categorical / 데이터를 1차원으로 쭉 만들어줘야하고, 카테고리는 더미파일로 만들어줘야함(원핫인코딩)"
      ],
      "execution_count": 37,
      "outputs": []
    },
    {
      "cell_type": "code",
      "metadata": {
        "id": "cdD02SODl1a7",
        "colab_type": "code",
        "colab": {}
      },
      "source": [
        "from tensorflow.keras.models import Sequential\n",
        "#DeepLearning의 레이어를 쌓을 수 있는 틀 역할"
      ],
      "execution_count": 38,
      "outputs": []
    },
    {
      "cell_type": "code",
      "metadata": {
        "id": "qu_daG0xmKOw",
        "colab_type": "code",
        "colab": {}
      },
      "source": [
        "from tensorflow.keras.layers import Dense\n",
        "#각 레이어에 해당하는 객체"
      ],
      "execution_count": 39,
      "outputs": []
    },
    {
      "cell_type": "code",
      "metadata": {
        "id": "WoMuaJHTmOEK",
        "colab_type": "code",
        "colab": {}
      },
      "source": [
        "#옵티마이저 필요 : 학습률 조절\n",
        "from tensorflow.keras.optimizers import SGD #경사하강법 종류 하나 임포트"
      ],
      "execution_count": 42,
      "outputs": []
    },
    {
      "cell_type": "code",
      "metadata": {
        "id": "1nD-4wzhmU1q",
        "colab_type": "code",
        "colab": {}
      },
      "source": [
        "tf.random.set_seed(0)"
      ],
      "execution_count": 43,
      "outputs": []
    },
    {
      "cell_type": "code",
      "metadata": {
        "id": "mmYKTQ24mzA-",
        "colab_type": "code",
        "colab": {}
      },
      "source": [
        "#신경망 구축 시작\n",
        "#1. 특열할 객체를 생성해라\n",
        "#2. layer를 쌓아라\n",
        "#3. model compile // 모델컴파일\n",
        "\n",
        "model = Sequential() "
      ],
      "execution_count": 45,
      "outputs": []
    },
    {
      "cell_type": "code",
      "metadata": {
        "id": "x91p-_OJm4JE",
        "colab_type": "code",
        "colab": {}
      },
      "source": [
        "#입력층\n",
        "\n",
        "model.add(Dense(15, input_dim=784, activation='sigmoid')) #Chain식으로 구축함, input은 퍼셉트론인데 현재 글자를 2차원 -> 1차원 배열로 바꿔놓음, 그게 784개임\n",
        "#이미지는 시그모이드 함수를 이용"
      ],
      "execution_count": 49,
      "outputs": []
    },
    {
      "cell_type": "code",
      "metadata": {
        "id": "C18F0Rbanj16",
        "colab_type": "code",
        "colab": {}
      },
      "source": [
        "#SIGMOID 함수는 0과 1 로 나누어진 것중, 가까운곳에 위치한걸 정답으로 예측함\n",
        "#로지스틱(시그모이드) -> 어떤 값이 들어왔을때 0.5 이상이면 1로 판단 / 0.5 이하면 0으로 판단해서 -> 결과값을 예측함\n",
        "#부가 : 계단함수는 0과 1로만 딱 나누어짐 / "
      ],
      "execution_count": 48,
      "outputs": []
    },
    {
      "cell_type": "code",
      "metadata": {
        "id": "p9H-PGpYpdyt",
        "colab_type": "code",
        "colab": {}
      },
      "source": [
        "#출력층\n",
        "\n",
        "model.add(Dense(10, activation='sigmoid'))"
      ],
      "execution_count": 52,
      "outputs": []
    },
    {
      "cell_type": "code",
      "metadata": {
        "id": "UtkNoEBQqTx_",
        "colab_type": "code",
        "colab": {}
      },
      "source": [
        "model.compile(optimizer=SGD(lr=0.2), loss='mean_squared_error', metrics=['accuracy']) #SGD 방식을 이용하여, 최적화 기울기를 찾아라. \n",
        "#loss 움직일때, 면적으로 움직여라. 움직이는 면적을 점점 줄여라\n",
        "#1번 그래프, 2번 그래프간의 간격 거리를 줄이며 최적화 시킬때는 mean_square(네모')로 점점 줄이면서 최적화 기울기를 찾으시오.\n",
        "#accuracy가 점점 떨어진다면, 나는 문제있다고 보여주어라"
      ],
      "execution_count": 61,
      "outputs": []
    },
    {
      "cell_type": "code",
      "metadata": {
        "id": "nergZqd9rUk9",
        "colab_type": "code",
        "colab": {
          "base_uri": "https://localhost:8080/",
          "height": 756
        },
        "outputId": "c7a98ca6-f074-44d4-a747-e1249c6704ab"
      },
      "source": [
        "%%time\n",
        "hist = model.fit(X_train, Y_train,\n",
        "                epochs=20, batch_size=100,\n",
        "                 validation_data=(X_test, Y_test), \n",
        "                 verbose=2\n",
        "                )\n",
        "#양이 많으니깐, batch로 100개씩 묶어서 해라"
      ],
      "execution_count": 62,
      "outputs": [
        {
          "output_type": "stream",
          "text": [
            "Epoch 1/20\n",
            "600/600 - 1s - loss: 0.1054 - accuracy: 0.1096 - val_loss: 0.0902 - val_accuracy: 0.1135\n",
            "Epoch 2/20\n",
            "600/600 - 1s - loss: 0.0900 - accuracy: 0.1124 - val_loss: 0.0899 - val_accuracy: 0.1135\n",
            "Epoch 3/20\n",
            "600/600 - 1s - loss: 0.0899 - accuracy: 0.1124 - val_loss: 0.0898 - val_accuracy: 0.1135\n",
            "Epoch 4/20\n",
            "600/600 - 1s - loss: 0.0898 - accuracy: 0.1124 - val_loss: 0.0898 - val_accuracy: 0.1135\n",
            "Epoch 5/20\n",
            "600/600 - 1s - loss: 0.0897 - accuracy: 0.1126 - val_loss: 0.0897 - val_accuracy: 0.1141\n",
            "Epoch 6/20\n",
            "600/600 - 1s - loss: 0.0897 - accuracy: 0.1146 - val_loss: 0.0896 - val_accuracy: 0.1270\n",
            "Epoch 7/20\n",
            "600/600 - 1s - loss: 0.0896 - accuracy: 0.1379 - val_loss: 0.0895 - val_accuracy: 0.1487\n",
            "Epoch 8/20\n",
            "600/600 - 1s - loss: 0.0895 - accuracy: 0.1593 - val_loss: 0.0894 - val_accuracy: 0.1797\n",
            "Epoch 9/20\n",
            "600/600 - 1s - loss: 0.0894 - accuracy: 0.1922 - val_loss: 0.0893 - val_accuracy: 0.1883\n",
            "Epoch 10/20\n",
            "600/600 - 1s - loss: 0.0892 - accuracy: 0.1953 - val_loss: 0.0891 - val_accuracy: 0.2149\n",
            "Epoch 11/20\n",
            "600/600 - 1s - loss: 0.0890 - accuracy: 0.2190 - val_loss: 0.0889 - val_accuracy: 0.2394\n",
            "Epoch 12/20\n",
            "600/600 - 1s - loss: 0.0887 - accuracy: 0.2410 - val_loss: 0.0885 - val_accuracy: 0.2531\n",
            "Epoch 13/20\n",
            "600/600 - 1s - loss: 0.0883 - accuracy: 0.2559 - val_loss: 0.0881 - val_accuracy: 0.2567\n",
            "Epoch 14/20\n",
            "600/600 - 1s - loss: 0.0878 - accuracy: 0.2605 - val_loss: 0.0874 - val_accuracy: 0.2709\n",
            "Epoch 15/20\n",
            "600/600 - 1s - loss: 0.0871 - accuracy: 0.2739 - val_loss: 0.0866 - val_accuracy: 0.2812\n",
            "Epoch 16/20\n",
            "600/600 - 1s - loss: 0.0861 - accuracy: 0.2862 - val_loss: 0.0855 - val_accuracy: 0.2941\n",
            "Epoch 17/20\n",
            "600/600 - 1s - loss: 0.0849 - accuracy: 0.3194 - val_loss: 0.0841 - val_accuracy: 0.3485\n",
            "Epoch 18/20\n",
            "600/600 - 1s - loss: 0.0834 - accuracy: 0.3489 - val_loss: 0.0825 - val_accuracy: 0.3462\n",
            "Epoch 19/20\n",
            "600/600 - 1s - loss: 0.0817 - accuracy: 0.3387 - val_loss: 0.0807 - val_accuracy: 0.3534\n",
            "Epoch 20/20\n",
            "600/600 - 1s - loss: 0.0798 - accuracy: 0.3630 - val_loss: 0.0788 - val_accuracy: 0.3704\n",
            "CPU times: user 31.1 s, sys: 2.1 s, total: 33.2 s\n",
            "Wall time: 23.9 s\n"
          ],
          "name": "stdout"
        }
      ]
    },
    {
      "cell_type": "code",
      "metadata": {
        "id": "IQfGX6OhrVK6",
        "colab_type": "code",
        "colab": {
          "base_uri": "https://localhost:8080/",
          "height": 265
        },
        "outputId": "cdbf588c-1b52-45fa-d5a4-7cd0c4233526"
      },
      "source": [
        "plt.figure(figsize=(8,4))\n",
        "plt.subplot(1,2,1) #이 행에 끼겠다\n",
        "plt.plot(hist.history['loss'])\n",
        "plt.show()"
      ],
      "execution_count": 63,
      "outputs": [
        {
          "output_type": "display_data",
          "data": {
            "image/png": "[encoded data removed]",
            "text/plain": [
              "<Figure size 576x288 with 1 Axes>"
            ]
          },
          "metadata": {
            "tags": [],
            "needs_background": "light"
          }
        }
      ]
    },
    {
      "cell_type": "code",
      "metadata": {
        "id": "mYc9SG9GvqI9",
        "colab_type": "code",
        "colab": {
          "base_uri": "https://localhost:8080/",
          "height": 281
        },
        "outputId": "8697a184-5f01-44e4-f212-7667497ac030"
      },
      "source": [
        "plt.figure(figsize=(8,4))\n",
        "plt.subplot(1,2,1) #이 행에 끼겠다\n",
        "plt.plot(hist.history['loss'])\n",
        "plt.title('loss')\n",
        "\n",
        "plt.subplot(1,2,2)\n",
        "plt.plot(hist.history['accuracy'], '-b', label='training')\n",
        "plt.title('accuracy')\n",
        "plt.show()"
      ],
      "execution_count": 64,
      "outputs": [
        {
          "output_type": "display_data",
          "data": {
            "image/png": "[encoded data removed]",
            "text/plain": [
              "<Figure size 576x288 with 2 Axes>"
            ]
          },
          "metadata": {
            "tags": [],
            "needs_background": "light"
          }
        }
      ]
    },
    {
      "cell_type": "code",
      "metadata": {
        "id": "jOrrnw-Tv-QQ",
        "colab_type": "code",
        "colab": {
          "base_uri": "https://localhost:8080/",
          "height": 281
        },
        "outputId": "1114e8b8-2b49-4b0c-ea22-2d96c9ff4370"
      },
      "source": [
        "plt.figure(figsize=(8,4))\n",
        "plt.subplot(1,2,1) #이 행에 끼겠다\n",
        "plt.plot(hist.history['loss'])\n",
        "plt.title('loss')\n",
        "\n",
        "plt.subplot(1,2,2)\n",
        "plt.plot(hist.history['accuracy'], '-b', label='training')\n",
        "plt.plot(hist.history['val_accuracy'], 'r:', label='validation')\n",
        "plt.title('accuracy')\n",
        "plt.legend()\n",
        "plt.show()\n",
        "\n",
        "#그래프가 점점 최적화로 되면서, 손실율을 줄이는거다(마진이 줄어드니깐 그래프가 최적화된 선을 찾아가잖아)\n",
        "#accuracy는 정답률을 점점 맞추고 있다."
      ],
      "execution_count": 68,
      "outputs": [
        {
          "output_type": "display_data",
          "data": {
            "image/png": "[encoded data removed]",
            "text/plain": [
              "<Figure size 576x288 with 2 Axes>"
            ]
          },
          "metadata": {
            "tags": [],
            "needs_background": "light"
          }
        }
      ]
    },
    {
      "cell_type": "code",
      "metadata": {
        "id": "jdKb6ATDwNpn",
        "colab_type": "code",
        "colab": {
          "base_uri": "https://localhost:8080/",
          "height": 1000
        },
        "outputId": "da44548d-e14d-4d72-aea6-dd1a78cc33a6"
      },
      "source": [
        "hist.history"
      ],
      "execution_count": 67,
      "outputs": [
        {
          "output_type": "execute_result",
          "data": {
            "text/plain": [
              "{'accuracy': [0.1096000000834465,\n",
              "  0.11236666887998581,\n",
              "  0.11236666887998581,\n",
              "  0.11236666887998581,\n",
              "  0.11263333261013031,\n",
              "  0.11463333666324615,\n",
              "  0.13785000145435333,\n",
              "  0.15931667387485504,\n",
              "  0.19220000505447388,\n",
              "  0.195250004529953,\n",
              "  0.21903333067893982,\n",
              "  0.2409999966621399,\n",
              "  0.255866676568985,\n",
              "  0.26046666502952576,\n",
              "  0.27390000224113464,\n",
              "  0.2862499952316284,\n",
              "  0.3193666636943817,\n",
              "  0.3489166796207428,\n",
              "  0.3386833369731903,\n",
              "  0.36301666498184204],\n",
              " 'loss': [0.10542640835046768,\n",
              "  0.08997507393360138,\n",
              "  0.08985242247581482,\n",
              "  0.08980055153369904,\n",
              "  0.08974495530128479,\n",
              "  0.08967898041009903,\n",
              "  0.08959849923849106,\n",
              "  0.0894991084933281,\n",
              "  0.08937360346317291,\n",
              "  0.08921270817518234,\n",
              "  0.08900165557861328,\n",
              "  0.08871819078922272,\n",
              "  0.08833137899637222,\n",
              "  0.08780021965503693,\n",
              "  0.0870755985379219,\n",
              "  0.08611304312944412,\n",
              "  0.08488870412111282,\n",
              "  0.08340507000684738,\n",
              "  0.08169688284397125,\n",
              "  0.0798380970954895],\n",
              " 'val_accuracy': [0.11349999904632568,\n",
              "  0.11349999904632568,\n",
              "  0.11349999904632568,\n",
              "  0.11349999904632568,\n",
              "  0.11410000175237656,\n",
              "  0.12700000405311584,\n",
              "  0.14869999885559082,\n",
              "  0.17970000207424164,\n",
              "  0.1882999986410141,\n",
              "  0.21490000188350677,\n",
              "  0.2393999993801117,\n",
              "  0.2531000077724457,\n",
              "  0.2567000091075897,\n",
              "  0.27090001106262207,\n",
              "  0.28119999170303345,\n",
              "  0.29409998655319214,\n",
              "  0.34850001335144043,\n",
              "  0.34619998931884766,\n",
              "  0.35339999198913574,\n",
              "  0.37040001153945923],\n",
              " 'val_loss': [0.09018752723932266,\n",
              "  0.08987549692392349,\n",
              "  0.08981979638338089,\n",
              "  0.08976823836565018,\n",
              "  0.0897076278924942,\n",
              "  0.08963463455438614,\n",
              "  0.08954431116580963,\n",
              "  0.08943203091621399,\n",
              "  0.08928898721933365,\n",
              "  0.08910508453845978,\n",
              "  0.08885832875967026,\n",
              "  0.08852403610944748,\n",
              "  0.08806602656841278,\n",
              "  0.08743655681610107,\n",
              "  0.08658712357282639,\n",
              "  0.08547960221767426,\n",
              "  0.08410515636205673,\n",
              "  0.08248359709978104,\n",
              "  0.08067347854375839,\n",
              "  0.07877259701490402]}"
            ]
          },
          "metadata": {
            "tags": []
          },
          "execution_count": 67
        }
      ]
    },
    {
      "cell_type": "code",
      "metadata": {
        "id": "HUMRNvoQwhtA",
        "colab_type": "code",
        "colab": {
          "base_uri": "https://localhost:8080/",
          "height": 70
        },
        "outputId": "388ca8ad-e37e-4c2d-9edc-141289db6488"
      },
      "source": [
        "#모델을 사용하여예측해봄\n",
        "\n",
        "model.predict(X_test[:1, :])\n",
        "\n",
        "#0번부터 9번까지 될 확률을 뽑아준것임\n",
        "#이미지가 0~9번까지 지금 분류되어있잖아. "
      ],
      "execution_count": 73,
      "outputs": [
        {
          "output_type": "execute_result",
          "data": {
            "text/plain": [
              "array([[0.07264018, 0.24423516, 0.12725508, 0.06172097, 0.10200086,\n",
              "        0.08106476, 0.0798209 , 0.49800423, 0.09936762, 0.19656686]],\n",
              "      dtype=float32)"
            ]
          },
          "metadata": {
            "tags": []
          },
          "execution_count": 73
        }
      ]
    },
    {
      "cell_type": "code",
      "metadata": {
        "id": "HHCa0wyDw6zf",
        "colab_type": "code",
        "colab": {
          "base_uri": "https://localhost:8080/",
          "height": 140
        },
        "outputId": "fb340009-b4bd-4214-aa0d-5e0fc2cea753"
      },
      "source": [
        "X_test"
      ],
      "execution_count": 72,
      "outputs": [
        {
          "output_type": "execute_result",
          "data": {
            "text/plain": [
              "array([[0., 0., 0., ..., 0., 0., 0.],\n",
              "       [0., 0., 0., ..., 0., 0., 0.],\n",
              "       [0., 0., 0., ..., 0., 0., 0.],\n",
              "       ...,\n",
              "       [0., 0., 0., ..., 0., 0., 0.],\n",
              "       [0., 0., 0., ..., 0., 0., 0.],\n",
              "       [0., 0., 0., ..., 0., 0., 0.]], dtype=float32)"
            ]
          },
          "metadata": {
            "tags": []
          },
          "execution_count": 72
        }
      ]
    },
    {
      "cell_type": "code",
      "metadata": {
        "id": "K01Abg9HxJai",
        "colab_type": "code",
        "colab": {
          "base_uri": "https://localhost:8080/",
          "height": 34
        },
        "outputId": "5f63698a-65c1-496c-b4b5-a28f7dc0d813"
      },
      "source": [
        "model.predict_classes(X_test[:1, :], verbose=0)"
      ],
      "execution_count": 79,
      "outputs": [
        {
          "output_type": "execute_result",
          "data": {
            "text/plain": [
              "array([7])"
            ]
          },
          "metadata": {
            "tags": []
          },
          "execution_count": 79
        }
      ]
    },
    {
      "cell_type": "code",
      "metadata": {
        "id": "j9-TUMguxYNH",
        "colab_type": "code",
        "colab": {
          "base_uri": "https://localhost:8080/",
          "height": 85
        },
        "outputId": "3f361c79-6094-4756-de09-8d82a54581c2"
      },
      "source": [
        "plt.figure(figsize=(1,1))\n",
        "plt.imshow(X_test0[0], cmap=plt.cm.bone_r) #이 행에 끼겠다\n",
        "plt.grid(False)\n",
        "plt.axis(\"off\")\n",
        "plt.show()"
      ],
      "execution_count": 77,
      "outputs": [
        {
          "output_type": "display_data",
          "data": {
            "image/png": "[encoded data removed]",
            "text/plain": [
              "<Figure size 72x72 with 1 Axes>"
            ]
          },
          "metadata": {
            "tags": [],
            "needs_background": "light"
          }
        }
      ]
    },
    {
      "cell_type": "code",
      "metadata": {
        "id": "DWcDXQ3Dxu2k",
        "colab_type": "code",
        "colab": {
          "base_uri": "https://localhost:8080/",
          "height": 70
        },
        "outputId": "cebb9a68-e758-48f1-e760-23b6ef5cf4fd"
      },
      "source": [
        "model.predict(X_test[1:2, :])\n",
        "\n",
        "#0~9 까지 각각의 가능성 퍼센티지를 찾아주는 것임"
      ],
      "execution_count": 83,
      "outputs": [
        {
          "output_type": "execute_result",
          "data": {
            "text/plain": [
              "array([[0.15367025, 0.18430829, 0.12829015, 0.15801612, 0.1054309 ,\n",
              "        0.10327148, 0.19142577, 0.05021504, 0.1070656 , 0.08060401]],\n",
              "      dtype=float32)"
            ]
          },
          "metadata": {
            "tags": []
          },
          "execution_count": 83
        }
      ]
    },
    {
      "cell_type": "code",
      "metadata": {
        "id": "rel17ywnx2tO",
        "colab_type": "code",
        "colab": {
          "base_uri": "https://localhost:8080/",
          "height": 34
        },
        "outputId": "f62b4ccc-c234-46f9-8fb8-19aeae5b6b4f"
      },
      "source": [
        "model.predict_classes(X_test[1:2, :], verbose=0)\n",
        "\n",
        "#Array[6] 에 있는 0.19의 정확도가 제일 높기때문에 -> array[6] 으로 표시한것이고, 그리고 그거의 이미지는 2이다."
      ],
      "execution_count": 84,
      "outputs": [
        {
          "output_type": "execute_result",
          "data": {
            "text/plain": [
              "array([6])"
            ]
          },
          "metadata": {
            "tags": []
          },
          "execution_count": 84
        }
      ]
    },
    {
      "cell_type": "code",
      "metadata": {
        "id": "MJWCiKEEyfX1",
        "colab_type": "code",
        "colab": {
          "base_uri": "https://localhost:8080/",
          "height": 85
        },
        "outputId": "ed0d096d-5da0-4e30-e3ca-bd97c7e7abab"
      },
      "source": [
        "plt.figure(figsize=(1,1))\n",
        "plt.imshow(X_test0[1], cmap=plt.cm.bone_r) #이 행에 끼겠다\n",
        "plt.grid(False)\n",
        "plt.axis(\"off\")\n",
        "plt.show()"
      ],
      "execution_count": 82,
      "outputs": [
        {
          "output_type": "display_data",
          "data": {
            "image/png": "[encoded data removed]",
            "text/plain": [
              "<Figure size 72x72 with 1 Axes>"
            ]
          },
          "metadata": {
            "tags": [],
            "needs_background": "light"
          }
        }
      ]
    },
    {
      "cell_type": "code",
      "metadata": {
        "id": "xhmAOd9xymVz",
        "colab_type": "code",
        "colab": {}
      },
      "source": [
        ""
      ],
      "execution_count": null,
      "outputs": []
    }
  ]
}