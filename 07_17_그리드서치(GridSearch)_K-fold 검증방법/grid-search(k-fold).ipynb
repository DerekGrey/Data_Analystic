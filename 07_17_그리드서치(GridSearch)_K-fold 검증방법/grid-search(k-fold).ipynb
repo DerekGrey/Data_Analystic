{
 "cells": [
  {
   "cell_type": "code",
   "execution_count": 8,
   "metadata": {},
   "outputs": [
    {
     "name": "stderr",
     "output_type": "stream",
     "text": [
      "C:\\ProgramData\\Anaconda3\\lib\\site-packages\\sklearn\\model_selection\\_search.py:814: DeprecationWarning: The default of the `iid` parameter will change from True to False in version 0.22 and will be removed in 0.24. This will change numeric results when test-set sizes are unequal.\n",
      "  DeprecationWarning)\n"
     ]
    },
    {
     "name": "stdout",
     "output_type": "stream",
     "text": [
      "optimal parameter ==> {'C': 100, 'kernel': 'linear'}\n",
      "optimal parameter의 점수 ==> 0.970\n",
      "optimal parameter로 일반화 점수 ==> 0.924\n"
     ]
    }
   ],
   "source": [
    "from sklearn.datasets import load_breast_cancer\n",
    "from sklearn.model_selection import train_test_split, KFold, GridSearchCV\n",
    "from sklearn.svm import SVC\n",
    "\n",
    "# datasets\n",
    "cancer = load_breast_cancer()\n",
    "\n",
    "# data paritition\n",
    "x_train, x_test, y_train, y_test =  train_test_split(cancer.data, cancer.target,random_state=0, test_size=0.3, stratify=cancer.target)\n",
    "\n",
    "# create class\n",
    "\n",
    "svc = SVC()\n",
    "kfold = KFold(n_splits=5, shuffle=True, random_state=0)\n",
    "values = [0.001, 0.01, 0.1, 1, 10, 100]\n",
    "param_grid = [{'kernel':['rbf'], 'C':values, 'gamma':values},\n",
    "               {'kernel':['linear'], 'C':values}]\n",
    "grid_search = GridSearchCV(svc, param_grid, cv=kfold)\n",
    "grid_search.fit(x_train, y_train)\n",
    "\n",
    "# results\n",
    "print('optimal parameter ==> {}'.format(grid_search.best_params_))\n",
    "print('optimal parameter의 점수 ==> {:.3f}'.format(grid_search.best_score_))\n",
    "print('optimal parameter로 일반화 점수 ==> {:.3f}'.format(grid_search.score(x_test, y_test)))\n",
    "# optimal parameter ==> {'C': 100, 'kernel': 'linear'}\n",
    "# optimal parameter의 점수 ==> 0.970\n",
    "# optimal parameter로 일반화 점수 ==> 0.924"
   ]
  },
  {
   "cell_type": "code",
   "execution_count": 10,
   "metadata": {},
   "outputs": [],
   "source": [
    "# library import\n",
    "\n",
    "import pandas as pd\n",
    "\n",
    "\n",
    "\n",
    "results = pd.DataFrame(grid_search.cv_results_)\n",
    "\n",
    "\n",
    "\n",
    "# write csv\n",
    "\n",
    "results.T.to_csv('grid_search.cv_results_.csv')"
   ]
  },
  {
   "cell_type": "code",
   "execution_count": null,
   "metadata": {},
   "outputs": [],
   "source": []
  }
 ],
 "metadata": {
  "kernelspec": {
   "display_name": "Python 3",
   "language": "python",
   "name": "python3"
  },
  "language_info": {
   "codemirror_mode": {
    "name": "ipython",
    "version": 3
   },
   "file_extension": ".py",
   "mimetype": "text/x-python",
   "name": "python",
   "nbconvert_exporter": "python",
   "pygments_lexer": "ipython3",
   "version": "3.7.4"
  }
 },
 "nbformat": 4,
 "nbformat_minor": 4
}
