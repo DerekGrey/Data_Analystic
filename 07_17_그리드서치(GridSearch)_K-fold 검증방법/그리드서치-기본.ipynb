{
 "cells": [
  {
   "cell_type": "code",
   "execution_count": 3,
   "metadata": {},
   "outputs": [
    {
     "name": "stdout",
     "output_type": "stream",
     "text": [
      "train set size:(105, 4), test set size:(45, 4)\n",
      "best score ==> 0.978\n",
      "best parameter ==> {'C': 100, 'gamma': 0.001}\n"
     ]
    }
   ],
   "source": [
    "# library import\n",
    "from sklearn.svm import SVC\n",
    "from sklearn.model_selection import train_test_split\n",
    "from sklearn.datasets import load_iris\n",
    "\n",
    "# data load\n",
    "iris = load_iris()\n",
    "# data partition\n",
    "x_train, x_test, y_train, y_test =  train_test_split(iris.data, iris.target,\n",
    "                   test_size=0.3, random_state=0)\n",
    "print('train set size:{}, test set size:{}'.format(x_train.shape, x_test.shape))\n",
    "\n",
    "# train set size:(105, 4), test set size:(45, 4)\n",
    "# grid search\n",
    "best_score = 0\n",
    "values = [0.001, 0.01, 0.1, 1, 10, 100]\n",
    "for g in values:\n",
    "    for c in values:\n",
    "        svc = SVC(gamma=g, C=c).fit(x_train, y_train)\n",
    "        score = svc.score(x_test, y_test)\n",
    "        if score > best_score:\n",
    "            best_score = score\n",
    "            best_param = {'C':c, 'gamma':g}\n",
    "\n",
    "print('best score ==> {:.3f}'.format(best_score))\n",
    "print('best parameter ==> {}'.format(best_param))\n",
    "# best score ==> 0.978\n",
    "# best parameter ==> {'C': 100, 'gamma': 0.001}"
   ]
  },
  {
   "cell_type": "code",
   "execution_count": null,
   "metadata": {},
   "outputs": [],
   "source": []
  }
 ],
 "metadata": {
  "kernelspec": {
   "display_name": "Python 3",
   "language": "python",
   "name": "python3"
  },
  "language_info": {
   "codemirror_mode": {
    "name": "ipython",
    "version": 3
   },
   "file_extension": ".py",
   "mimetype": "text/x-python",
   "name": "python",
   "nbconvert_exporter": "python",
   "pygments_lexer": "ipython3",
   "version": "3.7.4"
  }
 },
 "nbformat": 4,
 "nbformat_minor": 4
}
