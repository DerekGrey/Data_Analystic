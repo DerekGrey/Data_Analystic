{
 "cells": [
  {
   "cell_type": "code",
   "execution_count": 1,
   "metadata": {},
   "outputs": [],
   "source": [
    "#Car 데이터를 가지고, KNN, SVM 으로 분류"
   ]
  },
  {
   "cell_type": "code",
   "execution_count": 73,
   "metadata": {},
   "outputs": [],
   "source": [
    "#a . 상관도 분석 포함\n",
    "#b. train_test 분류\n",
    "#c. 학습 -> 최적의 모델 찾기\n",
    "#d. 모델 성능 평가"
   ]
  },
  {
   "cell_type": "code",
   "execution_count": 74,
   "metadata": {},
   "outputs": [],
   "source": [
    "import pandas as pd\n",
    "from sklearn.model_selection import train_test_split #트레인, 테스트 데이터 분류 \n",
    "from sklearn.svm import SVC #SVC 서포트 벡터 머신 라이브러리(분류화)\n",
    "from sklearn.metrics import accuracy_score, classification_report  #metrics 는 confusion metrics 의 라이브러리 : accuracy/recall/precision 등 모델 평가\n",
    "from sklearn.neighbors import KNeighborsClassifier #KNN 분류 라이브러리\n",
    "import matplotlib.pyplot as plt\n",
    "import seaborn as sns\n",
    "%matplotlib inline "
   ]
  },
  {
   "cell_type": "code",
   "execution_count": 75,
   "metadata": {},
   "outputs": [],
   "source": [
    "car_data = pd.read_csv('car-knn.csv', encoding='UTF-8')"
   ]
  },
  {
   "cell_type": "code",
   "execution_count": 76,
   "metadata": {},
   "outputs": [
    {
     "data": {
      "text/html": [
       "<div>\n",
       "<style scoped>\n",
       "    .dataframe tbody tr th:only-of-type {\n",
       "        vertical-align: middle;\n",
       "    }\n",
       "\n",
       "    .dataframe tbody tr th {\n",
       "        vertical-align: top;\n",
       "    }\n",
       "\n",
       "    .dataframe thead th {\n",
       "        text-align: right;\n",
       "    }\n",
       "</style>\n",
       "<table border=\"1\" class=\"dataframe\">\n",
       "  <thead>\n",
       "    <tr style=\"text-align: right;\">\n",
       "      <th></th>\n",
       "      <th>wheels</th>\n",
       "      <th>chassis</th>\n",
       "      <th>pax</th>\n",
       "      <th>vtype</th>\n",
       "      <th>class</th>\n",
       "    </tr>\n",
       "  </thead>\n",
       "  <tbody>\n",
       "    <tr>\n",
       "      <th>0</th>\n",
       "      <td>1</td>\n",
       "      <td>1</td>\n",
       "      <td>1</td>\n",
       "      <td>Bike</td>\n",
       "      <td>1</td>\n",
       "    </tr>\n",
       "    <tr>\n",
       "      <th>1</th>\n",
       "      <td>1</td>\n",
       "      <td>1</td>\n",
       "      <td>1</td>\n",
       "      <td>Bike</td>\n",
       "      <td>1</td>\n",
       "    </tr>\n",
       "    <tr>\n",
       "      <th>2</th>\n",
       "      <td>1</td>\n",
       "      <td>1</td>\n",
       "      <td>1</td>\n",
       "      <td>Bike</td>\n",
       "      <td>1</td>\n",
       "    </tr>\n",
       "    <tr>\n",
       "      <th>3</th>\n",
       "      <td>1</td>\n",
       "      <td>1</td>\n",
       "      <td>1</td>\n",
       "      <td>Bike</td>\n",
       "      <td>1</td>\n",
       "    </tr>\n",
       "    <tr>\n",
       "      <th>4</th>\n",
       "      <td>1</td>\n",
       "      <td>1</td>\n",
       "      <td>1</td>\n",
       "      <td>Bike</td>\n",
       "      <td>1</td>\n",
       "    </tr>\n",
       "    <tr>\n",
       "      <th>...</th>\n",
       "      <td>...</td>\n",
       "      <td>...</td>\n",
       "      <td>...</td>\n",
       "      <td>...</td>\n",
       "      <td>...</td>\n",
       "    </tr>\n",
       "    <tr>\n",
       "      <th>99995</th>\n",
       "      <td>18</td>\n",
       "      <td>27</td>\n",
       "      <td>1</td>\n",
       "      <td>Truck</td>\n",
       "      <td>4</td>\n",
       "    </tr>\n",
       "    <tr>\n",
       "      <th>99996</th>\n",
       "      <td>18</td>\n",
       "      <td>21</td>\n",
       "      <td>1</td>\n",
       "      <td>Truck</td>\n",
       "      <td>4</td>\n",
       "    </tr>\n",
       "    <tr>\n",
       "      <th>99997</th>\n",
       "      <td>18</td>\n",
       "      <td>23</td>\n",
       "      <td>1</td>\n",
       "      <td>Truck</td>\n",
       "      <td>4</td>\n",
       "    </tr>\n",
       "    <tr>\n",
       "      <th>99998</th>\n",
       "      <td>18</td>\n",
       "      <td>28</td>\n",
       "      <td>1</td>\n",
       "      <td>Truck</td>\n",
       "      <td>4</td>\n",
       "    </tr>\n",
       "    <tr>\n",
       "      <th>99999</th>\n",
       "      <td>18</td>\n",
       "      <td>26</td>\n",
       "      <td>2</td>\n",
       "      <td>Truck</td>\n",
       "      <td>4</td>\n",
       "    </tr>\n",
       "  </tbody>\n",
       "</table>\n",
       "<p>100000 rows × 5 columns</p>\n",
       "</div>"
      ],
      "text/plain": [
       "       wheels  chassis  pax  vtype  class\n",
       "0           1        1    1   Bike      1\n",
       "1           1        1    1   Bike      1\n",
       "2           1        1    1   Bike      1\n",
       "3           1        1    1   Bike      1\n",
       "4           1        1    1   Bike      1\n",
       "...       ...      ...  ...    ...    ...\n",
       "99995      18       27    1  Truck      4\n",
       "99996      18       21    1  Truck      4\n",
       "99997      18       23    1  Truck      4\n",
       "99998      18       28    1  Truck      4\n",
       "99999      18       26    2  Truck      4\n",
       "\n",
       "[100000 rows x 5 columns]"
      ]
     },
     "execution_count": 76,
     "metadata": {},
     "output_type": "execute_result"
    }
   ],
   "source": [
    "car_data\n",
    "\n",
    "#wheel\n",
    "#chassis\n",
    "#pax\n",
    "#type\n",
    "#class\n",
    "\n",
    "#목표 : 피처를 통해서, vtype 을 찾아내기!"
   ]
  },
  {
   "cell_type": "markdown",
   "metadata": {},
   "source": [
    "### 상관도 분석"
   ]
  },
  {
   "cell_type": "code",
   "execution_count": 77,
   "metadata": {},
   "outputs": [
    {
     "data": {
      "text/html": [
       "<div>\n",
       "<style scoped>\n",
       "    .dataframe tbody tr th:only-of-type {\n",
       "        vertical-align: middle;\n",
       "    }\n",
       "\n",
       "    .dataframe tbody tr th {\n",
       "        vertical-align: top;\n",
       "    }\n",
       "\n",
       "    .dataframe thead th {\n",
       "        text-align: right;\n",
       "    }\n",
       "</style>\n",
       "<table border=\"1\" class=\"dataframe\">\n",
       "  <thead>\n",
       "    <tr style=\"text-align: right;\">\n",
       "      <th></th>\n",
       "      <th>wheels</th>\n",
       "      <th>chassis</th>\n",
       "      <th>pax</th>\n",
       "      <th>class</th>\n",
       "    </tr>\n",
       "  </thead>\n",
       "  <tbody>\n",
       "    <tr>\n",
       "      <th>wheels</th>\n",
       "      <td>1.000000</td>\n",
       "      <td>0.857299</td>\n",
       "      <td>-0.084669</td>\n",
       "      <td>0.920221</td>\n",
       "    </tr>\n",
       "    <tr>\n",
       "      <th>chassis</th>\n",
       "      <td>0.857299</td>\n",
       "      <td>1.000000</td>\n",
       "      <td>0.309328</td>\n",
       "      <td>0.935433</td>\n",
       "    </tr>\n",
       "    <tr>\n",
       "      <th>pax</th>\n",
       "      <td>-0.084669</td>\n",
       "      <td>0.309328</td>\n",
       "      <td>1.000000</td>\n",
       "      <td>0.241397</td>\n",
       "    </tr>\n",
       "    <tr>\n",
       "      <th>class</th>\n",
       "      <td>0.920221</td>\n",
       "      <td>0.935433</td>\n",
       "      <td>0.241397</td>\n",
       "      <td>1.000000</td>\n",
       "    </tr>\n",
       "  </tbody>\n",
       "</table>\n",
       "</div>"
      ],
      "text/plain": [
       "           wheels   chassis       pax     class\n",
       "wheels   1.000000  0.857299 -0.084669  0.920221\n",
       "chassis  0.857299  1.000000  0.309328  0.935433\n",
       "pax     -0.084669  0.309328  1.000000  0.241397\n",
       "class    0.920221  0.935433  0.241397  1.000000"
      ]
     },
     "execution_count": 77,
     "metadata": {},
     "output_type": "execute_result"
    }
   ],
   "source": [
    "car_data.corr() #상관도 = 공분산 : 두개의 상관도가 있는것에 따라 그래프를 그림 (상향선이든 하향선이든)"
   ]
  },
  {
   "cell_type": "code",
   "execution_count": 78,
   "metadata": {},
   "outputs": [
    {
     "data": {
      "text/plain": [
       "Truck    25102\n",
       "Car      25029\n",
       "Bus      24975\n",
       "Bike     24894\n",
       "Name: vtype, dtype: int64"
      ]
     },
     "execution_count": 78,
     "metadata": {},
     "output_type": "execute_result"
    }
   ],
   "source": [
    "car_data['vtype'].value_counts() #종류별"
   ]
  },
  {
   "cell_type": "code",
   "execution_count": 79,
   "metadata": {},
   "outputs": [
    {
     "data": {
      "text/plain": [
       "<matplotlib.axes._subplots.AxesSubplot at 0x1ca0b3a2f88>"
      ]
     },
     "execution_count": 79,
     "metadata": {},
     "output_type": "execute_result"
    },
    {
     "data": {
      "image/png": "[encoded data removed]",
      "text/plain": [
       "<Figure size 720x576 with 1 Axes>"
      ]
     },
     "metadata": {
      "needs_background": "light"
     },
     "output_type": "display_data"
    }
   ],
   "source": [
    "#종류별 그래프\n",
    "car_data['vtype'].hist(bins=10, figsize=(10,8))"
   ]
  },
  {
   "cell_type": "code",
   "execution_count": 80,
   "metadata": {},
   "outputs": [
    {
     "data": {
      "image/png": "[encoded data removed]",
      "text/plain": [
       "<Figure size 1080x1080 with 2 Axes>"
      ]
     },
     "metadata": {
      "needs_background": "light"
     },
     "output_type": "display_data"
    }
   ],
   "source": [
    "#히트맵 -> 상관도 시각화\n",
    "\n",
    "plt.figure(figsize=(15, 15))\n",
    "sns.heatmap(car_data.corr(), linewidths=0.01, square=True,\n",
    "            annot=True, cmap=plt.cm.viridis, linecolor=\"white\")\n",
    "plt.title('Correlation between features')\n",
    "plt.show()"
   ]
  },
  {
   "cell_type": "markdown",
   "metadata": {},
   "source": [
    "## chassis와 wheels는 높은 상관, wheels와 class도 높은 상관을 가짐\n",
    "## 차대가 커지면, 바퀴도 많아짐 -> 트럭의 경우를 생각해보면 됨\n",
    "## 트럭의 경우 class는 4등급으로 높음. 하여, wheels와 class도 높은 양의 상관을 가짐"
   ]
  },
  {
   "cell_type": "code",
   "execution_count": 81,
   "metadata": {},
   "outputs": [],
   "source": [
    "y = car_data.loc[:,'vtype'] #정답"
   ]
  },
  {
   "cell_type": "code",
   "execution_count": 82,
   "metadata": {},
   "outputs": [
    {
     "data": {
      "text/plain": [
       "0         Bike\n",
       "1         Bike\n",
       "2         Bike\n",
       "3         Bike\n",
       "4         Bike\n",
       "         ...  \n",
       "99995    Truck\n",
       "99996    Truck\n",
       "99997    Truck\n",
       "99998    Truck\n",
       "99999    Truck\n",
       "Name: vtype, Length: 100000, dtype: object"
      ]
     },
     "execution_count": 82,
     "metadata": {},
     "output_type": "execute_result"
    }
   ],
   "source": [
    "y"
   ]
  },
  {
   "cell_type": "code",
   "execution_count": 83,
   "metadata": {},
   "outputs": [],
   "source": [
    "x = car_data.loc[:,['wheels','chassis', 'pax', 'class']] #피처 = 파라미터"
   ]
  },
  {
   "cell_type": "code",
   "execution_count": 84,
   "metadata": {},
   "outputs": [
    {
     "data": {
      "text/html": [
       "<div>\n",
       "<style scoped>\n",
       "    .dataframe tbody tr th:only-of-type {\n",
       "        vertical-align: middle;\n",
       "    }\n",
       "\n",
       "    .dataframe tbody tr th {\n",
       "        vertical-align: top;\n",
       "    }\n",
       "\n",
       "    .dataframe thead th {\n",
       "        text-align: right;\n",
       "    }\n",
       "</style>\n",
       "<table border=\"1\" class=\"dataframe\">\n",
       "  <thead>\n",
       "    <tr style=\"text-align: right;\">\n",
       "      <th></th>\n",
       "      <th>wheels</th>\n",
       "      <th>chassis</th>\n",
       "      <th>pax</th>\n",
       "      <th>class</th>\n",
       "    </tr>\n",
       "  </thead>\n",
       "  <tbody>\n",
       "    <tr>\n",
       "      <th>0</th>\n",
       "      <td>1</td>\n",
       "      <td>1</td>\n",
       "      <td>1</td>\n",
       "      <td>1</td>\n",
       "    </tr>\n",
       "    <tr>\n",
       "      <th>1</th>\n",
       "      <td>1</td>\n",
       "      <td>1</td>\n",
       "      <td>1</td>\n",
       "      <td>1</td>\n",
       "    </tr>\n",
       "    <tr>\n",
       "      <th>2</th>\n",
       "      <td>1</td>\n",
       "      <td>1</td>\n",
       "      <td>1</td>\n",
       "      <td>1</td>\n",
       "    </tr>\n",
       "    <tr>\n",
       "      <th>3</th>\n",
       "      <td>1</td>\n",
       "      <td>1</td>\n",
       "      <td>1</td>\n",
       "      <td>1</td>\n",
       "    </tr>\n",
       "    <tr>\n",
       "      <th>4</th>\n",
       "      <td>1</td>\n",
       "      <td>1</td>\n",
       "      <td>1</td>\n",
       "      <td>1</td>\n",
       "    </tr>\n",
       "    <tr>\n",
       "      <th>...</th>\n",
       "      <td>...</td>\n",
       "      <td>...</td>\n",
       "      <td>...</td>\n",
       "      <td>...</td>\n",
       "    </tr>\n",
       "    <tr>\n",
       "      <th>99995</th>\n",
       "      <td>18</td>\n",
       "      <td>27</td>\n",
       "      <td>1</td>\n",
       "      <td>4</td>\n",
       "    </tr>\n",
       "    <tr>\n",
       "      <th>99996</th>\n",
       "      <td>18</td>\n",
       "      <td>21</td>\n",
       "      <td>1</td>\n",
       "      <td>4</td>\n",
       "    </tr>\n",
       "    <tr>\n",
       "      <th>99997</th>\n",
       "      <td>18</td>\n",
       "      <td>23</td>\n",
       "      <td>1</td>\n",
       "      <td>4</td>\n",
       "    </tr>\n",
       "    <tr>\n",
       "      <th>99998</th>\n",
       "      <td>18</td>\n",
       "      <td>28</td>\n",
       "      <td>1</td>\n",
       "      <td>4</td>\n",
       "    </tr>\n",
       "    <tr>\n",
       "      <th>99999</th>\n",
       "      <td>18</td>\n",
       "      <td>26</td>\n",
       "      <td>2</td>\n",
       "      <td>4</td>\n",
       "    </tr>\n",
       "  </tbody>\n",
       "</table>\n",
       "<p>100000 rows × 4 columns</p>\n",
       "</div>"
      ],
      "text/plain": [
       "       wheels  chassis  pax  class\n",
       "0           1        1    1      1\n",
       "1           1        1    1      1\n",
       "2           1        1    1      1\n",
       "3           1        1    1      1\n",
       "4           1        1    1      1\n",
       "...       ...      ...  ...    ...\n",
       "99995      18       27    1      4\n",
       "99996      18       21    1      4\n",
       "99997      18       23    1      4\n",
       "99998      18       28    1      4\n",
       "99999      18       26    2      4\n",
       "\n",
       "[100000 rows x 4 columns]"
      ]
     },
     "execution_count": 84,
     "metadata": {},
     "output_type": "execute_result"
    }
   ],
   "source": [
    "x"
   ]
  },
  {
   "cell_type": "code",
   "execution_count": 85,
   "metadata": {},
   "outputs": [],
   "source": [
    "x_train, x_test, y_train, y_test = train_test_split(x,y, test_size = 0.2, train_size = 0.8, shuffle = True)\n",
    "#트레인(머신러닝 학습), 테스트(모델에 입증 데이터), 트레인 검증(머신러닝 학습 정답 데이터), 테스트 검증(모델이 맞춰야 할 데이터)"
   ]
  },
  {
   "cell_type": "code",
   "execution_count": 86,
   "metadata": {},
   "outputs": [
    {
     "data": {
      "text/html": [
       "<div>\n",
       "<style scoped>\n",
       "    .dataframe tbody tr th:only-of-type {\n",
       "        vertical-align: middle;\n",
       "    }\n",
       "\n",
       "    .dataframe tbody tr th {\n",
       "        vertical-align: top;\n",
       "    }\n",
       "\n",
       "    .dataframe thead th {\n",
       "        text-align: right;\n",
       "    }\n",
       "</style>\n",
       "<table border=\"1\" class=\"dataframe\">\n",
       "  <thead>\n",
       "    <tr style=\"text-align: right;\">\n",
       "      <th></th>\n",
       "      <th>wheels</th>\n",
       "      <th>chassis</th>\n",
       "      <th>pax</th>\n",
       "      <th>class</th>\n",
       "    </tr>\n",
       "  </thead>\n",
       "  <tbody>\n",
       "    <tr>\n",
       "      <th>40128</th>\n",
       "      <td>4</td>\n",
       "      <td>18</td>\n",
       "      <td>30</td>\n",
       "      <td>3</td>\n",
       "    </tr>\n",
       "    <tr>\n",
       "      <th>84627</th>\n",
       "      <td>18</td>\n",
       "      <td>26</td>\n",
       "      <td>1</td>\n",
       "      <td>4</td>\n",
       "    </tr>\n",
       "    <tr>\n",
       "      <th>96372</th>\n",
       "      <td>18</td>\n",
       "      <td>29</td>\n",
       "      <td>1</td>\n",
       "      <td>4</td>\n",
       "    </tr>\n",
       "    <tr>\n",
       "      <th>13008</th>\n",
       "      <td>1</td>\n",
       "      <td>1</td>\n",
       "      <td>1</td>\n",
       "      <td>1</td>\n",
       "    </tr>\n",
       "    <tr>\n",
       "      <th>13435</th>\n",
       "      <td>1</td>\n",
       "      <td>1</td>\n",
       "      <td>1</td>\n",
       "      <td>1</td>\n",
       "    </tr>\n",
       "    <tr>\n",
       "      <th>...</th>\n",
       "      <td>...</td>\n",
       "      <td>...</td>\n",
       "      <td>...</td>\n",
       "      <td>...</td>\n",
       "    </tr>\n",
       "    <tr>\n",
       "      <th>55969</th>\n",
       "      <td>5</td>\n",
       "      <td>4</td>\n",
       "      <td>2</td>\n",
       "      <td>2</td>\n",
       "    </tr>\n",
       "    <tr>\n",
       "      <th>44231</th>\n",
       "      <td>6</td>\n",
       "      <td>22</td>\n",
       "      <td>20</td>\n",
       "      <td>3</td>\n",
       "    </tr>\n",
       "    <tr>\n",
       "      <th>74890</th>\n",
       "      <td>5</td>\n",
       "      <td>2</td>\n",
       "      <td>4</td>\n",
       "      <td>2</td>\n",
       "    </tr>\n",
       "    <tr>\n",
       "      <th>97449</th>\n",
       "      <td>18</td>\n",
       "      <td>22</td>\n",
       "      <td>2</td>\n",
       "      <td>4</td>\n",
       "    </tr>\n",
       "    <tr>\n",
       "      <th>8078</th>\n",
       "      <td>1</td>\n",
       "      <td>1</td>\n",
       "      <td>1</td>\n",
       "      <td>1</td>\n",
       "    </tr>\n",
       "  </tbody>\n",
       "</table>\n",
       "<p>80000 rows × 4 columns</p>\n",
       "</div>"
      ],
      "text/plain": [
       "       wheels  chassis  pax  class\n",
       "40128       4       18   30      3\n",
       "84627      18       26    1      4\n",
       "96372      18       29    1      4\n",
       "13008       1        1    1      1\n",
       "13435       1        1    1      1\n",
       "...       ...      ...  ...    ...\n",
       "55969       5        4    2      2\n",
       "44231       6       22   20      3\n",
       "74890       5        2    4      2\n",
       "97449      18       22    2      4\n",
       "8078        1        1    1      1\n",
       "\n",
       "[80000 rows x 4 columns]"
      ]
     },
     "execution_count": 86,
     "metadata": {},
     "output_type": "execute_result"
    }
   ],
   "source": [
    "x_train"
   ]
  },
  {
   "cell_type": "code",
   "execution_count": 87,
   "metadata": {},
   "outputs": [
    {
     "data": {
      "text/plain": [
       "40128      Bus\n",
       "84627    Truck\n",
       "96372    Truck\n",
       "13008     Bike\n",
       "13435     Bike\n",
       "         ...  \n",
       "55969      Car\n",
       "44231      Bus\n",
       "74890      Car\n",
       "97449    Truck\n",
       "8078      Bike\n",
       "Name: vtype, Length: 80000, dtype: object"
      ]
     },
     "execution_count": 87,
     "metadata": {},
     "output_type": "execute_result"
    }
   ],
   "source": [
    "y_train"
   ]
  },
  {
   "cell_type": "code",
   "execution_count": 88,
   "metadata": {},
   "outputs": [
    {
     "data": {
      "text/html": [
       "<div>\n",
       "<style scoped>\n",
       "    .dataframe tbody tr th:only-of-type {\n",
       "        vertical-align: middle;\n",
       "    }\n",
       "\n",
       "    .dataframe tbody tr th {\n",
       "        vertical-align: top;\n",
       "    }\n",
       "\n",
       "    .dataframe thead th {\n",
       "        text-align: right;\n",
       "    }\n",
       "</style>\n",
       "<table border=\"1\" class=\"dataframe\">\n",
       "  <thead>\n",
       "    <tr style=\"text-align: right;\">\n",
       "      <th></th>\n",
       "      <th>wheels</th>\n",
       "      <th>chassis</th>\n",
       "      <th>pax</th>\n",
       "      <th>class</th>\n",
       "    </tr>\n",
       "  </thead>\n",
       "  <tbody>\n",
       "    <tr>\n",
       "      <th>62550</th>\n",
       "      <td>5</td>\n",
       "      <td>1</td>\n",
       "      <td>1</td>\n",
       "      <td>2</td>\n",
       "    </tr>\n",
       "    <tr>\n",
       "      <th>39564</th>\n",
       "      <td>4</td>\n",
       "      <td>13</td>\n",
       "      <td>17</td>\n",
       "      <td>3</td>\n",
       "    </tr>\n",
       "    <tr>\n",
       "      <th>19179</th>\n",
       "      <td>1</td>\n",
       "      <td>1</td>\n",
       "      <td>1</td>\n",
       "      <td>1</td>\n",
       "    </tr>\n",
       "    <tr>\n",
       "      <th>55416</th>\n",
       "      <td>5</td>\n",
       "      <td>4</td>\n",
       "      <td>3</td>\n",
       "      <td>2</td>\n",
       "    </tr>\n",
       "    <tr>\n",
       "      <th>94480</th>\n",
       "      <td>18</td>\n",
       "      <td>20</td>\n",
       "      <td>2</td>\n",
       "      <td>4</td>\n",
       "    </tr>\n",
       "    <tr>\n",
       "      <th>...</th>\n",
       "      <td>...</td>\n",
       "      <td>...</td>\n",
       "      <td>...</td>\n",
       "      <td>...</td>\n",
       "    </tr>\n",
       "    <tr>\n",
       "      <th>87621</th>\n",
       "      <td>18</td>\n",
       "      <td>28</td>\n",
       "      <td>1</td>\n",
       "      <td>4</td>\n",
       "    </tr>\n",
       "    <tr>\n",
       "      <th>45134</th>\n",
       "      <td>7</td>\n",
       "      <td>13</td>\n",
       "      <td>19</td>\n",
       "      <td>3</td>\n",
       "    </tr>\n",
       "    <tr>\n",
       "      <th>17247</th>\n",
       "      <td>1</td>\n",
       "      <td>1</td>\n",
       "      <td>1</td>\n",
       "      <td>1</td>\n",
       "    </tr>\n",
       "    <tr>\n",
       "      <th>91918</th>\n",
       "      <td>18</td>\n",
       "      <td>25</td>\n",
       "      <td>2</td>\n",
       "      <td>4</td>\n",
       "    </tr>\n",
       "    <tr>\n",
       "      <th>28413</th>\n",
       "      <td>8</td>\n",
       "      <td>23</td>\n",
       "      <td>10</td>\n",
       "      <td>3</td>\n",
       "    </tr>\n",
       "  </tbody>\n",
       "</table>\n",
       "<p>20000 rows × 4 columns</p>\n",
       "</div>"
      ],
      "text/plain": [
       "       wheels  chassis  pax  class\n",
       "62550       5        1    1      2\n",
       "39564       4       13   17      3\n",
       "19179       1        1    1      1\n",
       "55416       5        4    3      2\n",
       "94480      18       20    2      4\n",
       "...       ...      ...  ...    ...\n",
       "87621      18       28    1      4\n",
       "45134       7       13   19      3\n",
       "17247       1        1    1      1\n",
       "91918      18       25    2      4\n",
       "28413       8       23   10      3\n",
       "\n",
       "[20000 rows x 4 columns]"
      ]
     },
     "execution_count": 88,
     "metadata": {},
     "output_type": "execute_result"
    }
   ],
   "source": [
    "x_test"
   ]
  },
  {
   "cell_type": "code",
   "execution_count": 89,
   "metadata": {},
   "outputs": [
    {
     "data": {
      "text/plain": [
       "62550      Car\n",
       "39564      Bus\n",
       "19179     Bike\n",
       "55416      Car\n",
       "94480    Truck\n",
       "         ...  \n",
       "87621    Truck\n",
       "45134      Bus\n",
       "17247     Bike\n",
       "91918    Truck\n",
       "28413      Bus\n",
       "Name: vtype, Length: 20000, dtype: object"
      ]
     },
     "execution_count": 89,
     "metadata": {},
     "output_type": "execute_result"
    }
   ],
   "source": [
    "y_test"
   ]
  },
  {
   "cell_type": "code",
   "execution_count": 90,
   "metadata": {},
   "outputs": [
    {
     "data": {
      "text/plain": [
       "SVC(C=1.0, break_ties=False, cache_size=200, class_weight=None, coef0=0.0,\n",
       "    decision_function_shape='ovr', degree=3, gamma='scale', kernel='rbf',\n",
       "    max_iter=-1, probability=False, random_state=None, shrinking=True,\n",
       "    tol=0.001, verbose=False)"
      ]
     },
     "execution_count": 90,
     "metadata": {},
     "output_type": "execute_result"
    }
   ],
   "source": [
    "#학습기(Estimator) 객체 생성, SVM 서포트 벡터 머신으로 선을 그려 자동차의 타입을 분류함\n",
    "clf = SVC()\n",
    "#clf 객체에 x_train(머신러닝 학습 데이터), y_train(머신러닝 정ㄷ바 데이터) 를 학습시킴\n",
    "clf.fit(x_train, y_train)"
   ]
  },
  {
   "cell_type": "markdown",
   "metadata": {},
   "source": [
    "#### clf는 현재 머신러닝으로 피처 -> 카종류 정답 데이터 학습함"
   ]
  },
  {
   "cell_type": "code",
   "execution_count": 91,
   "metadata": {},
   "outputs": [],
   "source": [
    "y_pred = clf.predict(x_test) \n",
    "#테스트 데이터 -> 테스트 데이터(x_test) 를 입력하여, y_pred 는 객체안에 자동차의 타입을 예측한 결과를 가지고 있음"
   ]
  },
  {
   "cell_type": "code",
   "execution_count": 92,
   "metadata": {},
   "outputs": [
    {
     "data": {
      "text/plain": [
       "array(['Car', 'Bus', 'Bike', ..., 'Bike', 'Truck', 'Bus'], dtype=object)"
      ]
     },
     "execution_count": 92,
     "metadata": {},
     "output_type": "execute_result"
    }
   ],
   "source": [
    "y_pred"
   ]
  },
  {
   "cell_type": "code",
   "execution_count": 93,
   "metadata": {},
   "outputs": [
    {
     "name": "stdout",
     "output_type": "stream",
     "text": [
      "정답률=  1.0\n"
     ]
    }
   ],
   "source": [
    "#3. 내 훈련 데이터 정답 = y_test와, 내 훈련(train) 데이터로 학습된 정답(y_pred) 의 정답률 비교\n",
    "print('정답률= ', accuracy_score(y_test, y_pred)) #y_test = 내가 맞춰야할 답안, y_pred = 훈련 모델로 학습되서 y_test를 넣어 나온 답안 = y_pred"
   ]
  },
  {
   "cell_type": "code",
   "execution_count": 94,
   "metadata": {},
   "outputs": [
    {
     "data": {
      "text/plain": [
       "'              precision    recall  f1-score   support\\n\\n        Bike       1.00      1.00      1.00      5047\\n         Bus       1.00      1.00      1.00      4927\\n         Car       1.00      1.00      1.00      5005\\n       Truck       1.00      1.00      1.00      5021\\n\\n    accuracy                           1.00     20000\\n   macro avg       1.00      1.00      1.00     20000\\nweighted avg       1.00      1.00      1.00     20000\\n'"
      ]
     },
     "execution_count": 94,
     "metadata": {},
     "output_type": "execute_result"
    }
   ],
   "source": [
    "classification_report(y_test, y_pred)\n",
    "\n",
    "#accuracy : 제대로 예측하였는가\n",
    "#precision : 정밀도 :  실제데이터 / 실제데이터를 실제데이터로 올바르게 예측하였는가 + 실제데이터를 예측값으로 잘못 예측한 값\n",
    "#recall : 재현도 : 실제데이터 / 실제데이터를 실제데이터로 올바르게 예측 + 실제데이터를 실제데이터가 아니라고 예측한 값\n",
    "#f1-score : 위의 값들을 바탕으로, 모델의 예측 및 정답률을 확인함"
   ]
  },
  {
   "cell_type": "code",
   "execution_count": 95,
   "metadata": {
    "scrolled": true
   },
   "outputs": [
    {
     "data": {
      "text/plain": [
       "KNeighborsClassifier(algorithm='auto', leaf_size=30, metric='minkowski',\n",
       "                     metric_params=None, n_jobs=None, n_neighbors=5, p=2,\n",
       "                     weights='uniform')"
      ]
     },
     "execution_count": 95,
     "metadata": {},
     "output_type": "execute_result"
    }
   ],
   "source": [
    "#Knn은 거리계산\n",
    "knn = KNeighborsClassifier(n_neighbors=5)\n",
    "#이웃의 수를 홀수로 넣어줘야함.\n",
    "#KNN 은 그래프 위에서 neighbors 수를 잡아, 가장 가까운 애가 누구인지를 판별함. \n",
    "\n",
    "\n",
    "#훈련 데이터 -> 훈련 검증 데이터\n",
    "\n",
    "knn.fit(x_train, y_train)\n",
    "#이번엔 Knn으로 학습시킴\n",
    "#민코프스키 방식으로, 피타고라스 정리를 활용하여 x와 y간의 최적의 거리를 구하는 것\n",
    "#knn : 결국 학습시킬 애랑 가장 가까운애가 누구인가를 판별\n"
   ]
  },
  {
   "cell_type": "code",
   "execution_count": 96,
   "metadata": {},
   "outputs": [],
   "source": [
    "y_pred2 = knn.predict(x_test) \n",
    "#테스트 데이터 -> 테스트 데이터(x_test) 를 입력하여, y_pred2 는 객체안에 자동차의 타입을 예측한 결과를 가지고 있음"
   ]
  },
  {
   "cell_type": "code",
   "execution_count": 100,
   "metadata": {},
   "outputs": [
    {
     "data": {
      "text/plain": [
       "array(['Car', 'Bus', 'Bike', ..., 'Bike', 'Truck', 'Bus'], dtype=object)"
      ]
     },
     "execution_count": 100,
     "metadata": {},
     "output_type": "execute_result"
    }
   ],
   "source": [
    "y_pred2"
   ]
  },
  {
   "cell_type": "code",
   "execution_count": 101,
   "metadata": {},
   "outputs": [
    {
     "name": "stdout",
     "output_type": "stream",
     "text": [
      "정답률=  1.0\n"
     ]
    }
   ],
   "source": [
    "#3. 내 훈련 데이터 정답 = y_test와, 내 훈련(train) 데이터로 학습된 정답(y_pred) 의 정답률 비교\n",
    "print('정답률= ', accuracy_score(y_test, y_pred2)) #y_test = 내가 맞춰야할 답안, y_pred = 훈련 모델로 학습되서 y_test를 넣어 나온 답안 = y_pred"
   ]
  },
  {
   "cell_type": "code",
   "execution_count": 210,
   "metadata": {},
   "outputs": [],
   "source": [
    "# 자동차 스펙으로 종류 테스트 / wheels chassis pax class\n",
    "mini = [1, 5, 7, 10]\n",
    "\n",
    "test = knn.predict_proba([mini])\n",
    "#미니_밴 테스트!"
   ]
  },
  {
   "cell_type": "code",
   "execution_count": 223,
   "metadata": {},
   "outputs": [
    {
     "name": "stdout",
     "output_type": "stream",
     "text": [
      "----\n",
      "----\n",
      "바이크\n",
      "----\n",
      "----\n"
     ]
    }
   ],
   "source": [
    "label = ['바이크', '차', '버스', '트럭']\n",
    "count = 0\n",
    "for a in test:\n",
    "    for x in a:\n",
    "        if x == 1.0:\n",
    "            print(label[count])\n",
    "        else:\n",
    "            count += 1\n",
    "    count = 0\n",
    "    print('----')"
   ]
  },
  {
   "cell_type": "code",
   "execution_count": 225,
   "metadata": {},
   "outputs": [],
   "source": [
    "# 대형차 테스트\n",
    "trucky = [18, 25, 1, 3]\n",
    "\n",
    "test2 = knn.predict_proba([trucky])\n",
    "#trucky 로 정확도 테스트"
   ]
  },
  {
   "cell_type": "code",
   "execution_count": 226,
   "metadata": {},
   "outputs": [
    {
     "name": "stdout",
     "output_type": "stream",
     "text": [
      "트럭\n",
      "----\n"
     ]
    }
   ],
   "source": [
    "label = ['바이크', '차', '버스', '트럭']\n",
    "count = 0\n",
    "for a in test2:\n",
    "    for x in a:\n",
    "        if x == 1.0:\n",
    "            print(label[count])\n",
    "        else:\n",
    "            count += 1\n",
    "    count = 0\n",
    "    print('----')"
   ]
  },
  {
   "cell_type": "code",
   "execution_count": 186,
   "metadata": {},
   "outputs": [
    {
     "data": {
      "text/plain": [
       "<bound method KNeighborsClassifier.predict of KNeighborsClassifier(algorithm='auto', leaf_size=30, metric='minkowski',\n",
       "                     metric_params=None, n_jobs=None, n_neighbors=5, p=2,\n",
       "                     weights='uniform')>"
      ]
     },
     "execution_count": 186,
     "metadata": {},
     "output_type": "execute_result"
    }
   ],
   "source": [
    "knn.predict"
   ]
  },
  {
   "cell_type": "code",
   "execution_count": 239,
   "metadata": {
    "scrolled": true
   },
   "outputs": [],
   "source": [
    "# 여러 자동차 테스트\n",
    "test3 = knn.predict_proba([[1,2,3,4],[4,5,6,7],[9,8,7,1]])"
   ]
  },
  {
   "cell_type": "code",
   "execution_count": 251,
   "metadata": {},
   "outputs": [
    {
     "name": "stdout",
     "output_type": "stream",
     "text": [
      "[[0. 0. 1. 0.]\n",
      " [0. 0. 1. 0.]\n",
      " [0. 1. 0. 0.]]\n",
      "버스\n",
      "----\n",
      "0\n",
      "버스\n",
      "----\n",
      "0\n",
      "차\n",
      "----\n",
      "0\n"
     ]
    }
   ],
   "source": [
    "label = ['바이크', '차', '버스', '트럭']\n",
    "print(test3)\n",
    "# count = 0\n",
    "for a in test3:\n",
    "    for x in a:\n",
    "        if x == 1.0:\n",
    "            print(label[count])\n",
    "        else:\n",
    "            count += 1\n",
    "    count = 0\n",
    "    print('----')\n",
    "    print(count)"
   ]
  },
  {
   "cell_type": "code",
   "execution_count": 252,
   "metadata": {},
   "outputs": [
    {
     "data": {
      "text/plain": [
       "<seaborn.axisgrid.FacetGrid at 0x1ca0bc17908>"
      ]
     },
     "execution_count": 252,
     "metadata": {},
     "output_type": "execute_result"
    },
    {
     "data": {
      "image/png": "[encoded data removed]",
      "text/plain": [
       "<Figure size 360x360 with 1 Axes>"
      ]
     },
     "metadata": {
      "needs_background": "light"
     },
     "output_type": "display_data"
    }
   ],
   "source": [
    "sns.lmplot(x=\"wheels\", y=\"chassis\", data=car_data, line_kws={'color':\"red\"})"
   ]
  },
  {
   "cell_type": "code",
   "execution_count": 254,
   "metadata": {},
   "outputs": [
    {
     "data": {
      "application/vnd.jupyter.widget-view+json": {
       "model_id": "b38dff3d948f45eb973803d91a1bdaa8",
       "version_major": 2,
       "version_minor": 0
      },
      "text/plain": [
       "interactive(children=(IntSlider(value=2, description='x', max=6, min=-2), Output()), _dom_classes=('widget-int…"
      ]
     },
     "metadata": {},
     "output_type": "display_data"
    },
    {
     "data": {
      "text/plain": [
       "<function __main__.lm_plot(x)>"
      ]
     },
     "execution_count": 254,
     "metadata": {},
     "output_type": "execute_result"
    }
   ],
   "source": [
    "from ipywidgets import interact\n",
    "def lm_plot(x):\n",
    "    sns.lmplot(x=\"wheels\",\n",
    "               y=\"chassis\",\n",
    "               data=car_data,\n",
    "               order = x,\n",
    "               line_kws={'color':\"red\"}, scatter_kws={'edgecolor':\"white\"})\n",
    "    \n",
    "interact(lm_plot, x=2)"
   ]
  },
  {
   "cell_type": "code",
   "execution_count": null,
   "metadata": {},
   "outputs": [],
   "source": []
  }
 ],
 "metadata": {
  "kernelspec": {
   "display_name": "Python 3",
   "language": "python",
   "name": "python3"
  },
  "language_info": {
   "codemirror_mode": {
    "name": "ipython",
    "version": 3
   },
   "file_extension": ".py",
   "mimetype": "text/x-python",
   "name": "python",
   "nbconvert_exporter": "python",
   "pygments_lexer": "ipython3",
   "version": "3.7.6"
  }
 },
 "nbformat": 4,
 "nbformat_minor": 4
}
