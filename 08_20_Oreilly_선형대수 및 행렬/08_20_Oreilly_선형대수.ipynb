{
 "cells": [
  {
   "cell_type": "markdown",
   "metadata": {},
   "source": [
    "## 4.1 선형대수"
   ]
  },
  {
   "cell_type": "code",
   "execution_count": 1,
   "metadata": {},
   "outputs": [],
   "source": [
    "#벡터는 어떤 유한한 차원의 공간에 존재하는 점, 대부분의 데이터 특히 숫자로 표현된 데이터는 벡터로 표현 가능"
   ]
  },
  {
   "cell_type": "code",
   "execution_count": 2,
   "metadata": {},
   "outputs": [],
   "source": [
    "#벡터를 간단하게 표현하는 방법은 여러 숫자의 리스트로 표현함\n",
    "#예를들어, 3차원 벡터는 세 개의 숫자로 구성된 리스트로 표현 가능"
   ]
  },
  {
   "cell_type": "code",
   "execution_count": 3,
   "metadata": {},
   "outputs": [],
   "source": [
    "from typing import List\n",
    "\n",
    "Vector = List[float]\n",
    "\n",
    "height_weight_age = [70,  # inches, 인치\n",
    "                     170, # pounds, 파운드\n",
    "                     40 ] # years 나이\n",
    "\n",
    "grades = [95,   # exam1 시험1 \n",
    "          80,   # exam2\n",
    "          75,   # exam3\n",
    "          62 ]  # exam4"
   ]
  },
  {
   "cell_type": "code",
   "execution_count": 4,
   "metadata": {},
   "outputs": [],
   "source": [
    "#리스트는 벡터가 아니야. "
   ]
  },
  {
   "cell_type": "code",
   "execution_count": 5,
   "metadata": {},
   "outputs": [],
   "source": [
    "# 두 개의 벡터를 더하는 행위는 각 벡터상에서 같은 위치에 있는 성분끼리 더한다는 것을 의미한다."
   ]
  },
  {
   "cell_type": "markdown",
   "metadata": {},
   "source": [
    "### 벡터 덧셈은 zip을 사용해, 두 벡터를 묶은 뒤 -> 각 성분끼리 더하는 리스트 컴프리 헨션을 적용"
   ]
  },
  {
   "cell_type": "code",
   "execution_count": 13,
   "metadata": {},
   "outputs": [],
   "source": [
    "def add(v: Vector, w: Vector) -> Vector:\n",
    "    \"\"\"각 성분끼리 더한다.\"\"\"\n",
    "    assert len(v) == len(w), \"vectors must be the same length 벡터는 반드시 같은 길이를 가진다.\"\n",
    "    \n",
    "    return [v_i + w_i for v_i, w_i in zip(v,w)]\n",
    "\n",
    "assert add([1,2,3], [4,5,6]) == [5,7,9]"
   ]
  },
  {
   "cell_type": "code",
   "execution_count": 15,
   "metadata": {},
   "outputs": [],
   "source": [
    "def subtract(v: Vector, w: Vector) -> Vector:\n",
    "    \"\"\"각 성분끼리 뺀다. Subtracts corresponding elements\"\"\"\n",
    "    assert len(v) == len(w), \"vectors must be the same length\"\n",
    "\n",
    "    return [v_i - w_i for v_i, w_i in zip(v, w)]\n",
    "\n",
    "assert subtract([5, 7, 9], [4, 5, 6]) == [1, 2, 3]"
   ]
  },
  {
   "cell_type": "code",
   "execution_count": 16,
   "metadata": {},
   "outputs": [],
   "source": [
    "# 새로운 벡터에 모든 벡터의 첫번째 성분을 다 더하고, 각 인덱스것도 다 더해버리는 함수"
   ]
  },
  {
   "cell_type": "code",
   "execution_count": 17,
   "metadata": {},
   "outputs": [],
   "source": [
    "def vector_sum(vectors: List[Vector]) -> Vector:\n",
    "    \"\"\"모든 벡터의 각 성분들끼리 더한다.\"\"\"\n",
    "    # vectors가 비었는지 확인\n",
    "    assert vectors, \"no vectors provided!\"\n",
    "    \n",
    "    #모든 벡터의 길이가 동일한지 확인\n",
    "    num_elements = len(vectors[0])\n",
    "    assert all(len(v) == num_elements for v in vectors), \"diffrent sizes 다른 사이즈네영\"\n",
    "    \n",
    "    #i 번째 결과값은 모든 벡터의 i번째 성분을 더한 값\n",
    "    return [sum(vector[i] for vector in vectors)\n",
    "             for i in range(num_elements)]\n",
    "\n",
    "assert vector_sum([[1,2], [3,4], [5,6], [7,8]]) == [16,20]"
   ]
  },
  {
   "cell_type": "code",
   "execution_count": 18,
   "metadata": {},
   "outputs": [],
   "source": [
    "#또한 벡터에 스칼라를 곱해줄 수 있어야 한다. 스칼라 곱셈은 벡터의 각 원소마다 스칼라 값을 곱해주는 방법으로 간단하게 구현"
   ]
  },
  {
   "cell_type": "code",
   "execution_count": 19,
   "metadata": {},
   "outputs": [],
   "source": [
    "#스칼라는 방향성은 없지만 크기를 가진것을 의미한다. ex) 시간, 부피, 질량, 온도, 속력, 에너지 전위 등"
   ]
  },
  {
   "cell_type": "code",
   "execution_count": 22,
   "metadata": {},
   "outputs": [],
   "source": [
    "#벡터의 성분을 곱하기\n",
    "\n",
    "def scalar_multiply(c: float, v: Vector) -> Vector:\n",
    "    \"\"\"모든 성분을 c로 곱하기 Multiplies every element by c\"\"\"\n",
    "    return [c * v_i for v_i in v]\n",
    "\n",
    "assert scalar_multiply(2, [1, 2, 3]) == [2, 4, 6]"
   ]
  },
  {
   "cell_type": "code",
   "execution_count": 24,
   "metadata": {},
   "outputs": [],
   "source": [
    "#벡터의 성분별 평균을 구하기\n",
    "\n",
    "def vector_mean(vectors: List[Vector]) -> Vector:\n",
    "    \"\"\"각 성분별 평균을 계산 Computes the element-wise average\"\"\"\n",
    "    n = len(vectors)\n",
    "    return scalar_multiply(1/n, vector_sum(vectors))\n",
    "\n",
    "assert vector_mean([[1, 2], [3, 4], [5, 6]]) == [3, 4]"
   ]
  },
  {
   "cell_type": "code",
   "execution_count": 26,
   "metadata": {},
   "outputs": [],
   "source": [
    "#벡터의 내적은(dot product) 덜 자망함. 내적은 벡터의 각 성분별 곱한 값을 더해주면 됨"
   ]
  },
  {
   "cell_type": "code",
   "execution_count": 27,
   "metadata": {},
   "outputs": [],
   "source": [
    "def dot(v: Vector, w: Vector) -> float:\n",
    "    \"\"\"Computes v_1 * w_1 + ... + v_n * w_n\"\"\"\n",
    "    assert len(v) == len(w), \"vectors must be same length\"\n",
    "\n",
    "    return sum(v_i * w_i for v_i, w_i in zip(v, w))\n",
    "\n",
    "assert dot([1, 2, 3], [4, 5, 6]) == 32  # 1 * 4 + 2 * 5 + 3 * 6"
   ]
  },
  {
   "cell_type": "code",
   "execution_count": 28,
   "metadata": {},
   "outputs": [],
   "source": [
    "#만약, 벡터 w의 크기가 1이라면 내적은 벡터 v가 벡터 w 방향으로 얼마나 빨리 뻗어나가는지를 나타낸다.\n",
    "#달느 관점에서 보자면 내적은 v가 w로 투영된 벡터의 길이를 나타낸다."
   ]
  },
  {
   "cell_type": "code",
   "execution_count": 29,
   "metadata": {},
   "outputs": [],
   "source": [
    "#내적의 개념을 사용하면 각 성분의 제곱값의 합을 쉽게 구할 수 있음"
   ]
  },
  {
   "cell_type": "code",
   "execution_count": 30,
   "metadata": {},
   "outputs": [],
   "source": [
    "def sum_of_squares(v: Vector) -> float:\n",
    "    \"\"\"Returns v_1 * v_1 + ... + v_n * v_n\"\"\"\n",
    "    return dot(v, v)\n",
    "\n",
    "assert sum_of_squares([1, 2, 3]) == 14  # 1 * 1 + 2 * 2 + 3 * 3"
   ]
  },
  {
   "cell_type": "code",
   "execution_count": 31,
   "metadata": {},
   "outputs": [],
   "source": [
    "#제곱 값의 합을 이용하면 벡터의 크기를 계산할 수 있음"
   ]
  },
  {
   "cell_type": "code",
   "execution_count": 33,
   "metadata": {},
   "outputs": [],
   "source": [
    "import math\n",
    "\n",
    "def magnitude(v: Vector) -> float:\n",
    "    \"\"\"벡터 v의 크기를 반환\"\"\"\n",
    "    return math.sqrt(sum_of_squares(v)) #math.sqrt는 제곱근을 계산해주는 함수\n",
    "\n",
    "assert magnitude([3,4]) == 5"
   ]
  },
  {
   "cell_type": "markdown",
   "metadata": {},
   "source": [
    "###  벡터간의 거리를 계산하기 위해 위의 함수들을 정의함"
   ]
  },
  {
   "cell_type": "code",
   "execution_count": 34,
   "metadata": {},
   "outputs": [],
   "source": [
    "def squared_distance(v: Vector, w: Vector) -> float:\n",
    "    \"\"\"Computes (v_1 - w_1) ** 2 + ... + (v_n - w_n) ** 2\"\"\"\n",
    "    return sum_of_squares(subtract(v, w))"
   ]
  },
  {
   "cell_type": "code",
   "execution_count": 35,
   "metadata": {},
   "outputs": [],
   "source": [
    "def distance(v: Vector, w: Vector) -> float:\n",
    "    \"\"\"벡터 v와 w간의 거리를 계산 Computes the distance between v and w\"\"\"\n",
    "    return math.sqrt(squared_distance(v, w))"
   ]
  },
  {
   "cell_type": "code",
   "execution_count": 38,
   "metadata": {},
   "outputs": [],
   "source": [
    "def distance(v: Vector, w: Vector) -> float:  # type: ignore\n",
    "    return magnitude(subtract(v, w))\n",
    "\n",
    "#벡터간의 거리를 계산하기 위한 함수\n",
    "#벡터는 결국 방향성과 크기를 가지는 도표위의 점들을 표현 한 것이다.\n",
    "#위의 함수들은 모두 그 벡터(방향성과 크기를 가지는 점들의 '거리를 계산' 하기 위함임)"
   ]
  },
  {
   "cell_type": "markdown",
   "metadata": {},
   "source": [
    "## 4.2 행렬"
   ]
  },
  {
   "cell_type": "markdown",
   "metadata": {},
   "source": [
    "행렬은 2차원으로 구성된 숫자의 집합이다. 리스트의 리스트로 표현할 수 있다.\n",
    "리스트안의 리스트들은 행렬의 행을 나타내며, 모두 같은 길이를 가지게 된다. 예를 들어 A라는 행렬에서\n",
    "A[i][j] 는 i번째행과 j번째 열에 속한 숫자를 의미한다. 수학에서 쓰는 관습에 따라 행렬을 대문자로 표기하자"
   ]
  },
  {
   "cell_type": "code",
   "execution_count": 40,
   "metadata": {},
   "outputs": [],
   "source": [
    "#타입 명시를 위한 별칭\n",
    "\n",
    "Matrix = List[List[float]]\n",
    "\n",
    "#2차원 매트릭스(List)를 float으로 구성"
   ]
  },
  {
   "cell_type": "code",
   "execution_count": 42,
   "metadata": {},
   "outputs": [],
   "source": [
    "A = [[1,2,3],\n",
    "     [4,5,6]] #A는 2개의 행과 3개의 열로 구성되어 있음\n",
    "\n",
    "B = [[1,2],\n",
    "     [3,4],\n",
    "     [5,6]] #B는 3개의 행과 2개의 열로 구성되어 있음"
   ]
  },
  {
   "cell_type": "code",
   "execution_count": 43,
   "metadata": {},
   "outputs": [],
   "source": [
    "#수학에서는 첫번째 행을 행1, 첫번째 열을 열 1로 표기한다.\n",
    "#하지만, 파이썬의 리스트는 0부터 시작하기 때문에 여기서도 첫 번째 행을 0, 첫번째 열을 열 0으로 표기했다."
   ]
  },
  {
   "cell_type": "code",
   "execution_count": 44,
   "metadata": {},
   "outputs": [],
   "source": [
    "#행렬을 리스트의 리스트로 나타내는 경우, 행렬 A는 len(A)개의 행과 len(A[0]) 개의 열로 구성되어 있다."
   ]
  },
  {
   "cell_type": "code",
   "execution_count": 46,
   "metadata": {},
   "outputs": [],
   "source": [
    "from typing import Tuple\n",
    "\n",
    "def shape(A: Matrix) -> Tuple[int, int]:\n",
    "    \"\"\"(열의 개수, 행의 개수)를 반환 Returns (# of rows of A, # of columns of A)\"\"\"\n",
    "    num_rows = len(A)\n",
    "    num_cols = len(A[0]) if A else 0   #  첫번째 행의 원소의 개수 number of elements in first row\n",
    "    return num_rows, num_cols"
   ]
  },
  {
   "cell_type": "code",
   "execution_count": 47,
   "metadata": {},
   "outputs": [],
   "source": [
    "assert shape([[1, 2, 3], [4, 5, 6]]) == (2, 3)  # 2 rows, 3 columns"
   ]
  },
  {
   "cell_type": "code",
   "execution_count": 49,
   "metadata": {},
   "outputs": [],
   "source": [
    "#위 함수는 2개의 행과, 3개의 열로 구성되어 있음"
   ]
  },
  {
   "cell_type": "code",
   "execution_count": 50,
   "metadata": {},
   "outputs": [],
   "source": [
    "#행렬이 n개의 행과 k개의 열로 구성되어 있다면, 이 행렬은 n x k 행렬이라고 부른다. n x k 행렬에서 각 행의 길이는 k이고 각 열의 길이는 n 이다."
   ]
  },
  {
   "cell_type": "code",
   "execution_count": 52,
   "metadata": {},
   "outputs": [],
   "source": [
    "def get_row(A: Matrix, i: int) -> Vector:\n",
    "    \"\"\"A의 i번째 행을 반환 Returns the i-th row of A (as a Vector)\"\"\"\n",
    "    return A[i]             # A[i] 는 i번째 행을 나타낸다. A[i] is already the ith row"
   ]
  },
  {
   "cell_type": "code",
   "execution_count": 53,
   "metadata": {},
   "outputs": [],
   "source": [
    "def get_column(A: Matrix, j: int) -> Vector:\n",
    "    \"\"\"A의 j번째 열을 반환 Returns the j-th column of A (as a Vector)\"\"\"\n",
    "    return [A_i[j]          # A_i의 j번째 원소 / jth element of row A_i\n",
    "            for A_i in A]   # 각 A_I 행에 대해서 / for each row A_i"
   ]
  },
  {
   "cell_type": "code",
   "execution_count": 54,
   "metadata": {},
   "outputs": [],
   "source": [
    "#이제 형태(shape)가 주어졌을때, 형태에 맞는 행렬을 생성하고 각 원소를 채워 넣는 함수를 만들어보자.\n",
    "#중첩된 리스트 컴프리헨션을 사용해서 만들면 된다."
   ]
  },
  {
   "cell_type": "code",
   "execution_count": 57,
   "metadata": {},
   "outputs": [],
   "source": [
    "from typing import Callable\n",
    "\n",
    "def make_matrix(num_rows: int,\n",
    "                num_cols: int,\n",
    "                entry_fn: Callable[[int, int], float]) -> Matrix:\n",
    "    \"\"\"\n",
    "    \n",
    "    (i,j) 번째 원소가 entry_fn(i,j) 인\n",
    "    num_rows x num_cols 리스트를 반환\n",
    "    \n",
    "    Returns a num_rows x num_cols matrix \n",
    "    whose (i,j)-th entry is entry_fn(i, j)\n",
    "    \"\"\"\n",
    "    return [[entry_fn(i, j)             # i가 주어졌을때, 리스트를 생성한다. given i, create a list\n",
    "             for j in range(num_cols)]  #  [entry_fn(i, 0), ... ]\n",
    "            for i in range(num_rows)]   # 각 i에 대해 하나의 리스트를 생성한다. create one list for each i\n",
    "\n",
    "#갹 x * y 매트릭스를 반환\n"
   ]
  },
  {
   "cell_type": "code",
   "execution_count": 63,
   "metadata": {},
   "outputs": [],
   "source": [
    "# 이함수를 사용해서 다음과 같이 5 x 5 단위 행렬(identitiy matrix), 대각선의 원소는 1이고 나머지 원소는 0인 경우를 생성할 수 있다.\n",
    "\n",
    "def identity_matrix(n: int) -> Matrix:\n",
    "    \"\"\"n x n 단위의 행렬을 반환한다. Returns the n x n identity matrix\"\"\"\n",
    "    return make_matrix(n, n, lambda i, j: 1 if i == j else 0)\n",
    "\n",
    "assert identity_matrix(5) == [[1, 0, 0, 0, 0],\n",
    "                              [0, 1, 0, 0, 0],\n",
    "                              [0, 0, 1, 0, 0],\n",
    "                              [0, 0, 0, 1, 0],\n",
    "                              [0, 0, 0, 0, 1]]"
   ]
  },
  {
   "cell_type": "markdown",
   "metadata": {},
   "source": [
    "#### 1. 행렬 : 각 벡터를 행렬의 행으로 나타냄으로서 , 여러 벡터로 구성된 데이터 셋을 행렬로 표현할 수 있다.\n",
    "#### 예를 들어 1000명에 대한 키, 몸무게, 나이가 주어졌다면 1000 x 3 행렬로 표현할 수 있다."
   ]
  },
  {
   "cell_type": "code",
   "execution_count": 62,
   "metadata": {},
   "outputs": [],
   "source": [
    "# data = [[70, 170, 40],\n",
    "#         [65, 120, 26],\n",
    "#         [77, 250, 19],\n",
    "#          1000명까지.... ]\n",
    "\n",
    "# 같은 데이터로 1000 x 3 행렬 표현"
   ]
  },
  {
   "cell_type": "markdown",
   "metadata": {},
   "source": [
    "#### 2. 두번째로 k 차원의 벡터를 n차원 백테러 변환해주는 선형 함수를 n x k 행렬로 표현 가능.\n",
    "#### 3. 행렬로 이진 관계(binary relationship)을 나타낼 수 있음. "
   ]
  },
  {
   "cell_type": "code",
   "execution_count": 67,
   "metadata": {},
   "outputs": [],
   "source": [
    "#이진관계 : 네트워크 엣지들을 (i,j) 쌍의 집합으로 표현됨. 이러한 네트워크의 구조를 행렬로 나타낼 수 있음\n",
    "#예를들어 i와 j가 연결되어 있다면 A[i][j]의 값이 1이고 그렇지 않다면, 0인 행렬 A로 네트워크를 표현할 수 있음\n",
    "#이진관계는 친구몇명인가 같은 문제 : user 0이 user 1과 알고있고, user 1이 user2 와 알고있음을 원과 선으로 표현"
   ]
  },
  {
   "cell_type": "code",
   "execution_count": 65,
   "metadata": {},
   "outputs": [],
   "source": [
    "friendships = [(0, 1), (0, 2), (1, 2), (1, 3), (2, 3), (3, 4),\n",
    "               (4, 5), (5, 6), (5, 7), (6, 8), (7, 8), (8, 9)]"
   ]
  },
  {
   "cell_type": "code",
   "execution_count": 69,
   "metadata": {},
   "outputs": [],
   "source": [
    "#사용자 0 1 2 3 4 5 6 7 8 9 \n",
    "\n",
    "friend_matrix = [[0, 1, 1, 0, 0, 0, 0, 0, 0, 0],  # user 0\n",
    "                 [1, 0, 1, 1, 0, 0, 0, 0, 0, 0],  # user 1\n",
    "                 [1, 1, 0, 1, 0, 0, 0, 0, 0, 0],  # user 2\n",
    "                 [0, 1, 1, 0, 1, 0, 0, 0, 0, 0],  # user 3\n",
    "                 [0, 0, 0, 1, 0, 1, 0, 0, 0, 0],  # user 4\n",
    "                 [0, 0, 0, 0, 1, 0, 1, 1, 0, 0],  # user 5\n",
    "                 [0, 0, 0, 0, 0, 1, 0, 0, 1, 0],  # user 6\n",
    "                 [0, 0, 0, 0, 0, 1, 0, 0, 1, 0],  # user 7\n",
    "                 [0, 0, 0, 0, 0, 0, 1, 1, 0, 1],  # user 8\n",
    "                 [0, 0, 0, 0, 0, 0, 0, 0, 1, 0]]  # user 9"
   ]
  },
  {
   "cell_type": "code",
   "execution_count": 70,
   "metadata": {},
   "outputs": [],
   "source": [
    "#네트워크 안에 연결된 사용자의 수가 적다면 행렬은 수 많은 0 값을 저장해야 하기 때문에 네트워크를 표현하기 비효율적임\n",
    "#그러나, 행렬에서는 두 사용자가 연결되어 있는지 훨씬 빠르게 확인해볼 수 있음 -> 모든 엣지 X 직접 행렬의 값을 확인한다."
   ]
  },
  {
   "cell_type": "code",
   "execution_count": 71,
   "metadata": {},
   "outputs": [],
   "source": [
    "assert friend_matrix[0][2] == 1, \"참, 사용자 0과 2는 친구다. 0 and 2 are friends\"\n",
    "assert friend_matrix[0][8] == 0, \"거짓, 사용자 0과 8은 친구가 아니다. 0 and 8 are not friends\""
   ]
  },
  {
   "cell_type": "code",
   "execution_count": 72,
   "metadata": {},
   "outputs": [],
   "source": [
    "#사용자가 누구와 연결되어 있는지 알아보기 위해서는 해당 사용자를 나타내는 열(또는 행)만 살펴보면 된다."
   ]
  },
  {
   "cell_type": "code",
   "execution_count": 74,
   "metadata": {},
   "outputs": [],
   "source": [
    "# 행만 살펴보소. only need to look at one row\n",
    "friends_of_five = [i\n",
    "                   for i, is_friend in enumerate(friend_matrix[5])\n",
    "                   if is_friend]"
   ]
  },
  {
   "cell_type": "code",
   "execution_count": null,
   "metadata": {},
   "outputs": [],
   "source": []
  }
 ],
 "metadata": {
  "kernelspec": {
   "display_name": "Python 3",
   "language": "python",
   "name": "python3"
  },
  "language_info": {
   "codemirror_mode": {
    "name": "ipython",
    "version": 3
   },
   "file_extension": ".py",
   "mimetype": "text/x-python",
   "name": "python",
   "nbconvert_exporter": "python",
   "pygments_lexer": "ipython3",
   "version": "3.7.6"
  }
 },
 "nbformat": 4,
 "nbformat_minor": 4
}
