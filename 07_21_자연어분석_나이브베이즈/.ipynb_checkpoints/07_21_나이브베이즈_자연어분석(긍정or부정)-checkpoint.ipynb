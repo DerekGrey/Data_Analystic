{
 "cells": [
  {
   "cell_type": "code",
   "execution_count": 28,
   "metadata": {},
   "outputs": [],
   "source": [
    "#자연어 처리 분석 -> 나이브베이즈"
   ]
  },
  {
   "cell_type": "code",
   "execution_count": 29,
   "metadata": {},
   "outputs": [],
   "source": [
    "from nltk.tokenize import word_tokenize"
   ]
  },
  {
   "cell_type": "code",
   "execution_count": 30,
   "metadata": {},
   "outputs": [],
   "source": [
    "import nltk"
   ]
  },
  {
   "cell_type": "code",
   "execution_count": 31,
   "metadata": {},
   "outputs": [],
   "source": [
    "# 가장 중요한 훈련 데이터!! \n",
    "\n",
    "train = [\n",
    "    ('i like you', 'pos'), ('i hate you', 'neg'),\n",
    "    ('you like me', 'neg'), ('i like her', 'pos'),\n",
    "    ('i love you', 'pos'), ('i want you', 'pos'),\n",
    "    ('hater', 'neg'), ('i never want to that one', 'neg'),\n",
    "    ('i wanna dance', 'pos'), ('she never wants to dance', 'neg')\n",
    "]\n",
    "\n",
    "#트레인 데이터로 pos/neg 학습"
   ]
  },
  {
   "cell_type": "code",
   "execution_count": 32,
   "metadata": {},
   "outputs": [
    {
     "name": "stdout",
     "output_type": "stream",
     "text": [
      "('i like you', 'pos')\n",
      "('i hate you', 'neg')\n",
      "('you like me', 'neg')\n",
      "('i like her', 'pos')\n",
      "('i love you', 'pos')\n",
      "('i want you', 'pos')\n",
      "('hater', 'neg')\n",
      "('i never want to that one', 'neg')\n",
      "('i wanna dance', 'pos')\n",
      "('she never wants to dance', 'neg')\n"
     ]
    }
   ],
   "source": [
    "for sentence in train:\n",
    "    print(sentence)"
   ]
  },
  {
   "cell_type": "code",
   "execution_count": 33,
   "metadata": {},
   "outputs": [
    {
     "name": "stdout",
     "output_type": "stream",
     "text": [
      "i\n",
      "like\n",
      "you\n",
      "i\n",
      "hate\n",
      "you\n",
      "you\n",
      "like\n",
      "me\n",
      "i\n",
      "like\n",
      "her\n",
      "i\n",
      "love\n",
      "you\n",
      "i\n",
      "want\n",
      "you\n",
      "hater\n",
      "i\n",
      "never\n",
      "want\n",
      "to\n",
      "that\n",
      "one\n",
      "i\n",
      "wan\n",
      "na\n",
      "dance\n",
      "she\n",
      "never\n",
      "wants\n",
      "to\n",
      "dance\n"
     ]
    }
   ],
   "source": [
    "for sentence in train:\n",
    "    for word in word_tokenize(sentence[0]):\n",
    "        print(word)\n",
    "        \n",
    "#token 으로 i/like/you 로 끊고, word 로 하나씩 끊음\n",
    "#ex) i/like/you, I, like, you 로 끄냄"
   ]
  },
  {
   "cell_type": "code",
   "execution_count": 34,
   "metadata": {},
   "outputs": [
    {
     "data": {
      "text/plain": [
       "{'dance',\n",
       " 'hate',\n",
       " 'hater',\n",
       " 'her',\n",
       " 'i',\n",
       " 'like',\n",
       " 'love',\n",
       " 'me',\n",
       " 'na',\n",
       " 'never',\n",
       " 'one',\n",
       " 'she',\n",
       " 'that',\n",
       " 'to',\n",
       " 'wan',\n",
       " 'want',\n",
       " 'wants',\n",
       " 'you'}"
      ]
     },
     "execution_count": 34,
     "metadata": {},
     "output_type": "execute_result"
    }
   ],
   "source": [
    "all_words = set(word for sentence in train for word in word_tokenize(sentence[0]))\n",
    "all_words\n",
    "#위에 함수를 set으로 묶어 -> 중복을 처리함\n",
    "#이중 for문 돌린것을 word 안에 넣고, set함수를 이용하여 중복된 단어를 처리함"
   ]
  },
  {
   "cell_type": "code",
   "execution_count": 35,
   "metadata": {},
   "outputs": [
    {
     "data": {
      "text/plain": [
       "[({'me': False,\n",
       "   'to': False,\n",
       "   'one': False,\n",
       "   'wants': False,\n",
       "   'she': False,\n",
       "   'na': False,\n",
       "   'want': False,\n",
       "   'that': False,\n",
       "   'like': True,\n",
       "   'never': False,\n",
       "   'dance': False,\n",
       "   'hater': False,\n",
       "   'wan': False,\n",
       "   'you': True,\n",
       "   'i': True,\n",
       "   'her': False,\n",
       "   'love': False,\n",
       "   'hate': False},\n",
       "  'pos'),\n",
       " ({'me': False,\n",
       "   'to': False,\n",
       "   'one': False,\n",
       "   'wants': False,\n",
       "   'she': False,\n",
       "   'na': False,\n",
       "   'want': False,\n",
       "   'that': False,\n",
       "   'like': False,\n",
       "   'never': False,\n",
       "   'dance': False,\n",
       "   'hater': False,\n",
       "   'wan': False,\n",
       "   'you': True,\n",
       "   'i': True,\n",
       "   'her': False,\n",
       "   'love': False,\n",
       "   'hate': True},\n",
       "  'neg'),\n",
       " ({'me': True,\n",
       "   'to': False,\n",
       "   'one': False,\n",
       "   'wants': False,\n",
       "   'she': False,\n",
       "   'na': False,\n",
       "   'want': False,\n",
       "   'that': False,\n",
       "   'like': True,\n",
       "   'never': False,\n",
       "   'dance': False,\n",
       "   'hater': False,\n",
       "   'wan': False,\n",
       "   'you': True,\n",
       "   'i': False,\n",
       "   'her': False,\n",
       "   'love': False,\n",
       "   'hate': False},\n",
       "  'neg'),\n",
       " ({'me': False,\n",
       "   'to': False,\n",
       "   'one': False,\n",
       "   'wants': False,\n",
       "   'she': False,\n",
       "   'na': False,\n",
       "   'want': False,\n",
       "   'that': False,\n",
       "   'like': True,\n",
       "   'never': False,\n",
       "   'dance': False,\n",
       "   'hater': False,\n",
       "   'wan': False,\n",
       "   'you': False,\n",
       "   'i': True,\n",
       "   'her': True,\n",
       "   'love': False,\n",
       "   'hate': False},\n",
       "  'pos'),\n",
       " ({'me': False,\n",
       "   'to': False,\n",
       "   'one': False,\n",
       "   'wants': False,\n",
       "   'she': False,\n",
       "   'na': False,\n",
       "   'want': False,\n",
       "   'that': False,\n",
       "   'like': False,\n",
       "   'never': False,\n",
       "   'dance': False,\n",
       "   'hater': False,\n",
       "   'wan': False,\n",
       "   'you': True,\n",
       "   'i': True,\n",
       "   'her': False,\n",
       "   'love': True,\n",
       "   'hate': False},\n",
       "  'pos'),\n",
       " ({'me': False,\n",
       "   'to': False,\n",
       "   'one': False,\n",
       "   'wants': False,\n",
       "   'she': False,\n",
       "   'na': False,\n",
       "   'want': True,\n",
       "   'that': False,\n",
       "   'like': False,\n",
       "   'never': False,\n",
       "   'dance': False,\n",
       "   'hater': False,\n",
       "   'wan': False,\n",
       "   'you': True,\n",
       "   'i': True,\n",
       "   'her': False,\n",
       "   'love': False,\n",
       "   'hate': False},\n",
       "  'pos'),\n",
       " ({'me': False,\n",
       "   'to': False,\n",
       "   'one': False,\n",
       "   'wants': False,\n",
       "   'she': False,\n",
       "   'na': False,\n",
       "   'want': False,\n",
       "   'that': False,\n",
       "   'like': False,\n",
       "   'never': False,\n",
       "   'dance': False,\n",
       "   'hater': True,\n",
       "   'wan': False,\n",
       "   'you': False,\n",
       "   'i': False,\n",
       "   'her': False,\n",
       "   'love': False,\n",
       "   'hate': False},\n",
       "  'neg'),\n",
       " ({'me': False,\n",
       "   'to': True,\n",
       "   'one': True,\n",
       "   'wants': False,\n",
       "   'she': False,\n",
       "   'na': False,\n",
       "   'want': True,\n",
       "   'that': True,\n",
       "   'like': False,\n",
       "   'never': True,\n",
       "   'dance': False,\n",
       "   'hater': False,\n",
       "   'wan': False,\n",
       "   'you': False,\n",
       "   'i': True,\n",
       "   'her': False,\n",
       "   'love': False,\n",
       "   'hate': False},\n",
       "  'neg'),\n",
       " ({'me': False,\n",
       "   'to': False,\n",
       "   'one': False,\n",
       "   'wants': False,\n",
       "   'she': False,\n",
       "   'na': True,\n",
       "   'want': False,\n",
       "   'that': False,\n",
       "   'like': False,\n",
       "   'never': False,\n",
       "   'dance': True,\n",
       "   'hater': False,\n",
       "   'wan': True,\n",
       "   'you': False,\n",
       "   'i': True,\n",
       "   'her': False,\n",
       "   'love': False,\n",
       "   'hate': False},\n",
       "  'pos'),\n",
       " ({'me': False,\n",
       "   'to': True,\n",
       "   'one': False,\n",
       "   'wants': True,\n",
       "   'she': True,\n",
       "   'na': False,\n",
       "   'want': False,\n",
       "   'that': False,\n",
       "   'like': False,\n",
       "   'never': True,\n",
       "   'dance': True,\n",
       "   'hater': False,\n",
       "   'wan': False,\n",
       "   'you': False,\n",
       "   'i': False,\n",
       "   'her': False,\n",
       "   'love': False,\n",
       "   'hate': False},\n",
       "  'neg')]"
      ]
     },
     "execution_count": 35,
     "metadata": {},
     "output_type": "execute_result"
    }
   ],
   "source": [
    "t = [({word: (word in word_tokenize(x[0])) for word in all_words}, x[1])\n",
    "                                                        for x in train] #딕셔너리 형태로 만들어준다.\n",
    "t\n",
    "\n",
    "#이중 for문으로 판단해야할 단어 : word 에 토크나이저 된걸 pos/neg 으로 판단하게 함\n",
    "#아직까지는 True/False로만 존재하는것임\n",
    "#word 변수안에는 각 단어들이 존재함.\n",
    "#true 는 그 단어가 있음\n",
    "#flase 는 그 단어가 없음\n",
    "#이럴땐 True/False로 나이브 베이즈가 확률을 판단"
   ]
  },
  {
   "cell_type": "code",
   "execution_count": 36,
   "metadata": {},
   "outputs": [],
   "source": [
    "classifier = nltk.NaiveBayesClassifier.train(t)\n",
    "\n",
    "#t 는 각 단어가 문장에서 어떻게 나왔는지를 dictionary 형태로 만들어준것\n",
    "#나이브 베이즈가 pos / neg 유/무를 판단하고 학습함"
   ]
  },
  {
   "cell_type": "code",
   "execution_count": 37,
   "metadata": {},
   "outputs": [
    {
     "name": "stdout",
     "output_type": "stream",
     "text": [
      "Most Informative Features\n",
      "                       i = True              pos : neg    =      2.2 : 1.0\n",
      "                    like = True              pos : neg    =      1.7 : 1.0\n",
      "                   never = False             pos : neg    =      1.6 : 1.0\n",
      "                      to = False             pos : neg    =      1.6 : 1.0\n",
      "                     you = True              pos : neg    =      1.4 : 1.0\n",
      "                     you = False             neg : pos    =      1.4 : 1.0\n",
      "                    like = False             neg : pos    =      1.3 : 1.0\n",
      "                   wants = False             pos : neg    =      1.2 : 1.0\n",
      "                    that = False             pos : neg    =      1.2 : 1.0\n",
      "                     one = False             pos : neg    =      1.2 : 1.0\n"
     ]
    }
   ],
   "source": [
    "classifier.show_most_informative_features()\n",
    "\n",
    "#you -> 나오면 negative 일 확률 1.7\n",
    "#i 가 낭면 postive 확률 1.7\n",
    "#hate 가 false(나오지 않는다면) -> pos 긍정일 확률 1.7"
   ]
  },
  {
   "cell_type": "code",
   "execution_count": 38,
   "metadata": {},
   "outputs": [],
   "source": [
    "test_sentence = 'i like song'"
   ]
  },
  {
   "cell_type": "code",
   "execution_count": 39,
   "metadata": {},
   "outputs": [
    {
     "data": {
      "text/plain": [
       "{'me': False,\n",
       " 'to': False,\n",
       " 'one': False,\n",
       " 'wants': False,\n",
       " 'she': False,\n",
       " 'na': False,\n",
       " 'want': False,\n",
       " 'that': False,\n",
       " 'like': True,\n",
       " 'never': False,\n",
       " 'dance': False,\n",
       " 'hater': False,\n",
       " 'wan': False,\n",
       " 'you': False,\n",
       " 'i': True,\n",
       " 'her': False,\n",
       " 'love': False,\n",
       " 'hate': False}"
      ]
     },
     "execution_count": 39,
     "metadata": {},
     "output_type": "execute_result"
    }
   ],
   "source": [
    "test_sent_features = {word.lower(): \n",
    "                                          (word in word_tokenize(test_sentence.lower()))\n",
    "                                           for word in all_words}\n",
    "test_sent_features"
   ]
  },
  {
   "cell_type": "code",
   "execution_count": 40,
   "metadata": {},
   "outputs": [
    {
     "data": {
      "text/plain": [
       "'pos'"
      ]
     },
     "execution_count": 40,
     "metadata": {},
     "output_type": "execute_result"
    }
   ],
   "source": [
    "classifier.classify(test_sent_features) #분류를 해봐, classify 해봐, 긍/부 인지"
   ]
  },
  {
   "cell_type": "code",
   "execution_count": 41,
   "metadata": {},
   "outputs": [],
   "source": [
    "test_sentence2 = 'i want to play sing a song'"
   ]
  },
  {
   "cell_type": "code",
   "execution_count": 42,
   "metadata": {},
   "outputs": [
    {
     "data": {
      "text/plain": [
       "{'me': False,\n",
       " 'to': True,\n",
       " 'one': False,\n",
       " 'wants': False,\n",
       " 'she': False,\n",
       " 'na': False,\n",
       " 'want': True,\n",
       " 'that': False,\n",
       " 'like': False,\n",
       " 'never': False,\n",
       " 'dance': False,\n",
       " 'hater': False,\n",
       " 'wan': False,\n",
       " 'you': False,\n",
       " 'i': True,\n",
       " 'her': False,\n",
       " 'love': False,\n",
       " 'hate': False}"
      ]
     },
     "execution_count": 42,
     "metadata": {},
     "output_type": "execute_result"
    }
   ],
   "source": [
    "test_sent_features2 = {word.lower(): \n",
    "                                          (word in word_tokenize(test_sentence2.lower()))\n",
    "                                           for word in all_words}\n",
    "test_sent_features2"
   ]
  },
  {
   "cell_type": "code",
   "execution_count": 44,
   "metadata": {
    "scrolled": true
   },
   "outputs": [
    {
     "data": {
      "text/plain": [
       "'pos'"
      ]
     },
     "execution_count": 44,
     "metadata": {},
     "output_type": "execute_result"
    }
   ],
   "source": [
    "classifier.classify(test_sent_features) #분류를 해봐, classify 해봐, 긍/부 인지"
   ]
  },
  {
   "cell_type": "code",
   "execution_count": 45,
   "metadata": {},
   "outputs": [],
   "source": [
    "#한국어의 경우는 '조사'를 빼줘야만 더 좋은 결과를 얻을 수 있음"
   ]
  },
  {
   "cell_type": "code",
   "execution_count": null,
   "metadata": {},
   "outputs": [],
   "source": []
  },
  {
   "cell_type": "code",
   "execution_count": null,
   "metadata": {},
   "outputs": [],
   "source": []
  }
 ],
 "metadata": {
  "kernelspec": {
   "display_name": "Python 3",
   "language": "python",
   "name": "python3"
  },
  "language_info": {
   "codemirror_mode": {
    "name": "ipython",
    "version": 3
   },
   "file_extension": ".py",
   "mimetype": "text/x-python",
   "name": "python",
   "nbconvert_exporter": "python",
   "pygments_lexer": "ipython3",
   "version": "3.7.6"
  }
 },
 "nbformat": 4,
 "nbformat_minor": 4
}
