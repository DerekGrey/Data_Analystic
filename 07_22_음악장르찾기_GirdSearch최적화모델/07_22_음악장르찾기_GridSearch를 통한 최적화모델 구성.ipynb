{
 "cells": [
  {
   "cell_type": "markdown",
   "metadata": {},
   "source": [
    "## [3] 음악 장르 예측 및 Grid 찾기\n",
    "\n",
    "##### 목적 : feature(tempo, beats, mfmc...) 등을 활용하여 음악장르 찾기 = label\n",
    "##### 방법 : Grid_Search를 활용하여 최적화 파라미터 서칭 및 모델 구축\n",
    "##### 결론  및 인사이트 : 클래식음악, 메탈 음악 등 템포와 비트가 도드라지는 음악장르는 정확도가 높게 예측 가능함."
   ]
  },
  {
   "cell_type": "code",
   "execution_count": 1,
   "metadata": {},
   "outputs": [],
   "source": [
    "import numpy as np\n",
    "import pandas as pd\n",
    "import matplotlib.pyplot as plt\n",
    "import seaborn as sns\n",
    "%matplotlib inline \n",
    "#인라인은 박스의 반대말 -> 한줄 안에 다 넣어버리겠다\n",
    "from sklearn.model_selection import train_test_split, KFold, GridSearchCV #K폴드, 그리드서치 방법 임포트"
   ]
  },
  {
   "cell_type": "code",
   "execution_count": 2,
   "metadata": {},
   "outputs": [],
   "source": [
    "music = pd.read_csv('music_genre_data_refine.csv', encoding='utf-8', error_bad_lines=False)"
   ]
  },
  {
   "cell_type": "code",
   "execution_count": 3,
   "metadata": {},
   "outputs": [
    {
     "data": {
      "text/html": [
       "<div>\n",
       "<style scoped>\n",
       "    .dataframe tbody tr th:only-of-type {\n",
       "        vertical-align: middle;\n",
       "    }\n",
       "\n",
       "    .dataframe tbody tr th {\n",
       "        vertical-align: top;\n",
       "    }\n",
       "\n",
       "    .dataframe thead th {\n",
       "        text-align: right;\n",
       "    }\n",
       "</style>\n",
       "<table border=\"1\" class=\"dataframe\">\n",
       "  <thead>\n",
       "    <tr style=\"text-align: right;\">\n",
       "      <th></th>\n",
       "      <th>tempo</th>\n",
       "      <th>beats</th>\n",
       "      <th>chroma_stft</th>\n",
       "      <th>rmse</th>\n",
       "      <th>spectral_centroid</th>\n",
       "      <th>spectral_bandwidth</th>\n",
       "      <th>rolloff</th>\n",
       "      <th>zero_crossing_rate</th>\n",
       "      <th>mfcc1</th>\n",
       "      <th>label</th>\n",
       "    </tr>\n",
       "  </thead>\n",
       "  <tbody>\n",
       "    <tr>\n",
       "      <th>0</th>\n",
       "      <td>103.359375</td>\n",
       "      <td>50</td>\n",
       "      <td>0.380260</td>\n",
       "      <td>0.248262</td>\n",
       "      <td>2116.942959</td>\n",
       "      <td>1956.611056</td>\n",
       "      <td>4196.107960</td>\n",
       "      <td>0.127272</td>\n",
       "      <td>-26.929785</td>\n",
       "      <td>blues</td>\n",
       "    </tr>\n",
       "    <tr>\n",
       "      <th>1</th>\n",
       "      <td>95.703125</td>\n",
       "      <td>44</td>\n",
       "      <td>0.306451</td>\n",
       "      <td>0.113475</td>\n",
       "      <td>1156.070496</td>\n",
       "      <td>1497.668176</td>\n",
       "      <td>2170.053545</td>\n",
       "      <td>0.058613</td>\n",
       "      <td>-233.860772</td>\n",
       "      <td>blues</td>\n",
       "    </tr>\n",
       "    <tr>\n",
       "      <th>2</th>\n",
       "      <td>151.999081</td>\n",
       "      <td>75</td>\n",
       "      <td>0.253487</td>\n",
       "      <td>0.151571</td>\n",
       "      <td>1331.073970</td>\n",
       "      <td>1973.643437</td>\n",
       "      <td>2900.174130</td>\n",
       "      <td>0.042967</td>\n",
       "      <td>-221.802549</td>\n",
       "      <td>blues</td>\n",
       "    </tr>\n",
       "    <tr>\n",
       "      <th>3</th>\n",
       "      <td>184.570312</td>\n",
       "      <td>91</td>\n",
       "      <td>0.269320</td>\n",
       "      <td>0.119072</td>\n",
       "      <td>1361.045467</td>\n",
       "      <td>1567.804596</td>\n",
       "      <td>2739.625101</td>\n",
       "      <td>0.069124</td>\n",
       "      <td>-207.208080</td>\n",
       "      <td>blues</td>\n",
       "    </tr>\n",
       "    <tr>\n",
       "      <th>4</th>\n",
       "      <td>161.499023</td>\n",
       "      <td>74</td>\n",
       "      <td>0.391059</td>\n",
       "      <td>0.137728</td>\n",
       "      <td>1811.076084</td>\n",
       "      <td>2052.332563</td>\n",
       "      <td>3927.809582</td>\n",
       "      <td>0.075480</td>\n",
       "      <td>-145.434568</td>\n",
       "      <td>blues</td>\n",
       "    </tr>\n",
       "    <tr>\n",
       "      <th>...</th>\n",
       "      <td>...</td>\n",
       "      <td>...</td>\n",
       "      <td>...</td>\n",
       "      <td>...</td>\n",
       "      <td>...</td>\n",
       "      <td>...</td>\n",
       "      <td>...</td>\n",
       "      <td>...</td>\n",
       "      <td>...</td>\n",
       "      <td>...</td>\n",
       "    </tr>\n",
       "    <tr>\n",
       "      <th>995</th>\n",
       "      <td>123.046875</td>\n",
       "      <td>59</td>\n",
       "      <td>0.418812</td>\n",
       "      <td>0.166056</td>\n",
       "      <td>2312.030070</td>\n",
       "      <td>2060.825761</td>\n",
       "      <td>4528.197619</td>\n",
       "      <td>0.140588</td>\n",
       "      <td>-41.402023</td>\n",
       "      <td>rock</td>\n",
       "    </tr>\n",
       "    <tr>\n",
       "      <th>996</th>\n",
       "      <td>117.453835</td>\n",
       "      <td>56</td>\n",
       "      <td>0.335774</td>\n",
       "      <td>0.093676</td>\n",
       "      <td>2553.856706</td>\n",
       "      <td>2219.090892</td>\n",
       "      <td>5123.752351</td>\n",
       "      <td>0.136173</td>\n",
       "      <td>-121.410791</td>\n",
       "      <td>rock</td>\n",
       "    </tr>\n",
       "    <tr>\n",
       "      <th>997</th>\n",
       "      <td>103.359375</td>\n",
       "      <td>45</td>\n",
       "      <td>0.372834</td>\n",
       "      <td>0.208743</td>\n",
       "      <td>1345.850763</td>\n",
       "      <td>1841.748033</td>\n",
       "      <td>2939.265560</td>\n",
       "      <td>0.041099</td>\n",
       "      <td>-127.946876</td>\n",
       "      <td>rock</td>\n",
       "    </tr>\n",
       "    <tr>\n",
       "      <th>998</th>\n",
       "      <td>112.347147</td>\n",
       "      <td>45</td>\n",
       "      <td>0.344472</td>\n",
       "      <td>0.180163</td>\n",
       "      <td>1675.475369</td>\n",
       "      <td>1653.422860</td>\n",
       "      <td>3253.563659</td>\n",
       "      <td>0.087294</td>\n",
       "      <td>-98.356322</td>\n",
       "      <td>rock</td>\n",
       "    </tr>\n",
       "    <tr>\n",
       "      <th>999</th>\n",
       "      <td>75.999540</td>\n",
       "      <td>36</td>\n",
       "      <td>0.360098</td>\n",
       "      <td>0.042995</td>\n",
       "      <td>2209.357588</td>\n",
       "      <td>2175.214294</td>\n",
       "      <td>4575.588999</td>\n",
       "      <td>0.107147</td>\n",
       "      <td>-245.160921</td>\n",
       "      <td>rock</td>\n",
       "    </tr>\n",
       "  </tbody>\n",
       "</table>\n",
       "<p>1000 rows × 10 columns</p>\n",
       "</div>"
      ],
      "text/plain": [
       "          tempo  beats  chroma_stft      rmse  spectral_centroid  \\\n",
       "0    103.359375     50     0.380260  0.248262        2116.942959   \n",
       "1     95.703125     44     0.306451  0.113475        1156.070496   \n",
       "2    151.999081     75     0.253487  0.151571        1331.073970   \n",
       "3    184.570312     91     0.269320  0.119072        1361.045467   \n",
       "4    161.499023     74     0.391059  0.137728        1811.076084   \n",
       "..          ...    ...          ...       ...                ...   \n",
       "995  123.046875     59     0.418812  0.166056        2312.030070   \n",
       "996  117.453835     56     0.335774  0.093676        2553.856706   \n",
       "997  103.359375     45     0.372834  0.208743        1345.850763   \n",
       "998  112.347147     45     0.344472  0.180163        1675.475369   \n",
       "999   75.999540     36     0.360098  0.042995        2209.357588   \n",
       "\n",
       "     spectral_bandwidth      rolloff  zero_crossing_rate       mfcc1  label  \n",
       "0           1956.611056  4196.107960            0.127272  -26.929785  blues  \n",
       "1           1497.668176  2170.053545            0.058613 -233.860772  blues  \n",
       "2           1973.643437  2900.174130            0.042967 -221.802549  blues  \n",
       "3           1567.804596  2739.625101            0.069124 -207.208080  blues  \n",
       "4           2052.332563  3927.809582            0.075480 -145.434568  blues  \n",
       "..                  ...          ...                 ...         ...    ...  \n",
       "995         2060.825761  4528.197619            0.140588  -41.402023   rock  \n",
       "996         2219.090892  5123.752351            0.136173 -121.410791   rock  \n",
       "997         1841.748033  2939.265560            0.041099 -127.946876   rock  \n",
       "998         1653.422860  3253.563659            0.087294  -98.356322   rock  \n",
       "999         2175.214294  4575.588999            0.107147 -245.160921   rock  \n",
       "\n",
       "[1000 rows x 10 columns]"
      ]
     },
     "execution_count": 3,
     "metadata": {},
     "output_type": "execute_result"
    }
   ],
   "source": [
    "music"
   ]
  },
  {
   "cell_type": "code",
   "execution_count": 4,
   "metadata": {},
   "outputs": [],
   "source": [
    "#Label = 장르 정답 데이터\n",
    "#학습데이터는 tempo 부터 mfcc1 까지 넣을 예정"
   ]
  },
  {
   "cell_type": "code",
   "execution_count": 5,
   "metadata": {},
   "outputs": [
    {
     "data": {
      "text/plain": [
       "0      blues\n",
       "1      blues\n",
       "2      blues\n",
       "3      blues\n",
       "4      blues\n",
       "       ...  \n",
       "995     rock\n",
       "996     rock\n",
       "997     rock\n",
       "998     rock\n",
       "999     rock\n",
       "Name: label, Length: 1000, dtype: object"
      ]
     },
     "execution_count": 5,
     "metadata": {},
     "output_type": "execute_result"
    }
   ],
   "source": [
    "# 데이터셋 중 타겟데이터 추출\n",
    "y = music['label']\n",
    "y\n",
    "# feature engineering - 타겟데이터 라벨링을 통한 성능 개선 시도하기\n"
   ]
  },
  {
   "cell_type": "code",
   "execution_count": 6,
   "metadata": {},
   "outputs": [
    {
     "data": {
      "text/html": [
       "<div>\n",
       "<style scoped>\n",
       "    .dataframe tbody tr th:only-of-type {\n",
       "        vertical-align: middle;\n",
       "    }\n",
       "\n",
       "    .dataframe tbody tr th {\n",
       "        vertical-align: top;\n",
       "    }\n",
       "\n",
       "    .dataframe thead th {\n",
       "        text-align: right;\n",
       "    }\n",
       "</style>\n",
       "<table border=\"1\" class=\"dataframe\">\n",
       "  <thead>\n",
       "    <tr style=\"text-align: right;\">\n",
       "      <th></th>\n",
       "      <th>tempo</th>\n",
       "      <th>beats</th>\n",
       "      <th>chroma_stft</th>\n",
       "      <th>rmse</th>\n",
       "      <th>spectral_centroid</th>\n",
       "      <th>spectral_bandwidth</th>\n",
       "      <th>rolloff</th>\n",
       "      <th>zero_crossing_rate</th>\n",
       "      <th>mfcc1</th>\n",
       "    </tr>\n",
       "  </thead>\n",
       "  <tbody>\n",
       "    <tr>\n",
       "      <th>0</th>\n",
       "      <td>103.359375</td>\n",
       "      <td>50</td>\n",
       "      <td>0.380260</td>\n",
       "      <td>0.248262</td>\n",
       "      <td>2116.942959</td>\n",
       "      <td>1956.611056</td>\n",
       "      <td>4196.107960</td>\n",
       "      <td>0.127272</td>\n",
       "      <td>-26.929785</td>\n",
       "    </tr>\n",
       "    <tr>\n",
       "      <th>1</th>\n",
       "      <td>95.703125</td>\n",
       "      <td>44</td>\n",
       "      <td>0.306451</td>\n",
       "      <td>0.113475</td>\n",
       "      <td>1156.070496</td>\n",
       "      <td>1497.668176</td>\n",
       "      <td>2170.053545</td>\n",
       "      <td>0.058613</td>\n",
       "      <td>-233.860772</td>\n",
       "    </tr>\n",
       "    <tr>\n",
       "      <th>2</th>\n",
       "      <td>151.999081</td>\n",
       "      <td>75</td>\n",
       "      <td>0.253487</td>\n",
       "      <td>0.151571</td>\n",
       "      <td>1331.073970</td>\n",
       "      <td>1973.643437</td>\n",
       "      <td>2900.174130</td>\n",
       "      <td>0.042967</td>\n",
       "      <td>-221.802549</td>\n",
       "    </tr>\n",
       "    <tr>\n",
       "      <th>3</th>\n",
       "      <td>184.570312</td>\n",
       "      <td>91</td>\n",
       "      <td>0.269320</td>\n",
       "      <td>0.119072</td>\n",
       "      <td>1361.045467</td>\n",
       "      <td>1567.804596</td>\n",
       "      <td>2739.625101</td>\n",
       "      <td>0.069124</td>\n",
       "      <td>-207.208080</td>\n",
       "    </tr>\n",
       "    <tr>\n",
       "      <th>4</th>\n",
       "      <td>161.499023</td>\n",
       "      <td>74</td>\n",
       "      <td>0.391059</td>\n",
       "      <td>0.137728</td>\n",
       "      <td>1811.076084</td>\n",
       "      <td>2052.332563</td>\n",
       "      <td>3927.809582</td>\n",
       "      <td>0.075480</td>\n",
       "      <td>-145.434568</td>\n",
       "    </tr>\n",
       "    <tr>\n",
       "      <th>...</th>\n",
       "      <td>...</td>\n",
       "      <td>...</td>\n",
       "      <td>...</td>\n",
       "      <td>...</td>\n",
       "      <td>...</td>\n",
       "      <td>...</td>\n",
       "      <td>...</td>\n",
       "      <td>...</td>\n",
       "      <td>...</td>\n",
       "    </tr>\n",
       "    <tr>\n",
       "      <th>995</th>\n",
       "      <td>123.046875</td>\n",
       "      <td>59</td>\n",
       "      <td>0.418812</td>\n",
       "      <td>0.166056</td>\n",
       "      <td>2312.030070</td>\n",
       "      <td>2060.825761</td>\n",
       "      <td>4528.197619</td>\n",
       "      <td>0.140588</td>\n",
       "      <td>-41.402023</td>\n",
       "    </tr>\n",
       "    <tr>\n",
       "      <th>996</th>\n",
       "      <td>117.453835</td>\n",
       "      <td>56</td>\n",
       "      <td>0.335774</td>\n",
       "      <td>0.093676</td>\n",
       "      <td>2553.856706</td>\n",
       "      <td>2219.090892</td>\n",
       "      <td>5123.752351</td>\n",
       "      <td>0.136173</td>\n",
       "      <td>-121.410791</td>\n",
       "    </tr>\n",
       "    <tr>\n",
       "      <th>997</th>\n",
       "      <td>103.359375</td>\n",
       "      <td>45</td>\n",
       "      <td>0.372834</td>\n",
       "      <td>0.208743</td>\n",
       "      <td>1345.850763</td>\n",
       "      <td>1841.748033</td>\n",
       "      <td>2939.265560</td>\n",
       "      <td>0.041099</td>\n",
       "      <td>-127.946876</td>\n",
       "    </tr>\n",
       "    <tr>\n",
       "      <th>998</th>\n",
       "      <td>112.347147</td>\n",
       "      <td>45</td>\n",
       "      <td>0.344472</td>\n",
       "      <td>0.180163</td>\n",
       "      <td>1675.475369</td>\n",
       "      <td>1653.422860</td>\n",
       "      <td>3253.563659</td>\n",
       "      <td>0.087294</td>\n",
       "      <td>-98.356322</td>\n",
       "    </tr>\n",
       "    <tr>\n",
       "      <th>999</th>\n",
       "      <td>75.999540</td>\n",
       "      <td>36</td>\n",
       "      <td>0.360098</td>\n",
       "      <td>0.042995</td>\n",
       "      <td>2209.357588</td>\n",
       "      <td>2175.214294</td>\n",
       "      <td>4575.588999</td>\n",
       "      <td>0.107147</td>\n",
       "      <td>-245.160921</td>\n",
       "    </tr>\n",
       "  </tbody>\n",
       "</table>\n",
       "<p>1000 rows × 9 columns</p>\n",
       "</div>"
      ],
      "text/plain": [
       "          tempo  beats  chroma_stft      rmse  spectral_centroid  \\\n",
       "0    103.359375     50     0.380260  0.248262        2116.942959   \n",
       "1     95.703125     44     0.306451  0.113475        1156.070496   \n",
       "2    151.999081     75     0.253487  0.151571        1331.073970   \n",
       "3    184.570312     91     0.269320  0.119072        1361.045467   \n",
       "4    161.499023     74     0.391059  0.137728        1811.076084   \n",
       "..          ...    ...          ...       ...                ...   \n",
       "995  123.046875     59     0.418812  0.166056        2312.030070   \n",
       "996  117.453835     56     0.335774  0.093676        2553.856706   \n",
       "997  103.359375     45     0.372834  0.208743        1345.850763   \n",
       "998  112.347147     45     0.344472  0.180163        1675.475369   \n",
       "999   75.999540     36     0.360098  0.042995        2209.357588   \n",
       "\n",
       "     spectral_bandwidth      rolloff  zero_crossing_rate       mfcc1  \n",
       "0           1956.611056  4196.107960            0.127272  -26.929785  \n",
       "1           1497.668176  2170.053545            0.058613 -233.860772  \n",
       "2           1973.643437  2900.174130            0.042967 -221.802549  \n",
       "3           1567.804596  2739.625101            0.069124 -207.208080  \n",
       "4           2052.332563  3927.809582            0.075480 -145.434568  \n",
       "..                  ...          ...                 ...         ...  \n",
       "995         2060.825761  4528.197619            0.140588  -41.402023  \n",
       "996         2219.090892  5123.752351            0.136173 -121.410791  \n",
       "997         1841.748033  2939.265560            0.041099 -127.946876  \n",
       "998         1653.422860  3253.563659            0.087294  -98.356322  \n",
       "999         2175.214294  4575.588999            0.107147 -245.160921  \n",
       "\n",
       "[1000 rows x 9 columns]"
      ]
     },
     "execution_count": 6,
     "metadata": {},
     "output_type": "execute_result"
    }
   ],
   "source": [
    "# 데이터셋 중 요인데이터 추출\n",
    "x = music.drop('label', axis=1)\n",
    "x"
   ]
  },
  {
   "cell_type": "code",
   "execution_count": 7,
   "metadata": {},
   "outputs": [],
   "source": [
    "#트,테 데이터 분류\n",
    "# 학습용 요인, 결과, 검증용 요인, 결과 셋으로 데이터를 분리\n",
    "x_train, x_test, y_train, y_test = train_test_split(x, y, test_size = 0.2)"
   ]
  },
  {
   "cell_type": "code",
   "execution_count": 8,
   "metadata": {},
   "outputs": [
    {
     "data": {
      "text/html": [
       "<div>\n",
       "<style scoped>\n",
       "    .dataframe tbody tr th:only-of-type {\n",
       "        vertical-align: middle;\n",
       "    }\n",
       "\n",
       "    .dataframe tbody tr th {\n",
       "        vertical-align: top;\n",
       "    }\n",
       "\n",
       "    .dataframe thead th {\n",
       "        text-align: right;\n",
       "    }\n",
       "</style>\n",
       "<table border=\"1\" class=\"dataframe\">\n",
       "  <thead>\n",
       "    <tr style=\"text-align: right;\">\n",
       "      <th></th>\n",
       "      <th>tempo</th>\n",
       "      <th>beats</th>\n",
       "      <th>chroma_stft</th>\n",
       "      <th>rmse</th>\n",
       "      <th>spectral_centroid</th>\n",
       "      <th>spectral_bandwidth</th>\n",
       "      <th>rolloff</th>\n",
       "      <th>zero_crossing_rate</th>\n",
       "      <th>mfcc1</th>\n",
       "    </tr>\n",
       "  </thead>\n",
       "  <tbody>\n",
       "    <tr>\n",
       "      <th>341</th>\n",
       "      <td>117.453835</td>\n",
       "      <td>54</td>\n",
       "      <td>0.415676</td>\n",
       "      <td>0.206754</td>\n",
       "      <td>2308.771409</td>\n",
       "      <td>2277.901948</td>\n",
       "      <td>4944.086770</td>\n",
       "      <td>0.117602</td>\n",
       "      <td>-56.876727</td>\n",
       "    </tr>\n",
       "    <tr>\n",
       "      <th>783</th>\n",
       "      <td>103.359375</td>\n",
       "      <td>50</td>\n",
       "      <td>0.522647</td>\n",
       "      <td>0.321615</td>\n",
       "      <td>3662.949570</td>\n",
       "      <td>3276.425158</td>\n",
       "      <td>7776.827975</td>\n",
       "      <td>0.156007</td>\n",
       "      <td>-39.992814</td>\n",
       "    </tr>\n",
       "    <tr>\n",
       "      <th>762</th>\n",
       "      <td>151.999081</td>\n",
       "      <td>74</td>\n",
       "      <td>0.330304</td>\n",
       "      <td>0.189702</td>\n",
       "      <td>2928.600767</td>\n",
       "      <td>3201.011322</td>\n",
       "      <td>6817.100445</td>\n",
       "      <td>0.105741</td>\n",
       "      <td>-106.806397</td>\n",
       "    </tr>\n",
       "    <tr>\n",
       "      <th>24</th>\n",
       "      <td>172.265625</td>\n",
       "      <td>79</td>\n",
       "      <td>0.336773</td>\n",
       "      <td>0.158098</td>\n",
       "      <td>1442.190271</td>\n",
       "      <td>1870.534155</td>\n",
       "      <td>3083.414688</td>\n",
       "      <td>0.050889</td>\n",
       "      <td>-155.504931</td>\n",
       "    </tr>\n",
       "    <tr>\n",
       "      <th>701</th>\n",
       "      <td>78.302557</td>\n",
       "      <td>38</td>\n",
       "      <td>0.360462</td>\n",
       "      <td>0.138195</td>\n",
       "      <td>2765.747194</td>\n",
       "      <td>3222.713605</td>\n",
       "      <td>6873.391771</td>\n",
       "      <td>0.096015</td>\n",
       "      <td>-119.320605</td>\n",
       "    </tr>\n",
       "    <tr>\n",
       "      <th>...</th>\n",
       "      <td>...</td>\n",
       "      <td>...</td>\n",
       "      <td>...</td>\n",
       "      <td>...</td>\n",
       "      <td>...</td>\n",
       "      <td>...</td>\n",
       "      <td>...</td>\n",
       "      <td>...</td>\n",
       "      <td>...</td>\n",
       "    </tr>\n",
       "    <tr>\n",
       "      <th>673</th>\n",
       "      <td>135.999178</td>\n",
       "      <td>67</td>\n",
       "      <td>0.446211</td>\n",
       "      <td>0.220483</td>\n",
       "      <td>2566.803635</td>\n",
       "      <td>2408.484762</td>\n",
       "      <td>5444.433745</td>\n",
       "      <td>0.125209</td>\n",
       "      <td>-12.499903</td>\n",
       "    </tr>\n",
       "    <tr>\n",
       "      <th>859</th>\n",
       "      <td>151.999081</td>\n",
       "      <td>75</td>\n",
       "      <td>0.476249</td>\n",
       "      <td>0.080634</td>\n",
       "      <td>3002.851704</td>\n",
       "      <td>2214.524618</td>\n",
       "      <td>5293.851322</td>\n",
       "      <td>0.186434</td>\n",
       "      <td>-155.655322</td>\n",
       "    </tr>\n",
       "    <tr>\n",
       "      <th>669</th>\n",
       "      <td>151.999081</td>\n",
       "      <td>74</td>\n",
       "      <td>0.440920</td>\n",
       "      <td>0.149154</td>\n",
       "      <td>2741.118114</td>\n",
       "      <td>2302.191500</td>\n",
       "      <td>5409.383957</td>\n",
       "      <td>0.159985</td>\n",
       "      <td>-41.997244</td>\n",
       "    </tr>\n",
       "    <tr>\n",
       "      <th>424</th>\n",
       "      <td>95.703125</td>\n",
       "      <td>47</td>\n",
       "      <td>0.417792</td>\n",
       "      <td>0.206960</td>\n",
       "      <td>2447.828102</td>\n",
       "      <td>2780.016074</td>\n",
       "      <td>5317.059515</td>\n",
       "      <td>0.088603</td>\n",
       "      <td>-140.168498</td>\n",
       "    </tr>\n",
       "    <tr>\n",
       "      <th>812</th>\n",
       "      <td>161.499023</td>\n",
       "      <td>69</td>\n",
       "      <td>0.440458</td>\n",
       "      <td>0.210812</td>\n",
       "      <td>2455.989277</td>\n",
       "      <td>2559.722919</td>\n",
       "      <td>5054.369437</td>\n",
       "      <td>0.088272</td>\n",
       "      <td>-105.677889</td>\n",
       "    </tr>\n",
       "  </tbody>\n",
       "</table>\n",
       "<p>800 rows × 9 columns</p>\n",
       "</div>"
      ],
      "text/plain": [
       "          tempo  beats  chroma_stft      rmse  spectral_centroid  \\\n",
       "341  117.453835     54     0.415676  0.206754        2308.771409   \n",
       "783  103.359375     50     0.522647  0.321615        3662.949570   \n",
       "762  151.999081     74     0.330304  0.189702        2928.600767   \n",
       "24   172.265625     79     0.336773  0.158098        1442.190271   \n",
       "701   78.302557     38     0.360462  0.138195        2765.747194   \n",
       "..          ...    ...          ...       ...                ...   \n",
       "673  135.999178     67     0.446211  0.220483        2566.803635   \n",
       "859  151.999081     75     0.476249  0.080634        3002.851704   \n",
       "669  151.999081     74     0.440920  0.149154        2741.118114   \n",
       "424   95.703125     47     0.417792  0.206960        2447.828102   \n",
       "812  161.499023     69     0.440458  0.210812        2455.989277   \n",
       "\n",
       "     spectral_bandwidth      rolloff  zero_crossing_rate       mfcc1  \n",
       "341         2277.901948  4944.086770            0.117602  -56.876727  \n",
       "783         3276.425158  7776.827975            0.156007  -39.992814  \n",
       "762         3201.011322  6817.100445            0.105741 -106.806397  \n",
       "24          1870.534155  3083.414688            0.050889 -155.504931  \n",
       "701         3222.713605  6873.391771            0.096015 -119.320605  \n",
       "..                  ...          ...                 ...         ...  \n",
       "673         2408.484762  5444.433745            0.125209  -12.499903  \n",
       "859         2214.524618  5293.851322            0.186434 -155.655322  \n",
       "669         2302.191500  5409.383957            0.159985  -41.997244  \n",
       "424         2780.016074  5317.059515            0.088603 -140.168498  \n",
       "812         2559.722919  5054.369437            0.088272 -105.677889  \n",
       "\n",
       "[800 rows x 9 columns]"
      ]
     },
     "execution_count": 8,
     "metadata": {},
     "output_type": "execute_result"
    }
   ],
   "source": [
    "x_train"
   ]
  },
  {
   "cell_type": "code",
   "execution_count": 9,
   "metadata": {},
   "outputs": [
    {
     "data": {
      "text/plain": [
       "341     disco\n",
       "783       pop\n",
       "762       pop\n",
       "24      blues\n",
       "701       pop\n",
       "        ...  \n",
       "673     metal\n",
       "859    reggae\n",
       "669     metal\n",
       "424    hiphop\n",
       "812    reggae\n",
       "Name: label, Length: 800, dtype: object"
      ]
     },
     "execution_count": 9,
     "metadata": {},
     "output_type": "execute_result"
    }
   ],
   "source": [
    "y_train"
   ]
  },
  {
   "cell_type": "code",
   "execution_count": 10,
   "metadata": {},
   "outputs": [],
   "source": [
    "#8대2로 분류된것 확인"
   ]
  },
  {
   "cell_type": "code",
   "execution_count": 12,
   "metadata": {},
   "outputs": [
    {
     "data": {
      "text/plain": [
       "<seaborn.axisgrid.PairGrid at 0x2741cb57408>"
      ]
     },
     "execution_count": 12,
     "metadata": {},
     "output_type": "execute_result"
    },
    {
     "data": {
      "image/png": "[encoded data removed]",
      "text/plain": [
       "<Figure size 618.375x540 with 12 Axes>"
      ]
     },
     "metadata": {
      "needs_background": "light"
     },
     "output_type": "display_data"
    }
   ],
   "source": [
    "#그래프 1.\n",
    "sns.pairplot(music, hue='label', vars=['tempo', 'beats', 'rolloff'])\n",
    "\n",
    "#장르별로 분류"
   ]
  },
  {
   "cell_type": "code",
   "execution_count": 14,
   "metadata": {},
   "outputs": [
    {
     "data": {
      "text/plain": [
       "<seaborn.axisgrid.FacetGrid at 0x2741dce7508>"
      ]
     },
     "execution_count": 14,
     "metadata": {},
     "output_type": "execute_result"
    },
    {
     "data": {
      "image/png": "[encoded data removed]",
      "text/plain": [
       "<Figure size 438.375x360 with 1 Axes>"
      ]
     },
     "metadata": {
      "needs_background": "light"
     },
     "output_type": "display_data"
    }
   ],
   "source": [
    "# 그래프2.\n",
    "sns.lmplot(x = 'tempo',hue='label', y = 'beats', data = music)"
   ]
  },
  {
   "cell_type": "markdown",
   "metadata": {},
   "source": [
    "##### 음악은 비트가 빨라질수록, 대체적으로 템포가 빨라짐을 알 수 있다. \n",
    "##### 그러나, classical 음악(주황색)은 가끔 tempo가 높아도 beats가 낮은 특징을 알 수 있다.\n",
    "##### 비트 = 드럼으로 연주하는 패턴(==타악기 등으로 주기적으로 음을 끊는것)\n",
    "##### 템포 = 패턴이 연주되는 속도 (= Beat per Minute) 으로도 표현되는데, 클래식 음악의 특징상 \n",
    "##### 타악기(=드럼)과 같은 악기의 일정한 패턴은 느리기 때문에, tempo가 높다하더라도 beat는 낮은 경우를 볼 수 있다."
   ]
  },
  {
   "cell_type": "markdown",
   "metadata": {},
   "source": [
    "## 2-1. 교차검증을 통해 KNN,SVM,RF,Decision Tree 중 어떤게 Best인지 확인"
   ]
  },
  {
   "cell_type": "code",
   "execution_count": 15,
   "metadata": {},
   "outputs": [],
   "source": [
    "from sklearn.model_selection import cross_val_score #CV Cross Validation 교차검증 방법\n",
    "from sklearn.svm import SVC #서포트 백터머신 임포트"
   ]
  },
  {
   "cell_type": "markdown",
   "metadata": {},
   "source": [
    "### 1. SVM"
   ]
  },
  {
   "cell_type": "code",
   "execution_count": 16,
   "metadata": {},
   "outputs": [],
   "source": [
    "svc = SVC()"
   ]
  },
  {
   "cell_type": "code",
   "execution_count": 17,
   "metadata": {},
   "outputs": [
    {
     "data": {
      "text/plain": [
       "SVC(C=1.0, break_ties=False, cache_size=200, class_weight=None, coef0=0.0,\n",
       "    decision_function_shape='ovr', degree=3, gamma='scale', kernel='rbf',\n",
       "    max_iter=-1, probability=False, random_state=None, shrinking=True,\n",
       "    tol=0.001, verbose=False)"
      ]
     },
     "execution_count": 17,
     "metadata": {},
     "output_type": "execute_result"
    }
   ],
   "source": [
    "svc.fit(x_train, y_train) #훈련"
   ]
  },
  {
   "cell_type": "code",
   "execution_count": 18,
   "metadata": {},
   "outputs": [],
   "source": [
    "scores_svc = cross_val_score(svc, x_train, y_train, cv = 10)"
   ]
  },
  {
   "cell_type": "code",
   "execution_count": 19,
   "metadata": {},
   "outputs": [
    {
     "data": {
      "text/plain": [
       "array([0.3   , 0.3125, 0.325 , 0.3125, 0.2625, 0.325 , 0.25  , 0.2625,\n",
       "       0.3125, 0.3   ])"
      ]
     },
     "execution_count": 19,
     "metadata": {},
     "output_type": "execute_result"
    }
   ],
   "source": [
    "scores_svc # SVC 모델로 train data 가 들어왔을때, 각 label에 맞는 정답 정확도 결과"
   ]
  },
  {
   "cell_type": "code",
   "execution_count": 20,
   "metadata": {},
   "outputs": [
    {
     "data": {
      "text/plain": [
       "0.29625"
      ]
     },
     "execution_count": 20,
     "metadata": {},
     "output_type": "execute_result"
    }
   ],
   "source": [
    "scores_svc.mean() #SVC 모델 평균 정확도 결과 "
   ]
  },
  {
   "cell_type": "markdown",
   "metadata": {},
   "source": [
    "### 2. KNN"
   ]
  },
  {
   "cell_type": "code",
   "execution_count": 21,
   "metadata": {},
   "outputs": [],
   "source": [
    "from sklearn.neighbors import KNeighborsClassifier"
   ]
  },
  {
   "cell_type": "code",
   "execution_count": 22,
   "metadata": {},
   "outputs": [],
   "source": [
    "knn = KNeighborsClassifier(n_neighbors=3) #최근접 이웃방식으로 모델 예측, 주위 3개까지 가져옴! 홀수만"
   ]
  },
  {
   "cell_type": "code",
   "execution_count": 23,
   "metadata": {},
   "outputs": [
    {
     "data": {
      "text/plain": [
       "KNeighborsClassifier(algorithm='auto', leaf_size=30, metric='minkowski',\n",
       "                     metric_params=None, n_jobs=None, n_neighbors=3, p=2,\n",
       "                     weights='uniform')"
      ]
     },
     "execution_count": 23,
     "metadata": {},
     "output_type": "execute_result"
    }
   ],
   "source": [
    "knn.fit(x_train, y_train) #train 데이터로 y데이터를 예측해보아라"
   ]
  },
  {
   "cell_type": "code",
   "execution_count": 24,
   "metadata": {},
   "outputs": [],
   "source": [
    "scores_knn = cross_val_score(knn, x_train, y_train, cv= 10)"
   ]
  },
  {
   "cell_type": "code",
   "execution_count": 25,
   "metadata": {},
   "outputs": [
    {
     "data": {
      "text/plain": [
       "array([0.3375, 0.35  , 0.2875, 0.35  , 0.2875, 0.3375, 0.25  , 0.275 ,\n",
       "       0.35  , 0.2875])"
      ]
     },
     "execution_count": 25,
     "metadata": {},
     "output_type": "execute_result"
    }
   ],
   "source": [
    "scores_knn #KNN 모델로 train data 가 들어왔을때, 각 label에 맞는 정답 정확도 예측"
   ]
  },
  {
   "cell_type": "code",
   "execution_count": 26,
   "metadata": {},
   "outputs": [
    {
     "data": {
      "text/plain": [
       "0.31124999999999997"
      ]
     },
     "execution_count": 26,
     "metadata": {},
     "output_type": "execute_result"
    }
   ],
   "source": [
    "scores_knn.mean() #KNN 모델 평균 정확도 결과"
   ]
  },
  {
   "cell_type": "markdown",
   "metadata": {},
   "source": [
    "## 3. Decision Tree"
   ]
  },
  {
   "cell_type": "code",
   "execution_count": 27,
   "metadata": {},
   "outputs": [],
   "source": [
    "from sklearn.tree import DecisionTreeClassifier"
   ]
  },
  {
   "cell_type": "code",
   "execution_count": 28,
   "metadata": {},
   "outputs": [],
   "source": [
    "tree_clf = DecisionTreeClassifier(max_depth=8, random_state=13) #Decsion Tree"
   ]
  },
  {
   "cell_type": "code",
   "execution_count": 29,
   "metadata": {},
   "outputs": [
    {
     "name": "stdout",
     "output_type": "stream",
     "text": [
      "Scroe : 0.73125\n"
     ]
    }
   ],
   "source": [
    "tree_clf.fit(x_train, y_train) #디씨션 트리로 학습\n",
    "print('Scroe :', format(tree_clf.score(x_train,y_train))) #트리 정확도는 0.723"
   ]
  },
  {
   "cell_type": "code",
   "execution_count": 30,
   "metadata": {},
   "outputs": [],
   "source": [
    "scores_tree = cross_val_score(tree_clf, x_train, y_train, cv= 10) #교차검증 10개 하였을때?"
   ]
  },
  {
   "cell_type": "code",
   "execution_count": 31,
   "metadata": {},
   "outputs": [
    {
     "data": {
      "text/plain": [
       "array([0.3875, 0.4625, 0.425 , 0.4625, 0.3875, 0.45  , 0.35  , 0.4375,\n",
       "       0.45  , 0.4125])"
      ]
     },
     "execution_count": 31,
     "metadata": {},
     "output_type": "execute_result"
    }
   ],
   "source": [
    "scores_tree"
   ]
  },
  {
   "cell_type": "code",
   "execution_count": 32,
   "metadata": {},
   "outputs": [
    {
     "data": {
      "text/plain": [
       "0.4225"
      ]
     },
     "execution_count": 32,
     "metadata": {},
     "output_type": "execute_result"
    }
   ],
   "source": [
    "scores_tree.mean() #트리모델 정답 평균"
   ]
  },
  {
   "cell_type": "markdown",
   "metadata": {},
   "source": [
    "## 4. Random Forest"
   ]
  },
  {
   "cell_type": "code",
   "execution_count": 33,
   "metadata": {},
   "outputs": [],
   "source": [
    "from sklearn.ensemble import RandomForestClassifier"
   ]
  },
  {
   "cell_type": "code",
   "execution_count": 34,
   "metadata": {},
   "outputs": [],
   "source": [
    "clf_rf = RandomForestClassifier()"
   ]
  },
  {
   "cell_type": "code",
   "execution_count": 35,
   "metadata": {},
   "outputs": [
    {
     "data": {
      "text/plain": [
       "RandomForestClassifier(bootstrap=True, ccp_alpha=0.0, class_weight=None,\n",
       "                       criterion='gini', max_depth=None, max_features='auto',\n",
       "                       max_leaf_nodes=None, max_samples=None,\n",
       "                       min_impurity_decrease=0.0, min_impurity_split=None,\n",
       "                       min_samples_leaf=1, min_samples_split=2,\n",
       "                       min_weight_fraction_leaf=0.0, n_estimators=100,\n",
       "                       n_jobs=None, oob_score=False, random_state=None,\n",
       "                       verbose=0, warm_start=False)"
      ]
     },
     "execution_count": 35,
     "metadata": {},
     "output_type": "execute_result"
    }
   ],
   "source": [
    "clf_rf.fit(x_train,y_train)"
   ]
  },
  {
   "cell_type": "code",
   "execution_count": 36,
   "metadata": {},
   "outputs": [],
   "source": [
    "scores_rf = cross_val_score(clf_rf, x_train, y_train, cv= 10) #교차검증 10개 하였을때?"
   ]
  },
  {
   "cell_type": "code",
   "execution_count": 37,
   "metadata": {},
   "outputs": [
    {
     "data": {
      "text/plain": [
       "array([0.575 , 0.575 , 0.5625, 0.55  , 0.4625, 0.55  , 0.5   , 0.5625,\n",
       "       0.5125, 0.525 ])"
      ]
     },
     "execution_count": 37,
     "metadata": {},
     "output_type": "execute_result"
    }
   ],
   "source": [
    "scores_rf"
   ]
  },
  {
   "cell_type": "code",
   "execution_count": 38,
   "metadata": {},
   "outputs": [
    {
     "data": {
      "text/plain": [
       "0.5375000000000001"
      ]
     },
     "execution_count": 38,
     "metadata": {},
     "output_type": "execute_result"
    }
   ],
   "source": [
    "scores_rf.mean() #RF 모델"
   ]
  },
  {
   "cell_type": "markdown",
   "metadata": {},
   "source": [
    "#### CV=10 으로 하였을땐, RF 모델이 제일 분류화 예측을 잘하는 것 같다."
   ]
  },
  {
   "cell_type": "markdown",
   "metadata": {},
   "source": [
    "## 5. Grid Search를 활용하여 분류 최적화 방법 선정"
   ]
  },
  {
   "cell_type": "code",
   "execution_count": 53,
   "metadata": {},
   "outputs": [],
   "source": [
    "from sklearn.model_selection import KFold, GridSearchCV"
   ]
  },
  {
   "cell_type": "code",
   "execution_count": 54,
   "metadata": {},
   "outputs": [],
   "source": [
    "kfold = KFold(n_splits=5, shuffle=True, random_state=0) # n_splits 는 데이터 분할 수 입니다. 전체 데이터 수를 넘을 수 없습니다."
   ]
  },
  {
   "cell_type": "code",
   "execution_count": 55,
   "metadata": {},
   "outputs": [],
   "source": [
    "values = [0.0001, 0.01, 0.1, 1, 10, 100] #c, gamma 를 하이퍼 파라미터로 조정 할 예정, values(list) 만큼"
   ]
  },
  {
   "cell_type": "code",
   "execution_count": 56,
   "metadata": {},
   "outputs": [],
   "source": [
    "#RBF 또는 Linear \n",
    "#RBF 방법과 Linear 방법 둘 다 씀, Kernel 은 프로그래밍의 핵심!, C와 Gamma 에 Values 의 리스트를 넣어, 6x6 방식만큼 경우의 수로 \n",
    "#트레인 데이터 샘플을 나누어 학습하겠다.\n",
    "\n",
    "param_grid = [\n",
    "    {'kernel' : ['rbf'], 'C':values, 'gamma' : values},\n",
    "    {'kernel' : ['linear'], 'C': values }\n",
    "]"
   ]
  },
  {
   "cell_type": "code",
   "execution_count": 57,
   "metadata": {},
   "outputs": [],
   "source": [
    "grid_search_svc = GridSearchCV(svc, param_grid, cv=kfold) #cv= Cross_validation는 K-Fold 방식(데이터를 분할한것)"
   ]
  },
  {
   "cell_type": "markdown",
   "metadata": {},
   "source": [
    "## K-fold 방식과 Grid Search를 활용하여, svc 모델의 하이퍼 파라미터를 재조정하고\n",
    "## 정확도를 최적화해봄"
   ]
  },
  {
   "cell_type": "code",
   "execution_count": 58,
   "metadata": {},
   "outputs": [
    {
     "data": {
      "text/plain": [
       "GridSearchCV(cv=KFold(n_splits=5, random_state=0, shuffle=True),\n",
       "             error_score=nan,\n",
       "             estimator=SVC(C=1.0, break_ties=False, cache_size=200,\n",
       "                           class_weight=None, coef0=0.0,\n",
       "                           decision_function_shape='ovr', degree=3,\n",
       "                           gamma='scale', kernel='rbf', max_iter=-1,\n",
       "                           probability=False, random_state=None, shrinking=True,\n",
       "                           tol=0.001, verbose=False),\n",
       "             iid='deprecated', n_jobs=None,\n",
       "             param_grid=[{'C': [0.0001, 0.01, 0.1, 1, 10, 100],\n",
       "                          'gamma': [0.0001, 0.01, 0.1, 1, 10, 100],\n",
       "                          'kernel': ['rbf']},\n",
       "                         {'C': [0.0001, 0.01, 0.1, 1, 10, 100],\n",
       "                          'kernel': ['linear']}],\n",
       "             pre_dispatch='2*n_jobs', refit=True, return_train_score=False,\n",
       "             scoring=None, verbose=0)"
      ]
     },
     "execution_count": 58,
     "metadata": {},
     "output_type": "execute_result"
    }
   ],
   "source": [
    "grid_search_svc"
   ]
  },
  {
   "cell_type": "code",
   "execution_count": 59,
   "metadata": {},
   "outputs": [],
   "source": [
    "# grid_search_svc.fit(x_train, y_train)\n",
    "#grid_search_svc 는 하이퍼 파라미터가 재 조정된 모델 / 재학습\n",
    "#gird_search 해당 모델은 너무 오래걸려서 중지함"
   ]
  },
  {
   "cell_type": "markdown",
   "metadata": {},
   "source": [
    "## cv = 10 으로해서 제일 높았던 정확도를 보인 RF로, 최적의 파라미터(Grid_Search)와 K-fold 를 통해 학습함"
   ]
  },
  {
   "cell_type": "code",
   "execution_count": 60,
   "metadata": {},
   "outputs": [],
   "source": [
    "params_rf = [\n",
    "    {\"n_estimators\": [10, 20, 30, 40, 50], \"max_depth\": [3, 5, 7, 9, None], \"max_features\": [3, 4, 5, None]}\n",
    "]\n",
    "#Rf 파라미터"
   ]
  },
  {
   "cell_type": "code",
   "execution_count": 61,
   "metadata": {},
   "outputs": [],
   "source": [
    "# 각각의 분류기에 대한 최적 파라미터 찾기\n",
    "#clf = GridSearchCV(SVC(), params, n_jobs=-1) #n_jobs CPU가 다쓸것인가 선택해줄것인가. 다쓰렴 -> -1\n",
    "clf_rf = GridSearchCV(RandomForestClassifier(), params_rf, n_jobs=-1)"
   ]
  },
  {
   "cell_type": "code",
   "execution_count": 62,
   "metadata": {},
   "outputs": [
    {
     "data": {
      "text/plain": [
       "GridSearchCV(cv=None, error_score=nan,\n",
       "             estimator=RandomForestClassifier(bootstrap=True, ccp_alpha=0.0,\n",
       "                                              class_weight=None,\n",
       "                                              criterion='gini', max_depth=None,\n",
       "                                              max_features='auto',\n",
       "                                              max_leaf_nodes=None,\n",
       "                                              max_samples=None,\n",
       "                                              min_impurity_decrease=0.0,\n",
       "                                              min_impurity_split=None,\n",
       "                                              min_samples_leaf=1,\n",
       "                                              min_samples_split=2,\n",
       "                                              min_weight_fraction_leaf=0.0,\n",
       "                                              n_estimators=100, n_jobs=None,\n",
       "                                              oob_score=False,\n",
       "                                              random_state=None, verbose=0,\n",
       "                                              warm_start=False),\n",
       "             iid='deprecated', n_jobs=-1,\n",
       "             param_grid=[{'max_depth': [3, 5, 7, 9, None],\n",
       "                          'max_features': [3, 4, 5, None],\n",
       "                          'n_estimators': [10, 20, 30, 40, 50]}],\n",
       "             pre_dispatch='2*n_jobs', refit=True, return_train_score=False,\n",
       "             scoring=None, verbose=0)"
      ]
     },
     "execution_count": 62,
     "metadata": {},
     "output_type": "execute_result"
    }
   ],
   "source": [
    "clf_rf"
   ]
  },
  {
   "cell_type": "code",
   "execution_count": 63,
   "metadata": {},
   "outputs": [
    {
     "data": {
      "text/plain": [
       "RandomForestClassifier(bootstrap=True, ccp_alpha=0.0, class_weight=None,\n",
       "                       criterion='gini', max_depth=None, max_features='auto',\n",
       "                       max_leaf_nodes=None, max_samples=None,\n",
       "                       min_impurity_decrease=0.0, min_impurity_split=None,\n",
       "                       min_samples_leaf=1, min_samples_split=2,\n",
       "                       min_weight_fraction_leaf=0.0, n_estimators=100,\n",
       "                       n_jobs=None, oob_score=False, random_state=None,\n",
       "                       verbose=0, warm_start=False)"
      ]
     },
     "execution_count": 63,
     "metadata": {},
     "output_type": "execute_result"
    }
   ],
   "source": [
    "# 최적 랜덤포레스트 분류기\n",
    "clf_rf.estimator"
   ]
  },
  {
   "cell_type": "code",
   "execution_count": 68,
   "metadata": {},
   "outputs": [],
   "source": [
    "# 정확성 검증을 위한 라이브러리\n",
    "from sklearn.metrics import accuracy_score"
   ]
  },
  {
   "cell_type": "code",
   "execution_count": 69,
   "metadata": {},
   "outputs": [
    {
     "data": {
      "text/plain": [
       "{'max_depth': 9, 'max_features': 4, 'n_estimators': 50}"
      ]
     },
     "execution_count": 69,
     "metadata": {},
     "output_type": "execute_result"
    }
   ],
   "source": [
    "clf_rf.best_params_ \n",
    "#위의 RF(랜덤포레스트) 가장 최적화된 하이퍼 파라미터는 depth 9, features 5, 분류기 40개인듯"
   ]
  },
  {
   "cell_type": "code",
   "execution_count": 70,
   "metadata": {},
   "outputs": [
    {
     "data": {
      "text/plain": [
       "0.54625"
      ]
     },
     "execution_count": 70,
     "metadata": {},
     "output_type": "execute_result"
    }
   ],
   "source": [
    "clf_rf.best_score_\n",
    "#정확도 53% 예측 모델(테스트 데이터로 학습)"
   ]
  },
  {
   "cell_type": "code",
   "execution_count": 71,
   "metadata": {},
   "outputs": [
    {
     "data": {
      "text/plain": [
       "GridSearchCV(cv=None, error_score=nan,\n",
       "             estimator=RandomForestClassifier(bootstrap=True, ccp_alpha=0.0,\n",
       "                                              class_weight=None,\n",
       "                                              criterion='gini', max_depth=None,\n",
       "                                              max_features='auto',\n",
       "                                              max_leaf_nodes=None,\n",
       "                                              max_samples=None,\n",
       "                                              min_impurity_decrease=0.0,\n",
       "                                              min_impurity_split=None,\n",
       "                                              min_samples_leaf=1,\n",
       "                                              min_samples_split=2,\n",
       "                                              min_weight_fraction_leaf=0.0,\n",
       "                                              n_estimators=100, n_jobs=None,\n",
       "                                              oob_score=False,\n",
       "                                              random_state=None, verbose=0,\n",
       "                                              warm_start=False),\n",
       "             iid='deprecated', n_jobs=-1,\n",
       "             param_grid=[{'max_depth': [3, 5, 7, 9, None],\n",
       "                          'max_features': [3, 4, 5, None],\n",
       "                          'n_estimators': [10, 20, 30, 40, 50]}],\n",
       "             pre_dispatch='2*n_jobs', refit=True, return_train_score=False,\n",
       "             scoring=None, verbose=0)"
      ]
     },
     "execution_count": 71,
     "metadata": {},
     "output_type": "execute_result"
    }
   ],
   "source": [
    "# Random Forest 학습시켜서 모델 생성\n",
    "clf_rf.fit(x_train, y_train)"
   ]
  },
  {
   "cell_type": "code",
   "execution_count": 72,
   "metadata": {},
   "outputs": [],
   "source": [
    "# 예측하기\n",
    "y_pred = clf_rf.predict(x_test)"
   ]
  },
  {
   "cell_type": "code",
   "execution_count": 73,
   "metadata": {},
   "outputs": [],
   "source": [
    "# 정확성 검증을 위한 라이브러리\n",
    "from sklearn.metrics import accuracy_score"
   ]
  },
  {
   "cell_type": "code",
   "execution_count": 74,
   "metadata": {},
   "outputs": [
    {
     "name": "stdout",
     "output_type": "stream",
     "text": [
      "정답률  0.515\n"
     ]
    }
   ],
   "source": [
    "print('정답률 ', accuracy_score(y_test, y_pred))\n",
    "#실제데이터를 넣은 정확도는 50% 정도이다"
   ]
  },
  {
   "cell_type": "markdown",
   "metadata": {},
   "source": [
    "## 6.  정확도, 재현율  f1 score"
   ]
  },
  {
   "cell_type": "code",
   "execution_count": 75,
   "metadata": {},
   "outputs": [],
   "source": [
    "# 검정 작업을 위한 라이브러리\n",
    "from sklearn.metrics import classification_report"
   ]
  },
  {
   "cell_type": "code",
   "execution_count": 76,
   "metadata": {},
   "outputs": [
    {
     "name": "stdout",
     "output_type": "stream",
     "text": [
      "              precision    recall  f1-score   support\n",
      "\n",
      "       blues       0.69      0.46      0.55        24\n",
      "   classical       0.86      0.79      0.83        24\n",
      "     country       0.36      0.56      0.43        18\n",
      "       disco       0.38      0.50      0.43        22\n",
      "      hiphop       0.42      0.44      0.43        18\n",
      "        jazz       0.33      0.50      0.40        12\n",
      "       metal       0.82      0.82      0.82        17\n",
      "         pop       0.63      0.55      0.59        22\n",
      "      reggae       0.47      0.50      0.49        18\n",
      "        rock       0.23      0.12      0.16        25\n",
      "\n",
      "    accuracy                           0.52       200\n",
      "   macro avg       0.52      0.52      0.51       200\n",
      "weighted avg       0.53      0.52      0.51       200\n",
      "\n"
     ]
    }
   ],
   "source": [
    "# 검정 결과 프린트\n",
    "print(classification_report(y_test, y_pred))"
   ]
  },
  {
   "cell_type": "markdown",
   "metadata": {},
   "source": [
    "#### classic 음악에 대해서 precision은 80% 예측 정확률이 높다. f1-score 또한 72%로 높은 편.\n",
    "#### rf 모델로 클래식 특징의 피처(템포, 음 스펙트럼) 등으로 예측을 했을경우 클래식에 대한 정답률은 신뢰성을 가질 수 있다.\n",
    "#### metal(=rock 음악중에서도 템포가 빠르고, 전자음이나 강한 음악 악기사용이 짙은 것)도 70%로 높은 f1-score를 가진다.\n",
    "#### 이는, 다른장르에 비해 클래식(=낮은템포와 악기의 사용)이 일반적 장르(Pop이나 hiphop) 에 비해 확연한 특징을 가지기 때문일 수도 있다.\n",
    "#### 메탈 또한, 다른 음악 장르와 비교하여 고유한 음악적 특성이 존재하기 때문임.\n",
    "#### 만약, 위의 RF 모델로 어떤 음악을 들려주고 맞추도록 한다면, 클래식>메탈>pop 등은 classifcation(분류) 가 높다."
   ]
  },
  {
   "cell_type": "code",
   "execution_count": 77,
   "metadata": {},
   "outputs": [
    {
     "data": {
      "text/plain": [
       "array([[0.31772537, 0.06736681, 0.09905163, 0.07002429, 0.01475744,\n",
       "        0.04019062, 0.09718817, 0.07603335, 0.02931071, 0.18835161]])"
      ]
     },
     "execution_count": 77,
     "metadata": {},
     "output_type": "execute_result"
    }
   ],
   "source": [
    "# 7. 피처로 음악 장르 예측해보기  /  revenue, debt, netasset, surplus\n",
    "# 해당 파라미터는 music table의 1번 로우인 blues 와 동일하게 넣어봄(테스트)\n",
    "# blues의 특징과 동일함\n",
    "blues = [103.359375, 50, 0.380260, 0.248262, 2116.942959, 1956.611056, 4196.107960, 0.127272, 26.929785]\n",
    "clf_rf.predict_proba([blues])"
   ]
  },
  {
   "cell_type": "code",
   "execution_count": 81,
   "metadata": {},
   "outputs": [
    {
     "data": {
      "text/plain": [
       "0      blues\n",
       "1      blues\n",
       "2      blues\n",
       "3      blues\n",
       "4      blues\n",
       "       ...  \n",
       "995     rock\n",
       "996     rock\n",
       "997     rock\n",
       "998     rock\n",
       "999     rock\n",
       "Name: label, Length: 1000, dtype: object"
      ]
     },
     "execution_count": 81,
     "metadata": {},
     "output_type": "execute_result"
    }
   ],
   "source": [
    "y"
   ]
  },
  {
   "cell_type": "code",
   "execution_count": null,
   "metadata": {},
   "outputs": [],
   "source": []
  }
 ],
 "metadata": {
  "kernelspec": {
   "display_name": "Python 3",
   "language": "python",
   "name": "python3"
  },
  "language_info": {
   "codemirror_mode": {
    "name": "ipython",
    "version": 3
   },
   "file_extension": ".py",
   "mimetype": "text/x-python",
   "name": "python",
   "nbconvert_exporter": "python",
   "pygments_lexer": "ipython3",
   "version": "3.7.6"
  }
 },
 "nbformat": 4,
 "nbformat_minor": 4
}
