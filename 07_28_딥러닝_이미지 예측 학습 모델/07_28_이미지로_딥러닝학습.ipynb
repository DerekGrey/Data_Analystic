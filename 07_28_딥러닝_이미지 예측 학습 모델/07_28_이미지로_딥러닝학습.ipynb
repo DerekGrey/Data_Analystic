{
  "nbformat": 4,
  "nbformat_minor": 0,
  "metadata": {
    "colab": {
      "name": "07_28_이미지로_딥러닝학습.ipynb",
      "provenance": [],
      "collapsed_sections": []
    },
    "kernelspec": {
      "name": "python3",
      "display_name": "Python 3"
    }
  },
  "cells": [
    {
      "cell_type": "code",
      "metadata": {
        "id": "1LMK9Q-wTo0D",
        "colab_type": "code",
        "colab": {}
      },
      "source": [
        "import numpy as np\n",
        "import random\n",
        "import tensorflow as tf\n",
        "import matplotlib.pylab as plt\n",
        "from keras.models import Sequential #Sequential 딥러닝 뉴런 레이어를 쌓기 위한, 큰 프레임을 만들기 위한 'Sequential 틀 객체'\n",
        "from keras.layers.core import Dense, Dropout, Activation\n",
        "#레이어 넣어줄 수 있는 Dense 임포팅\n",
        "#Dropout 객체는 오버피팅을 피하기 위한 '가지치기' 객체임\n",
        "#Activation : 각 레이어마다, 다음 레이어에 값과 가중치를 함께 정리해서 넘겨야 한다."
      ],
      "execution_count": 5,
      "outputs": []
    },
    {
      "cell_type": "code",
      "metadata": {
        "id": "l_ZvI9lCTvTq",
        "colab_type": "code",
        "colab": {}
      },
      "source": [
        "mnist = tf.keras.datasets.mnist\n",
        "#iris = tf.keras.datasets.\n",
        "#이미지 데이터 가져옴"
      ],
      "execution_count": 3,
      "outputs": []
    },
    {
      "cell_type": "code",
      "metadata": {
        "id": "0SFvmatiUD4N",
        "colab_type": "code",
        "colab": {
          "base_uri": "https://localhost:8080/",
          "height": 34
        },
        "outputId": "8c70d514-c32e-4688-9285-74e5960fe9a0"
      },
      "source": [
        "mnist #이미지 데이터 객체"
      ],
      "execution_count": 4,
      "outputs": [
        {
          "output_type": "execute_result",
          "data": {
            "text/plain": [
              "<module 'tensorflow.keras.datasets.mnist' from '/usr/local/lib/python3.6/dist-packages/tensorflow/keras/datasets/mnist/__init__.py'>"
            ]
          },
          "metadata": {
            "tags": []
          },
          "execution_count": 4
        }
      ]
    },
    {
      "cell_type": "code",
      "metadata": {
        "id": "hM3a8tfUUFcq",
        "colab_type": "code",
        "colab": {
          "base_uri": "https://localhost:8080/",
          "height": 52
        },
        "outputId": "4a74eced-431f-46f5-89ef-7c35b4920d6e"
      },
      "source": [
        "(X_train0, y_train0), (X_test0, y_test0) = mnist.load_data() #데이터를 불러와서 8대 2로 넣음"
      ],
      "execution_count": 6,
      "outputs": [
        {
          "output_type": "stream",
          "text": [
            "Downloading data from https://storage.googleapis.com/tensorflow/tf-keras-datasets/mnist.npz\n",
            "11493376/11490434 [==============================] - 0s 0us/step\n"
          ],
          "name": "stdout"
        }
      ]
    },
    {
      "cell_type": "code",
      "metadata": {
        "id": "X4TcTNb4UKYC",
        "colab_type": "code",
        "colab": {
          "base_uri": "https://localhost:8080/",
          "height": 879
        },
        "outputId": "5c454166-9eec-4041-d9e5-558d2f1a876f"
      },
      "source": [
        "X_train0 #이미지 데이터 -> 2차원 배열로 만들어놓고 -> 다시 1차원 배열로 만들어 인식시킨다.\n",
        "#이미지는 원래 2차원 배열로 구성되어 있다.\n",
        "#근데, 학습시킬때는 이 2차원 배열을 전부 1차원으로 만들어서 원핫인코딩(0,1)로서 만듦\n",
        "#1은 색상이 있는 것인데, 이걸로 색상의 타입을 구분한다."
      ],
      "execution_count": 7,
      "outputs": [
        {
          "output_type": "execute_result",
          "data": {
            "text/plain": [
              "array([[[0, 0, 0, ..., 0, 0, 0],\n",
              "        [0, 0, 0, ..., 0, 0, 0],\n",
              "        [0, 0, 0, ..., 0, 0, 0],\n",
              "        ...,\n",
              "        [0, 0, 0, ..., 0, 0, 0],\n",
              "        [0, 0, 0, ..., 0, 0, 0],\n",
              "        [0, 0, 0, ..., 0, 0, 0]],\n",
              "\n",
              "       [[0, 0, 0, ..., 0, 0, 0],\n",
              "        [0, 0, 0, ..., 0, 0, 0],\n",
              "        [0, 0, 0, ..., 0, 0, 0],\n",
              "        ...,\n",
              "        [0, 0, 0, ..., 0, 0, 0],\n",
              "        [0, 0, 0, ..., 0, 0, 0],\n",
              "        [0, 0, 0, ..., 0, 0, 0]],\n",
              "\n",
              "       [[0, 0, 0, ..., 0, 0, 0],\n",
              "        [0, 0, 0, ..., 0, 0, 0],\n",
              "        [0, 0, 0, ..., 0, 0, 0],\n",
              "        ...,\n",
              "        [0, 0, 0, ..., 0, 0, 0],\n",
              "        [0, 0, 0, ..., 0, 0, 0],\n",
              "        [0, 0, 0, ..., 0, 0, 0]],\n",
              "\n",
              "       ...,\n",
              "\n",
              "       [[0, 0, 0, ..., 0, 0, 0],\n",
              "        [0, 0, 0, ..., 0, 0, 0],\n",
              "        [0, 0, 0, ..., 0, 0, 0],\n",
              "        ...,\n",
              "        [0, 0, 0, ..., 0, 0, 0],\n",
              "        [0, 0, 0, ..., 0, 0, 0],\n",
              "        [0, 0, 0, ..., 0, 0, 0]],\n",
              "\n",
              "       [[0, 0, 0, ..., 0, 0, 0],\n",
              "        [0, 0, 0, ..., 0, 0, 0],\n",
              "        [0, 0, 0, ..., 0, 0, 0],\n",
              "        ...,\n",
              "        [0, 0, 0, ..., 0, 0, 0],\n",
              "        [0, 0, 0, ..., 0, 0, 0],\n",
              "        [0, 0, 0, ..., 0, 0, 0]],\n",
              "\n",
              "       [[0, 0, 0, ..., 0, 0, 0],\n",
              "        [0, 0, 0, ..., 0, 0, 0],\n",
              "        [0, 0, 0, ..., 0, 0, 0],\n",
              "        ...,\n",
              "        [0, 0, 0, ..., 0, 0, 0],\n",
              "        [0, 0, 0, ..., 0, 0, 0],\n",
              "        [0, 0, 0, ..., 0, 0, 0]]], dtype=uint8)"
            ]
          },
          "metadata": {
            "tags": []
          },
          "execution_count": 7
        }
      ]
    },
    {
      "cell_type": "code",
      "metadata": {
        "id": "Kr-YS359UXtS",
        "colab_type": "code",
        "colab": {
          "base_uri": "https://localhost:8080/",
          "height": 34
        },
        "outputId": "8ebb1db4-c1ca-4398-a026-fa428e0cc666"
      },
      "source": [
        "y_train0 #트레인 데이터의 레이블"
      ],
      "execution_count": 9,
      "outputs": [
        {
          "output_type": "execute_result",
          "data": {
            "text/plain": [
              "array([5, 0, 4, ..., 5, 6, 8], dtype=uint8)"
            ]
          },
          "metadata": {
            "tags": []
          },
          "execution_count": 9
        }
      ]
    },
    {
      "cell_type": "code",
      "metadata": {
        "id": "PivTZet-UfoB",
        "colab_type": "code",
        "colab": {
          "base_uri": "https://localhost:8080/",
          "height": 85
        },
        "outputId": "03bfe148-7e0b-4474-f28f-a83a1b70e94c"
      },
      "source": [
        "plt.figure(figsize=(6,1))\n",
        "for i in range(36):\n",
        "   plt.subplot(3,12, i+1)\n",
        "   plt.imshow(X_train0[i], cmap='gray') #colormap = gray\n",
        "   plt.axis('off')\n",
        "plt.show()\n",
        "#트레인 데이터 안에 들어가 있는 애들-> 그림으로 이미지화"
      ],
      "execution_count": 10,
      "outputs": [
        {
          "output_type": "display_data",
          "data": {
            "image/png": "[encoded data removed]",
            "text/plain": [
              "<Figure size 432x72 with 36 Axes>"
            ]
          },
          "metadata": {
            "tags": [],
            "needs_background": "light"
          }
        }
      ]
    },
    {
      "cell_type": "code",
      "metadata": {
        "id": "ueI8IbTDUp9t",
        "colab_type": "code",
        "colab": {
          "base_uri": "https://localhost:8080/",
          "height": 879
        },
        "outputId": "aaf7ecdf-4721-4db2-c9f0-6c136a1dd5b6"
      },
      "source": [
        "#2차원 데이터를 1차원으로 만들어 넣어주는 함수가 있음 / 이미지는 2차원되어 있는걸 1차원으로 읽겠금 해서 컴퓨터가 읽음\n",
        "X_train0"
      ],
      "execution_count": 13,
      "outputs": [
        {
          "output_type": "execute_result",
          "data": {
            "text/plain": [
              "array([[[0, 0, 0, ..., 0, 0, 0],\n",
              "        [0, 0, 0, ..., 0, 0, 0],\n",
              "        [0, 0, 0, ..., 0, 0, 0],\n",
              "        ...,\n",
              "        [0, 0, 0, ..., 0, 0, 0],\n",
              "        [0, 0, 0, ..., 0, 0, 0],\n",
              "        [0, 0, 0, ..., 0, 0, 0]],\n",
              "\n",
              "       [[0, 0, 0, ..., 0, 0, 0],\n",
              "        [0, 0, 0, ..., 0, 0, 0],\n",
              "        [0, 0, 0, ..., 0, 0, 0],\n",
              "        ...,\n",
              "        [0, 0, 0, ..., 0, 0, 0],\n",
              "        [0, 0, 0, ..., 0, 0, 0],\n",
              "        [0, 0, 0, ..., 0, 0, 0]],\n",
              "\n",
              "       [[0, 0, 0, ..., 0, 0, 0],\n",
              "        [0, 0, 0, ..., 0, 0, 0],\n",
              "        [0, 0, 0, ..., 0, 0, 0],\n",
              "        ...,\n",
              "        [0, 0, 0, ..., 0, 0, 0],\n",
              "        [0, 0, 0, ..., 0, 0, 0],\n",
              "        [0, 0, 0, ..., 0, 0, 0]],\n",
              "\n",
              "       ...,\n",
              "\n",
              "       [[0, 0, 0, ..., 0, 0, 0],\n",
              "        [0, 0, 0, ..., 0, 0, 0],\n",
              "        [0, 0, 0, ..., 0, 0, 0],\n",
              "        ...,\n",
              "        [0, 0, 0, ..., 0, 0, 0],\n",
              "        [0, 0, 0, ..., 0, 0, 0],\n",
              "        [0, 0, 0, ..., 0, 0, 0]],\n",
              "\n",
              "       [[0, 0, 0, ..., 0, 0, 0],\n",
              "        [0, 0, 0, ..., 0, 0, 0],\n",
              "        [0, 0, 0, ..., 0, 0, 0],\n",
              "        ...,\n",
              "        [0, 0, 0, ..., 0, 0, 0],\n",
              "        [0, 0, 0, ..., 0, 0, 0],\n",
              "        [0, 0, 0, ..., 0, 0, 0]],\n",
              "\n",
              "       [[0, 0, 0, ..., 0, 0, 0],\n",
              "        [0, 0, 0, ..., 0, 0, 0],\n",
              "        [0, 0, 0, ..., 0, 0, 0],\n",
              "        ...,\n",
              "        [0, 0, 0, ..., 0, 0, 0],\n",
              "        [0, 0, 0, ..., 0, 0, 0],\n",
              "        [0, 0, 0, ..., 0, 0, 0]]], dtype=uint8)"
            ]
          },
          "metadata": {
            "tags": []
          },
          "execution_count": 13
        }
      ]
    },
    {
      "cell_type": "code",
      "metadata": {
        "id": "_8tCQhYPUvw4",
        "colab_type": "code",
        "colab": {
          "base_uri": "https://localhost:8080/",
          "height": 140
        },
        "outputId": "e6e58481-c49f-45a0-83e4-d9019947324f"
      },
      "source": [
        "X_train = X_train0.reshape(60000, 784).astype('float32')/255.0 #일렬로 쭉 만들어줌\n",
        "#28x28 짜리 = 784로 만듦\n",
        "X_train #1차원 배열로 만들어놓음"
      ],
      "execution_count": 16,
      "outputs": [
        {
          "output_type": "execute_result",
          "data": {
            "text/plain": [
              "array([[0., 0., 0., ..., 0., 0., 0.],\n",
              "       [0., 0., 0., ..., 0., 0., 0.],\n",
              "       [0., 0., 0., ..., 0., 0., 0.],\n",
              "       ...,\n",
              "       [0., 0., 0., ..., 0., 0., 0.],\n",
              "       [0., 0., 0., ..., 0., 0., 0.],\n",
              "       [0., 0., 0., ..., 0., 0., 0.]], dtype=float32)"
            ]
          },
          "metadata": {
            "tags": []
          },
          "execution_count": 16
        }
      ]
    },
    {
      "cell_type": "code",
      "metadata": {
        "id": "UfbuD0ouU21K",
        "colab_type": "code",
        "colab": {}
      },
      "source": [
        "X_test = X_test0.reshape(10000, 784).astype('float32')/255.0 #일렬로 쭉 만들어줌"
      ],
      "execution_count": 17,
      "outputs": []
    },
    {
      "cell_type": "code",
      "metadata": {
        "id": "vLRjEHGzVHs1",
        "colab_type": "code",
        "colab": {}
      },
      "source": [
        "#범주형은 one-hot 인코딩으로 각 카테고리별 항목을 만들어, 해당하는 항목에 표시하는 형식으로 0,1로 구분하여줌.\n",
        "#1은 해당항목에 속한다는 뜻이고, \n",
        "#0은 해당항목에 속하지 않는다는 뜻이다.\n",
        "#원핫인코딩 : keras(to_categorical()) "
      ],
      "execution_count": 18,
      "outputs": []
    },
    {
      "cell_type": "code",
      "metadata": {
        "id": "HdPqxpG5VNli",
        "colab_type": "code",
        "colab": {}
      },
      "source": [
        "from tensorflow.keras.utils import to_categorical"
      ],
      "execution_count": 19,
      "outputs": []
    },
    {
      "cell_type": "code",
      "metadata": {
        "id": "mEptIlPLVOkx",
        "colab_type": "code",
        "colab": {
          "base_uri": "https://localhost:8080/",
          "height": 34
        },
        "outputId": "5eb82d9a-a0fa-48ef-c943-c52c4e15fd2e"
      },
      "source": [
        "y_train0 #요런애들을 원핫인코딩으로 해줘야함"
      ],
      "execution_count": 20,
      "outputs": [
        {
          "output_type": "execute_result",
          "data": {
            "text/plain": [
              "array([5, 0, 4, ..., 5, 6, 8], dtype=uint8)"
            ]
          },
          "metadata": {
            "tags": []
          },
          "execution_count": 20
        }
      ]
    },
    {
      "cell_type": "code",
      "metadata": {
        "id": "-_fVGUSQVTyY",
        "colab_type": "code",
        "colab": {
          "base_uri": "https://localhost:8080/",
          "height": 105
        },
        "outputId": "d071ef0b-6ebb-459b-d363-5846329e4755"
      },
      "source": [
        "Y_train = to_categorical(y_train0, 10)\n",
        "Y_test = to_categorical(y_test0, 10)\n",
        "Y_train[0:5] #원핫인코딩임"
      ],
      "execution_count": 21,
      "outputs": [
        {
          "output_type": "execute_result",
          "data": {
            "text/plain": [
              "array([[0., 0., 0., 0., 0., 1., 0., 0., 0., 0.],\n",
              "       [1., 0., 0., 0., 0., 0., 0., 0., 0., 0.],\n",
              "       [0., 0., 0., 0., 1., 0., 0., 0., 0., 0.],\n",
              "       [0., 1., 0., 0., 0., 0., 0., 0., 0., 0.],\n",
              "       [0., 0., 0., 0., 0., 0., 0., 0., 0., 1.]], dtype=float32)"
            ]
          },
          "metadata": {
            "tags": []
          },
          "execution_count": 21
        }
      ]
    },
    {
      "cell_type": "code",
      "metadata": {
        "id": "ZsXlluTzVsjb",
        "colab_type": "code",
        "colab": {}
      },
      "source": [
        "model = Sequential() #딥러닝의 프레임 역할을 하는 객체\n"
      ],
      "execution_count": 22,
      "outputs": []
    },
    {
      "cell_type": "markdown",
      "metadata": {
        "id": "WC9xDMrXfYGi",
        "colab_type": "text"
      },
      "source": [
        "## 딥러닝 모델 구축(뉴런)"
      ]
    },
    {
      "cell_type": "code",
      "metadata": {
        "id": "hrsffRJ3XWgw",
        "colab_type": "code",
        "colab": {}
      },
      "source": [
        "#입력레이어\n",
        "model.add(Dense(512, input_shape=(784,))) #레이어를 넣어줌"
      ],
      "execution_count": 23,
      "outputs": []
    },
    {
      "cell_type": "code",
      "metadata": {
        "id": "U9ZUtekRXYo7",
        "colab_type": "code",
        "colab": {}
      },
      "source": [
        "model.add(Activation('relu')) #0일때는 이거고, 1일때는 이거고 배열들의 0과 1을 판단해서 뉴런 네트워크의 가중치를 판단하는 함수"
      ],
      "execution_count": 24,
      "outputs": []
    },
    {
      "cell_type": "code",
      "metadata": {
        "id": "djU_9H6iXcsZ",
        "colab_type": "code",
        "colab": {}
      },
      "source": [
        "model.add(Dropout(0.2)) #오버피팅을 방지하기 위해, 20%를 드랍시킨다."
      ],
      "execution_count": 25,
      "outputs": []
    },
    {
      "cell_type": "code",
      "metadata": {
        "id": "TxFYjpivXdqz",
        "colab_type": "code",
        "colab": {}
      },
      "source": [
        "#히든레이어\n",
        "model.add(Dense(512))\n",
        "\n",
        "model.add(Activation('relu'))\n",
        "\n",
        "model.add(Dropout(0.2))"
      ],
      "execution_count": 26,
      "outputs": []
    },
    {
      "cell_type": "code",
      "metadata": {
        "id": "s2I1m9P0XfLr",
        "colab_type": "code",
        "colab": {}
      },
      "source": [
        "#출력층\n",
        "model.add(Dense(10))\n",
        "model.add(Activation('softmax'))"
      ],
      "execution_count": 29,
      "outputs": []
    },
    {
      "cell_type": "code",
      "metadata": {
        "id": "gIc8iYITXnie",
        "colab_type": "code",
        "colab": {}
      },
      "source": [
        "from keras.optimizers import Adam #ADAM "
      ],
      "execution_count": 30,
      "outputs": []
    },
    {
      "cell_type": "code",
      "metadata": {
        "id": "vrkBscIMXhdG",
        "colab_type": "code",
        "colab": {}
      },
      "source": [
        "#위에는 학습을 하는것인데, compile중\n",
        "model.compile(loss='categorical_crossentropy',\n",
        "              optimizer=Adam(),\n",
        "              metrics=['accuracy']\n",
        "              ) #optimizer는 학습률 계산, Adam은 경사하강법에서 내려오는 방식임\n",
        "              #metrics는 행렬 -> Accuracy를 계속 계산해나가면서 학습하겠다."
      ],
      "execution_count": 31,
      "outputs": []
    },
    {
      "cell_type": "code",
      "metadata": {
        "id": "12qCz7ltXikF",
        "colab_type": "code",
        "colab": {
          "base_uri": "https://localhost:8080/",
          "height": 210
        },
        "outputId": "bcb28fb1-3f9d-4e6b-e2e0-2ae7687c40c7"
      },
      "source": [
        "#훈련하기\n",
        "hist = model.fit(X_train, Y_train,\n",
        "                 batch_size=128, #epoch가 훑을때마다, 100개마다 가중치를 더해준다는 의미이다. 아마 노드가 지나다니면서 학습할때, 하나씩마다 가중치를 평가하는것이 아니라, 100개마다 하는듯?\n",
        "                 epochs=5,\n",
        "                 verbose=1,\n",
        "                 validation_data=(X_test, Y_test))"
      ],
      "execution_count": 36,
      "outputs": [
        {
          "output_type": "stream",
          "text": [
            "Train on 60000 samples, validate on 10000 samples\n",
            "Epoch 1/5\n",
            "60000/60000 [==============================] - 9s 156us/step - loss: 0.5536 - accuracy: 0.7890 - val_loss: 0.5261 - val_accuracy: 0.7925\n",
            "Epoch 2/5\n",
            "60000/60000 [==============================] - 9s 153us/step - loss: 0.4620 - accuracy: 0.8529 - val_loss: 0.3790 - val_accuracy: 0.8851\n",
            "Epoch 3/5\n",
            "60000/60000 [==============================] - 9s 153us/step - loss: 0.3447 - accuracy: 0.8791 - val_loss: 0.3220 - val_accuracy: 0.8827\n",
            "Epoch 4/5\n",
            "60000/60000 [==============================] - 9s 154us/step - loss: 0.2997 - accuracy: 0.8803 - val_loss: 0.2928 - val_accuracy: 0.8793\n",
            "Epoch 5/5\n",
            "60000/60000 [==============================] - 9s 155us/step - loss: 0.2643 - accuracy: 0.8860 - val_loss: 0.2614 - val_accuracy: 0.8837\n"
          ],
          "name": "stdout"
        }
      ]
    },
    {
      "cell_type": "code",
      "metadata": {
        "id": "Ooay00TGY8mg",
        "colab_type": "code",
        "colab": {
          "base_uri": "https://localhost:8080/",
          "height": 34
        },
        "outputId": "63898beb-e966-4123-8681-5742125cd172"
      },
      "source": [
        "#테스트데이터로 정확도 판단\n",
        "score = model.evaluate(X_test, Y_test, verbose=1) #verbose는 0과 1 번에 따라 출력을 어떠헥 해줄것인가ㅏ, 출력양식"
      ],
      "execution_count": 39,
      "outputs": [
        {
          "output_type": "stream",
          "text": [
            "10000/10000 [==============================] - 1s 66us/step\n"
          ],
          "name": "stdout"
        }
      ]
    },
    {
      "cell_type": "code",
      "metadata": {
        "id": "ban3sOyxZNA_",
        "colab_type": "code",
        "colab": {
          "base_uri": "https://localhost:8080/",
          "height": 34
        },
        "outputId": "8762a16a-1d1e-416f-c173-2aa4a23b0d53"
      },
      "source": [
        "score\n",
        "#학습 모델(model) -> X_test를 넣었을때 Y_test 정답을 맞출 확률 88%, "
      ],
      "execution_count": 40,
      "outputs": [
        {
          "output_type": "execute_result",
          "data": {
            "text/plain": [
              "[0.26140864508152006, 0.8837000131607056]"
            ]
          },
          "metadata": {
            "tags": []
          },
          "execution_count": 40
        }
      ]
    },
    {
      "cell_type": "code",
      "metadata": {
        "id": "CQbMJVnPYFde",
        "colab_type": "code",
        "colab": {
          "base_uri": "https://localhost:8080/",
          "height": 281
        },
        "outputId": "531b575a-cf5b-4e2f-cc1f-52f4542c6960"
      },
      "source": [
        "plt.figure(figsize=(8,4))\n",
        "plt.subplot(1,2,1) #이 행에 끼겠다\n",
        "plt.plot(hist.history['loss'])\n",
        "plt.title('loss')\n",
        "\n",
        "plt.subplot(1,2,2)\n",
        "plt.plot(hist.history['accuracy'], '-b', label='training')\n",
        "plt.plot(hist.history['val_accuracy'], 'r:', label='validation') #\n",
        "plt.title('accuracy')\n",
        "plt.legend()\n",
        "plt.show()\n"
      ],
      "execution_count": 35,
      "outputs": [
        {
          "output_type": "display_data",
          "data": {
            "image/png": "[encoded data removed]",
            "text/plain": [
              "<Figure size 576x288 with 2 Axes>"
            ]
          },
          "metadata": {
            "tags": [],
            "needs_background": "light"
          }
        }
      ]
    },
    {
      "cell_type": "code",
      "metadata": {
        "id": "2SZLiPgqYqM-",
        "colab_type": "code",
        "colab": {
          "base_uri": "https://localhost:8080/",
          "height": 70
        },
        "outputId": "48cc72e6-8447-4a80-8269-a485bc769451"
      },
      "source": [
        "#모델을 사용하여예측해봄\n",
        "\n",
        "model.predict(X_test[:1, :])\n",
        "\n",
        "#0번부터 9번까지 될 확률을 뽑아준것임\n",
        "#이미지가 0~9번까지 지금 분류되어있잖아. "
      ],
      "execution_count": 41,
      "outputs": [
        {
          "output_type": "execute_result",
          "data": {
            "text/plain": [
              "array([[0.00518856, 0.00455821, 0.00489943, 0.00659735, 0.00502669,\n",
              "        0.00433899, 0.00364124, 0.95308876, 0.00437776, 0.00828288]],\n",
              "      dtype=float32)"
            ]
          },
          "metadata": {
            "tags": []
          },
          "execution_count": 41
        }
      ]
    },
    {
      "cell_type": "code",
      "metadata": {
        "id": "Yg9qzsclZZDW",
        "colab_type": "code",
        "colab": {
          "base_uri": "https://localhost:8080/",
          "height": 140
        },
        "outputId": "c56a5dca-58fa-4044-cd95-0a892359428c"
      },
      "source": [
        "X_test"
      ],
      "execution_count": 42,
      "outputs": [
        {
          "output_type": "execute_result",
          "data": {
            "text/plain": [
              "array([[0., 0., 0., ..., 0., 0., 0.],\n",
              "       [0., 0., 0., ..., 0., 0., 0.],\n",
              "       [0., 0., 0., ..., 0., 0., 0.],\n",
              "       ...,\n",
              "       [0., 0., 0., ..., 0., 0., 0.],\n",
              "       [0., 0., 0., ..., 0., 0., 0.],\n",
              "       [0., 0., 0., ..., 0., 0., 0.]], dtype=float32)"
            ]
          },
          "metadata": {
            "tags": []
          },
          "execution_count": 42
        }
      ]
    },
    {
      "cell_type": "code",
      "metadata": {
        "id": "KyO0saNrZe2K",
        "colab_type": "code",
        "colab": {
          "base_uri": "https://localhost:8080/",
          "height": 34
        },
        "outputId": "de136ee0-4ab8-4c8c-dbb0-14264df5567b"
      },
      "source": [
        "model.predict_classes(X_test[:1, :], verbose=0)"
      ],
      "execution_count": 43,
      "outputs": [
        {
          "output_type": "execute_result",
          "data": {
            "text/plain": [
              "array([7])"
            ]
          },
          "metadata": {
            "tags": []
          },
          "execution_count": 43
        }
      ]
    },
    {
      "cell_type": "code",
      "metadata": {
        "id": "fUm1YLqYZhI7",
        "colab_type": "code",
        "colab": {
          "base_uri": "https://localhost:8080/",
          "height": 85
        },
        "outputId": "c8a8e4f7-ef9a-4d3e-ce27-6b1619c50786"
      },
      "source": [
        "plt.figure(figsize=(1,1))\n",
        "plt.imshow(X_test0[0], cmap=plt.cm.bone_r) #이 행에 끼겠다\n",
        "plt.grid(False)\n",
        "plt.axis(\"off\")\n",
        "plt.show()"
      ],
      "execution_count": 44,
      "outputs": [
        {
          "output_type": "display_data",
          "data": {
            "image/png": "[encoded data removed]",
            "text/plain": [
              "<Figure size 72x72 with 1 Axes>"
            ]
          },
          "metadata": {
            "tags": [],
            "needs_background": "light"
          }
        }
      ]
    },
    {
      "cell_type": "code",
      "metadata": {
        "id": "YgpscQW0Ziuj",
        "colab_type": "code",
        "colab": {
          "base_uri": "https://localhost:8080/",
          "height": 545
        },
        "outputId": "8aaf555f-d1ca-463c-9b3f-a6fd51d884e6"
      },
      "source": [
        "import matplotlib.pyplot as plt\n",
        "# 학습 상태를 그래프로 그리기 --- (*7)\n",
        "plt.plot(hist.history['accuracy'])\n",
        "plt.plot(hist.history['val_accuracy'])\n",
        "plt.title('Accuracy')\n",
        "plt.legend(['train', 'test'], loc='upper left')\n",
        "plt.show()\n",
        "plt.plot(hist.history['loss'])\n",
        "plt.plot(hist.history['val_loss'])\n",
        "plt.title('Loss')\n",
        "plt.legend(['train', 'test'], loc='upper left')\n",
        "plt.show()"
      ],
      "execution_count": 45,
      "outputs": [
        {
          "output_type": "display_data",
          "data": {
            "image/png": "[encoded data removed]",
            "text/plain": [
              "<Figure size 432x288 with 1 Axes>"
            ]
          },
          "metadata": {
            "tags": [],
            "needs_background": "light"
          }
        },
        {
          "output_type": "display_data",
          "data": {
            "image/png": "[encoded data removed]",
            "text/plain": [
              "<Figure size 432x288 with 1 Axes>"
            ]
          },
          "metadata": {
            "tags": [],
            "needs_background": "light"
          }
        }
      ]
    },
    {
      "cell_type": "code",
      "metadata": {
        "id": "-tAOlAQsZoJV",
        "colab_type": "code",
        "colab": {}
      },
      "source": [
        ""
      ],
      "execution_count": null,
      "outputs": []
    }
  ]
}